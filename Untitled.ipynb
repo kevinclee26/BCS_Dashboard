{
 "cells": [
  {
   "cell_type": "code",
   "execution_count": 1,
   "metadata": {},
   "outputs": [],
   "source": [
    "import pandas as pd\n",
    "import os\n",
    "from datetime import datetime, timedelta\n",
    "import matplotlib.pyplot as plt\n",
    "import math\n",
    "import numpy as np\n",
    "import scipy.stats as sts"
   ]
  },
  {
   "cell_type": "code",
   "execution_count": 31,
   "metadata": {},
   "outputs": [
    {
     "data": {
      "text/plain": [
       "array([584.60692872, 744.0660939 , 611.01419502, ..., 606.60518358,\n",
       "       542.01559087, 689.43763947])"
      ]
     },
     "metadata": {},
     "output_type": "display_data"
    },
    {
     "data": {
      "image/png": "[encoded data removed]",
      "text/plain": [
       "<Figure size 432x288 with 1 Axes>"
      ]
     },
     "metadata": {
      "needs_background": "light"
     },
     "output_type": "display_data"
    }
   ],
   "source": [
    "x=np.random.normal(loc=600, scale=100, size=100000)\n",
    "display(x)\n",
    "# y, x=np.histogram(x, density=True)\n",
    "plt.hist(x, density=True, bins=20)\n",
    "new_list=[]\n",
    "for each_x in x: \n",
    "    if each_x<641: \n",
    "        new_list.append(each_x)\n",
    "z=len(new_list)/len(x)"
   ]
  },
  {
   "cell_type": "code",
   "execution_count": 34,
   "metadata": {},
   "outputs": [
    {
     "data": {
      "text/plain": [
       "641.0"
      ]
     },
     "execution_count": 34,
     "metadata": {},
     "output_type": "execute_result"
    }
   ],
   "source": [
    "x=[650, 730, 510, 670, 480, 800, 690, 530, 590, 620, 710, 670, \n",
    "   640, 780, 650, 490, 800, 600, 510, 700]\n",
    "np.mean(x)"
   ]
  },
  {
   "cell_type": "code",
   "execution_count": 35,
   "metadata": {},
   "outputs": [
    {
     "data": {
      "text/plain": [
       "97.56536270623914"
      ]
     },
     "execution_count": 35,
     "metadata": {},
     "output_type": "execute_result"
    }
   ],
   "source": [
    "np.std(x)"
   ]
  },
  {
   "cell_type": "code",
   "execution_count": null,
   "metadata": {},
   "outputs": [],
   "source": [
    "(641-600)/"
   ]
  },
  {
   "cell_type": "code",
   "execution_count": 32,
   "metadata": {},
   "outputs": [
    {
     "data": {
      "text/plain": [
       "0.6585"
      ]
     },
     "execution_count": 32,
     "metadata": {},
     "output_type": "execute_result"
    }
   ],
   "source": [
    "z"
   ]
  },
  {
   "cell_type": "code",
   "execution_count": 33,
   "metadata": {},
   "outputs": [
    {
     "data": {
      "text/plain": [
       "0.41"
      ]
     },
     "execution_count": 33,
     "metadata": {},
     "output_type": "execute_result"
    }
   ],
   "source": [
    "(641-600)/100"
   ]
  },
  {
   "cell_type": "code",
   "execution_count": null,
   "metadata": {},
   "outputs": [],
   "source": []
  },
  {
   "cell_type": "code",
   "execution_count": null,
   "metadata": {},
   "outputs": [],
   "source": []
  },
  {
   "cell_type": "code",
   "execution_count": 8,
   "metadata": {},
   "outputs": [],
   "source": [
    "file_path=os.path.join('static', 'weeklyFeedback.csv')"
   ]
  },
  {
   "cell_type": "code",
   "execution_count": 9,
   "metadata": {},
   "outputs": [
    {
     "data": {
      "text/html": [
       "<div>\n",
       "<style scoped>\n",
       "    .dataframe tbody tr th:only-of-type {\n",
       "        vertical-align: middle;\n",
       "    }\n",
       "\n",
       "    .dataframe tbody tr th {\n",
       "        vertical-align: top;\n",
       "    }\n",
       "\n",
       "    .dataframe thead th {\n",
       "        text-align: right;\n",
       "    }\n",
       "</style>\n",
       "<table border=\"1\" class=\"dataframe\">\n",
       "  <thead>\n",
       "    <tr style=\"text-align: right;\">\n",
       "      <th></th>\n",
       "      <th>Submission Date</th>\n",
       "      <th>Week</th>\n",
       "      <th>Student Name</th>\n",
       "      <th>Overall Satisfaction</th>\n",
       "      <th>Class Pace</th>\n",
       "      <th>Academic Support</th>\n",
       "      <th>Apply Learning Outside Class</th>\n",
       "      <th>Instructor Engagement</th>\n",
       "      <th>Instructor Clarity</th>\n",
       "      <th>Instructor Knowledge</th>\n",
       "      <th>Homework Feedback Rating</th>\n",
       "      <th>Outside Time Spent</th>\n",
       "    </tr>\n",
       "  </thead>\n",
       "  <tbody>\n",
       "    <tr>\n",
       "      <th>0</th>\n",
       "      <td>12-06-2020</td>\n",
       "      <td>1</td>\n",
       "      <td>Simon Xu</td>\n",
       "      <td>3</td>\n",
       "      <td>3</td>\n",
       "      <td>4</td>\n",
       "      <td>4</td>\n",
       "      <td>4</td>\n",
       "      <td>3</td>\n",
       "      <td>3</td>\n",
       "      <td>3</td>\n",
       "      <td>15-20 hrs</td>\n",
       "    </tr>\n",
       "    <tr>\n",
       "      <th>1</th>\n",
       "      <td>12-06-2020</td>\n",
       "      <td>1</td>\n",
       "      <td>Sara Kayhan</td>\n",
       "      <td>4</td>\n",
       "      <td>4</td>\n",
       "      <td>4</td>\n",
       "      <td>4</td>\n",
       "      <td>4</td>\n",
       "      <td>5</td>\n",
       "      <td>5</td>\n",
       "      <td>0</td>\n",
       "      <td>6-10 hrs</td>\n",
       "    </tr>\n",
       "    <tr>\n",
       "      <th>2</th>\n",
       "      <td>12-06-2020</td>\n",
       "      <td>1</td>\n",
       "      <td>Renuka Kafle</td>\n",
       "      <td>4</td>\n",
       "      <td>4</td>\n",
       "      <td>5</td>\n",
       "      <td>4</td>\n",
       "      <td>5</td>\n",
       "      <td>5</td>\n",
       "      <td>4</td>\n",
       "      <td>0</td>\n",
       "      <td>6-10 hrs</td>\n",
       "    </tr>\n",
       "    <tr>\n",
       "      <th>3</th>\n",
       "      <td>12-06-2020</td>\n",
       "      <td>1</td>\n",
       "      <td>Erich Mitchell</td>\n",
       "      <td>4</td>\n",
       "      <td>2</td>\n",
       "      <td>3</td>\n",
       "      <td>5</td>\n",
       "      <td>4</td>\n",
       "      <td>5</td>\n",
       "      <td>4</td>\n",
       "      <td>3</td>\n",
       "      <td>0-5 hrs</td>\n",
       "    </tr>\n",
       "    <tr>\n",
       "      <th>4</th>\n",
       "      <td>12-06-2020</td>\n",
       "      <td>1</td>\n",
       "      <td>Jennifer-Rose Davis</td>\n",
       "      <td>5</td>\n",
       "      <td>3</td>\n",
       "      <td>5</td>\n",
       "      <td>5</td>\n",
       "      <td>5</td>\n",
       "      <td>5</td>\n",
       "      <td>5</td>\n",
       "      <td>4</td>\n",
       "      <td>+20 hrs</td>\n",
       "    </tr>\n",
       "  </tbody>\n",
       "</table>\n",
       "</div>"
      ],
      "text/plain": [
       "  Submission Date  Week         Student Name  Overall Satisfaction  \\\n",
       "0      12-06-2020     1             Simon Xu                     3   \n",
       "1      12-06-2020     1          Sara Kayhan                     4   \n",
       "2      12-06-2020     1         Renuka Kafle                     4   \n",
       "3      12-06-2020     1       Erich Mitchell                     4   \n",
       "4      12-06-2020     1  Jennifer-Rose Davis                     5   \n",
       "\n",
       "   Class Pace  Academic Support  Apply Learning Outside Class  \\\n",
       "0           3                 4                             4   \n",
       "1           4                 4                             4   \n",
       "2           4                 5                             4   \n",
       "3           2                 3                             5   \n",
       "4           3                 5                             5   \n",
       "\n",
       "   Instructor Engagement  Instructor Clarity  Instructor Knowledge  \\\n",
       "0                      4                   3                     3   \n",
       "1                      4                   5                     5   \n",
       "2                      5                   5                     4   \n",
       "3                      4                   5                     4   \n",
       "4                      5                   5                     5   \n",
       "\n",
       "   Homework Feedback Rating Outside Time Spent  \n",
       "0                         3          15-20 hrs  \n",
       "1                         0           6-10 hrs  \n",
       "2                         0           6-10 hrs  \n",
       "3                         3            0-5 hrs  \n",
       "4                         4            +20 hrs  "
      ]
     },
     "execution_count": 9,
     "metadata": {},
     "output_type": "execute_result"
    }
   ],
   "source": [
    "df=pd.read_csv(file_path)\n",
    "df=df.drop('Course Name', axis=1)\n",
    "df.head()"
   ]
  },
  {
   "cell_type": "code",
   "execution_count": 99,
   "metadata": {},
   "outputs": [],
   "source": [
    "def get_week_of(sub_date): \n",
    "    dow=sub_date.dayofweek\n",
    "    if dow<2: \n",
    "        week_of=sub_date-timedelta(days=dow+7)\n",
    "    else: \n",
    "        week_of=sub_date-timedelta(days=dow)\n",
    "    return week_of"
   ]
  },
  {
   "cell_type": "code",
   "execution_count": 100,
   "metadata": {
    "scrolled": false
   },
   "outputs": [
    {
     "data": {
      "text/html": [
       "<div>\n",
       "<style scoped>\n",
       "    .dataframe tbody tr th:only-of-type {\n",
       "        vertical-align: middle;\n",
       "    }\n",
       "\n",
       "    .dataframe tbody tr th {\n",
       "        vertical-align: top;\n",
       "    }\n",
       "\n",
       "    .dataframe thead th {\n",
       "        text-align: right;\n",
       "    }\n",
       "</style>\n",
       "<table border=\"1\" class=\"dataframe\">\n",
       "  <thead>\n",
       "    <tr style=\"text-align: right;\">\n",
       "      <th></th>\n",
       "      <th>Submission Date</th>\n",
       "      <th>Week</th>\n",
       "      <th>Student Name</th>\n",
       "      <th>Overall Satisfaction</th>\n",
       "      <th>Class Pace</th>\n",
       "      <th>Academic Support</th>\n",
       "      <th>Apply Learning Outside Class</th>\n",
       "      <th>Instructor Engagement</th>\n",
       "      <th>Instructor Clarity</th>\n",
       "      <th>Instructor Knowledge</th>\n",
       "      <th>Homework Feedback Rating</th>\n",
       "      <th>Outside Time Spent</th>\n",
       "      <th>Week of</th>\n",
       "      <th>DOW</th>\n",
       "      <th>Week of 2</th>\n",
       "    </tr>\n",
       "  </thead>\n",
       "  <tbody>\n",
       "    <tr>\n",
       "      <th>0</th>\n",
       "      <td>12-06-2020</td>\n",
       "      <td>1</td>\n",
       "      <td>Simon Xu</td>\n",
       "      <td>3</td>\n",
       "      <td>3</td>\n",
       "      <td>4</td>\n",
       "      <td>4</td>\n",
       "      <td>4</td>\n",
       "      <td>3</td>\n",
       "      <td>3</td>\n",
       "      <td>3</td>\n",
       "      <td>15-20 hrs</td>\n",
       "      <td>2020-11-30</td>\n",
       "      <td>6</td>\n",
       "      <td>2020-11-30</td>\n",
       "    </tr>\n",
       "    <tr>\n",
       "      <th>1</th>\n",
       "      <td>12-06-2020</td>\n",
       "      <td>1</td>\n",
       "      <td>Sara Kayhan</td>\n",
       "      <td>4</td>\n",
       "      <td>4</td>\n",
       "      <td>4</td>\n",
       "      <td>4</td>\n",
       "      <td>4</td>\n",
       "      <td>5</td>\n",
       "      <td>5</td>\n",
       "      <td>0</td>\n",
       "      <td>6-10 hrs</td>\n",
       "      <td>2020-11-30</td>\n",
       "      <td>6</td>\n",
       "      <td>2020-11-30</td>\n",
       "    </tr>\n",
       "    <tr>\n",
       "      <th>2</th>\n",
       "      <td>12-06-2020</td>\n",
       "      <td>1</td>\n",
       "      <td>Renuka Kafle</td>\n",
       "      <td>4</td>\n",
       "      <td>4</td>\n",
       "      <td>5</td>\n",
       "      <td>4</td>\n",
       "      <td>5</td>\n",
       "      <td>5</td>\n",
       "      <td>4</td>\n",
       "      <td>0</td>\n",
       "      <td>6-10 hrs</td>\n",
       "      <td>2020-11-30</td>\n",
       "      <td>6</td>\n",
       "      <td>2020-11-30</td>\n",
       "    </tr>\n",
       "    <tr>\n",
       "      <th>3</th>\n",
       "      <td>12-06-2020</td>\n",
       "      <td>1</td>\n",
       "      <td>Erich Mitchell</td>\n",
       "      <td>4</td>\n",
       "      <td>2</td>\n",
       "      <td>3</td>\n",
       "      <td>5</td>\n",
       "      <td>4</td>\n",
       "      <td>5</td>\n",
       "      <td>4</td>\n",
       "      <td>3</td>\n",
       "      <td>0-5 hrs</td>\n",
       "      <td>2020-11-30</td>\n",
       "      <td>6</td>\n",
       "      <td>2020-11-30</td>\n",
       "    </tr>\n",
       "    <tr>\n",
       "      <th>4</th>\n",
       "      <td>12-06-2020</td>\n",
       "      <td>1</td>\n",
       "      <td>Jennifer-Rose Davis</td>\n",
       "      <td>5</td>\n",
       "      <td>3</td>\n",
       "      <td>5</td>\n",
       "      <td>5</td>\n",
       "      <td>5</td>\n",
       "      <td>5</td>\n",
       "      <td>5</td>\n",
       "      <td>4</td>\n",
       "      <td>+20 hrs</td>\n",
       "      <td>2020-11-30</td>\n",
       "      <td>6</td>\n",
       "      <td>2020-11-30</td>\n",
       "    </tr>\n",
       "  </tbody>\n",
       "</table>\n",
       "</div>"
      ],
      "text/plain": [
       "  Submission Date  Week         Student Name  Overall Satisfaction  \\\n",
       "0      12-06-2020     1             Simon Xu                     3   \n",
       "1      12-06-2020     1          Sara Kayhan                     4   \n",
       "2      12-06-2020     1         Renuka Kafle                     4   \n",
       "3      12-06-2020     1       Erich Mitchell                     4   \n",
       "4      12-06-2020     1  Jennifer-Rose Davis                     5   \n",
       "\n",
       "   Class Pace  Academic Support  Apply Learning Outside Class  \\\n",
       "0           3                 4                             4   \n",
       "1           4                 4                             4   \n",
       "2           4                 5                             4   \n",
       "3           2                 3                             5   \n",
       "4           3                 5                             5   \n",
       "\n",
       "   Instructor Engagement  Instructor Clarity  Instructor Knowledge  \\\n",
       "0                      4                   3                     3   \n",
       "1                      4                   5                     5   \n",
       "2                      5                   5                     4   \n",
       "3                      4                   5                     4   \n",
       "4                      5                   5                     5   \n",
       "\n",
       "   Homework Feedback Rating Outside Time Spent    Week of  DOW  Week of 2  \n",
       "0                         3          15-20 hrs 2020-11-30    6 2020-11-30  \n",
       "1                         0           6-10 hrs 2020-11-30    6 2020-11-30  \n",
       "2                         0           6-10 hrs 2020-11-30    6 2020-11-30  \n",
       "3                         3            0-5 hrs 2020-11-30    6 2020-11-30  \n",
       "4                         4            +20 hrs 2020-11-30    6 2020-11-30  "
      ]
     },
     "execution_count": 100,
     "metadata": {},
     "output_type": "execute_result"
    }
   ],
   "source": [
    "sub=pd.to_datetime(df['Submission Date'])\n",
    "# sub-pd.Timedelta(days=sub.dt.dayofweek)\n",
    "# df['Submission Date'].dtype#.map(lambda x: x-x.dow)\n",
    "# for idx, row in sub.iteritems(): \n",
    "#     print(row-row.dayofweek)\n",
    "df['Week of']=sub.apply(lambda x: x-timedelta(days=x.dayofweek))\n",
    "df['Week of 2']=sub.apply(get_week_of)\n",
    "df['DOW']=sub.dt.dayofweek\n",
    "df.head()"
   ]
  },
  {
   "cell_type": "code",
   "execution_count": 101,
   "metadata": {},
   "outputs": [
    {
     "data": {
      "text/plain": [
       "Index(['Submission Date', 'Week', 'Student Name', 'Overall Satisfaction',\n",
       "       'Class Pace', 'Academic Support', 'Apply Learning Outside Class',\n",
       "       'Instructor Engagement', 'Instructor Clarity', 'Instructor Knowledge',\n",
       "       'Homework Feedback Rating', 'Outside Time Spent', 'Week of', 'DOW',\n",
       "       'Week of 2'],\n",
       "      dtype='object')"
      ]
     },
     "execution_count": 101,
     "metadata": {},
     "output_type": "execute_result"
    }
   ],
   "source": [
    "df.columns"
   ]
  },
  {
   "cell_type": "code",
   "execution_count": 102,
   "metadata": {},
   "outputs": [
    {
     "data": {
      "text/html": [
       "<div>\n",
       "<style scoped>\n",
       "    .dataframe tbody tr th:only-of-type {\n",
       "        vertical-align: middle;\n",
       "    }\n",
       "\n",
       "    .dataframe tbody tr th {\n",
       "        vertical-align: top;\n",
       "    }\n",
       "\n",
       "    .dataframe thead th {\n",
       "        text-align: right;\n",
       "    }\n",
       "</style>\n",
       "<table border=\"1\" class=\"dataframe\">\n",
       "  <thead>\n",
       "    <tr style=\"text-align: right;\">\n",
       "      <th></th>\n",
       "      <th>Submission Date</th>\n",
       "      <th>Week</th>\n",
       "      <th>Student Name</th>\n",
       "      <th>Overall Satisfaction</th>\n",
       "      <th>Class Pace</th>\n",
       "      <th>Academic Support</th>\n",
       "      <th>Apply Learning Outside Class</th>\n",
       "      <th>Instructor Engagement</th>\n",
       "      <th>Instructor Clarity</th>\n",
       "      <th>Instructor Knowledge</th>\n",
       "      <th>Homework Feedback Rating</th>\n",
       "      <th>Outside Time Spent</th>\n",
       "      <th>Week of</th>\n",
       "      <th>DOW</th>\n",
       "      <th>Week of 2</th>\n",
       "    </tr>\n",
       "  </thead>\n",
       "  <tbody>\n",
       "    <tr>\n",
       "      <th>0</th>\n",
       "      <td>12-06-2020</td>\n",
       "      <td>1</td>\n",
       "      <td>Simon Xu</td>\n",
       "      <td>3</td>\n",
       "      <td>3</td>\n",
       "      <td>4</td>\n",
       "      <td>4</td>\n",
       "      <td>4</td>\n",
       "      <td>3</td>\n",
       "      <td>3</td>\n",
       "      <td>3</td>\n",
       "      <td>15-20 hrs</td>\n",
       "      <td>2020-11-30</td>\n",
       "      <td>6</td>\n",
       "      <td>2020-11-30</td>\n",
       "    </tr>\n",
       "    <tr>\n",
       "      <th>1</th>\n",
       "      <td>12-06-2020</td>\n",
       "      <td>1</td>\n",
       "      <td>Sara Kayhan</td>\n",
       "      <td>4</td>\n",
       "      <td>4</td>\n",
       "      <td>4</td>\n",
       "      <td>4</td>\n",
       "      <td>4</td>\n",
       "      <td>5</td>\n",
       "      <td>5</td>\n",
       "      <td>0</td>\n",
       "      <td>6-10 hrs</td>\n",
       "      <td>2020-11-30</td>\n",
       "      <td>6</td>\n",
       "      <td>2020-11-30</td>\n",
       "    </tr>\n",
       "    <tr>\n",
       "      <th>2</th>\n",
       "      <td>12-06-2020</td>\n",
       "      <td>1</td>\n",
       "      <td>Renuka Kafle</td>\n",
       "      <td>4</td>\n",
       "      <td>4</td>\n",
       "      <td>5</td>\n",
       "      <td>4</td>\n",
       "      <td>5</td>\n",
       "      <td>5</td>\n",
       "      <td>4</td>\n",
       "      <td>0</td>\n",
       "      <td>6-10 hrs</td>\n",
       "      <td>2020-11-30</td>\n",
       "      <td>6</td>\n",
       "      <td>2020-11-30</td>\n",
       "    </tr>\n",
       "    <tr>\n",
       "      <th>3</th>\n",
       "      <td>12-06-2020</td>\n",
       "      <td>1</td>\n",
       "      <td>Erich Mitchell</td>\n",
       "      <td>4</td>\n",
       "      <td>2</td>\n",
       "      <td>3</td>\n",
       "      <td>5</td>\n",
       "      <td>4</td>\n",
       "      <td>5</td>\n",
       "      <td>4</td>\n",
       "      <td>3</td>\n",
       "      <td>0-5 hrs</td>\n",
       "      <td>2020-11-30</td>\n",
       "      <td>6</td>\n",
       "      <td>2020-11-30</td>\n",
       "    </tr>\n",
       "    <tr>\n",
       "      <th>4</th>\n",
       "      <td>12-06-2020</td>\n",
       "      <td>1</td>\n",
       "      <td>Jennifer-Rose Davis</td>\n",
       "      <td>5</td>\n",
       "      <td>3</td>\n",
       "      <td>5</td>\n",
       "      <td>5</td>\n",
       "      <td>5</td>\n",
       "      <td>5</td>\n",
       "      <td>5</td>\n",
       "      <td>4</td>\n",
       "      <td>+20 hrs</td>\n",
       "      <td>2020-11-30</td>\n",
       "      <td>6</td>\n",
       "      <td>2020-11-30</td>\n",
       "    </tr>\n",
       "  </tbody>\n",
       "</table>\n",
       "</div>"
      ],
      "text/plain": [
       "  Submission Date  Week         Student Name  Overall Satisfaction  \\\n",
       "0      12-06-2020     1             Simon Xu                     3   \n",
       "1      12-06-2020     1          Sara Kayhan                     4   \n",
       "2      12-06-2020     1         Renuka Kafle                     4   \n",
       "3      12-06-2020     1       Erich Mitchell                     4   \n",
       "4      12-06-2020     1  Jennifer-Rose Davis                     5   \n",
       "\n",
       "   Class Pace  Academic Support  Apply Learning Outside Class  \\\n",
       "0           3                 4                             4   \n",
       "1           4                 4                             4   \n",
       "2           4                 5                             4   \n",
       "3           2                 3                             5   \n",
       "4           3                 5                             5   \n",
       "\n",
       "   Instructor Engagement  Instructor Clarity  Instructor Knowledge  \\\n",
       "0                      4                   3                     3   \n",
       "1                      4                   5                     5   \n",
       "2                      5                   5                     4   \n",
       "3                      4                   5                     4   \n",
       "4                      5                   5                     5   \n",
       "\n",
       "   Homework Feedback Rating Outside Time Spent    Week of  DOW  Week of 2  \n",
       "0                         3          15-20 hrs 2020-11-30    6 2020-11-30  \n",
       "1                         0           6-10 hrs 2020-11-30    6 2020-11-30  \n",
       "2                         0           6-10 hrs 2020-11-30    6 2020-11-30  \n",
       "3                         3            0-5 hrs 2020-11-30    6 2020-11-30  \n",
       "4                         4            +20 hrs 2020-11-30    6 2020-11-30  "
      ]
     },
     "execution_count": 102,
     "metadata": {},
     "output_type": "execute_result"
    }
   ],
   "source": [
    "df.head()"
   ]
  },
  {
   "cell_type": "code",
   "execution_count": 103,
   "metadata": {},
   "outputs": [
    {
     "data": {
      "text/html": [
       "<div>\n",
       "<style scoped>\n",
       "    .dataframe tbody tr th:only-of-type {\n",
       "        vertical-align: middle;\n",
       "    }\n",
       "\n",
       "    .dataframe tbody tr th {\n",
       "        vertical-align: top;\n",
       "    }\n",
       "\n",
       "    .dataframe thead th {\n",
       "        text-align: right;\n",
       "    }\n",
       "</style>\n",
       "<table border=\"1\" class=\"dataframe\">\n",
       "  <thead>\n",
       "    <tr style=\"text-align: right;\">\n",
       "      <th></th>\n",
       "      <th>Submission Date</th>\n",
       "      <th>Week</th>\n",
       "      <th>DOW</th>\n",
       "      <th>Week of</th>\n",
       "      <th>Week of 2</th>\n",
       "    </tr>\n",
       "  </thead>\n",
       "  <tbody>\n",
       "    <tr>\n",
       "      <th>0</th>\n",
       "      <td>12-06-2020</td>\n",
       "      <td>1</td>\n",
       "      <td>6</td>\n",
       "      <td>2020-11-30</td>\n",
       "      <td>2020-11-30</td>\n",
       "    </tr>\n",
       "    <tr>\n",
       "      <th>5</th>\n",
       "      <td>12-07-2020</td>\n",
       "      <td>1</td>\n",
       "      <td>0</td>\n",
       "      <td>2020-12-07</td>\n",
       "      <td>2020-11-30</td>\n",
       "    </tr>\n",
       "    <tr>\n",
       "      <th>23</th>\n",
       "      <td>12-08-2020</td>\n",
       "      <td>1</td>\n",
       "      <td>1</td>\n",
       "      <td>2020-12-07</td>\n",
       "      <td>2020-11-30</td>\n",
       "    </tr>\n",
       "    <tr>\n",
       "      <th>39</th>\n",
       "      <td>12-13-2020</td>\n",
       "      <td>2</td>\n",
       "      <td>6</td>\n",
       "      <td>2020-12-07</td>\n",
       "      <td>2020-12-07</td>\n",
       "    </tr>\n",
       "    <tr>\n",
       "      <th>47</th>\n",
       "      <td>12-14-2020</td>\n",
       "      <td>2</td>\n",
       "      <td>0</td>\n",
       "      <td>2020-12-14</td>\n",
       "      <td>2020-12-07</td>\n",
       "    </tr>\n",
       "    <tr>\n",
       "      <th>58</th>\n",
       "      <td>12-15-2020</td>\n",
       "      <td>2</td>\n",
       "      <td>1</td>\n",
       "      <td>2020-12-14</td>\n",
       "      <td>2020-12-07</td>\n",
       "    </tr>\n",
       "    <tr>\n",
       "      <th>78</th>\n",
       "      <td>11-12-2020</td>\n",
       "      <td>3</td>\n",
       "      <td>3</td>\n",
       "      <td>2020-11-09</td>\n",
       "      <td>2020-11-09</td>\n",
       "    </tr>\n",
       "    <tr>\n",
       "      <th>79</th>\n",
       "      <td>12-20-2020</td>\n",
       "      <td>3</td>\n",
       "      <td>6</td>\n",
       "      <td>2020-12-14</td>\n",
       "      <td>2020-12-14</td>\n",
       "    </tr>\n",
       "    <tr>\n",
       "      <th>85</th>\n",
       "      <td>12-21-2020</td>\n",
       "      <td>3</td>\n",
       "      <td>0</td>\n",
       "      <td>2020-12-21</td>\n",
       "      <td>2020-12-14</td>\n",
       "    </tr>\n",
       "    <tr>\n",
       "      <th>96</th>\n",
       "      <td>12-22-2020</td>\n",
       "      <td>3</td>\n",
       "      <td>1</td>\n",
       "      <td>2020-12-21</td>\n",
       "      <td>2020-12-14</td>\n",
       "    </tr>\n",
       "    <tr>\n",
       "      <th>99</th>\n",
       "      <td>12-23-2020</td>\n",
       "      <td>3</td>\n",
       "      <td>2</td>\n",
       "      <td>2020-12-21</td>\n",
       "      <td>2020-12-21</td>\n",
       "    </tr>\n",
       "    <tr>\n",
       "      <th>103</th>\n",
       "      <td>12-24-2020</td>\n",
       "      <td>3</td>\n",
       "      <td>3</td>\n",
       "      <td>2020-12-21</td>\n",
       "      <td>2020-12-21</td>\n",
       "    </tr>\n",
       "    <tr>\n",
       "      <th>106</th>\n",
       "      <td>12-26-2020</td>\n",
       "      <td>3</td>\n",
       "      <td>5</td>\n",
       "      <td>2020-12-21</td>\n",
       "      <td>2020-12-21</td>\n",
       "    </tr>\n",
       "    <tr>\n",
       "      <th>108</th>\n",
       "      <td>12-27-2020</td>\n",
       "      <td>3</td>\n",
       "      <td>6</td>\n",
       "      <td>2020-12-21</td>\n",
       "      <td>2020-12-21</td>\n",
       "    </tr>\n",
       "    <tr>\n",
       "      <th>109</th>\n",
       "      <td>12-27-2020</td>\n",
       "      <td>4</td>\n",
       "      <td>6</td>\n",
       "      <td>2020-12-21</td>\n",
       "      <td>2020-12-21</td>\n",
       "    </tr>\n",
       "    <tr>\n",
       "      <th>114</th>\n",
       "      <td>12-28-2020</td>\n",
       "      <td>4</td>\n",
       "      <td>0</td>\n",
       "      <td>2020-12-28</td>\n",
       "      <td>2020-12-21</td>\n",
       "    </tr>\n",
       "    <tr>\n",
       "      <th>129</th>\n",
       "      <td>12-29-2020</td>\n",
       "      <td>4</td>\n",
       "      <td>1</td>\n",
       "      <td>2020-12-28</td>\n",
       "      <td>2020-12-21</td>\n",
       "    </tr>\n",
       "    <tr>\n",
       "      <th>133</th>\n",
       "      <td>12-30-2020</td>\n",
       "      <td>4</td>\n",
       "      <td>2</td>\n",
       "      <td>2020-12-28</td>\n",
       "      <td>2020-12-28</td>\n",
       "    </tr>\n",
       "    <tr>\n",
       "      <th>137</th>\n",
       "      <td>12-31-2020</td>\n",
       "      <td>4</td>\n",
       "      <td>3</td>\n",
       "      <td>2020-12-28</td>\n",
       "      <td>2020-12-28</td>\n",
       "    </tr>\n",
       "    <tr>\n",
       "      <th>138</th>\n",
       "      <td>01-01-2021</td>\n",
       "      <td>4</td>\n",
       "      <td>4</td>\n",
       "      <td>2020-12-28</td>\n",
       "      <td>2020-12-28</td>\n",
       "    </tr>\n",
       "    <tr>\n",
       "      <th>139</th>\n",
       "      <td>01-03-2021</td>\n",
       "      <td>4</td>\n",
       "      <td>6</td>\n",
       "      <td>2020-12-28</td>\n",
       "      <td>2020-12-28</td>\n",
       "    </tr>\n",
       "    <tr>\n",
       "      <th>141</th>\n",
       "      <td>01-03-2021</td>\n",
       "      <td>5</td>\n",
       "      <td>6</td>\n",
       "      <td>2020-12-28</td>\n",
       "      <td>2020-12-28</td>\n",
       "    </tr>\n",
       "    <tr>\n",
       "      <th>144</th>\n",
       "      <td>01-04-2021</td>\n",
       "      <td>5</td>\n",
       "      <td>0</td>\n",
       "      <td>2021-01-04</td>\n",
       "      <td>2020-12-28</td>\n",
       "    </tr>\n",
       "    <tr>\n",
       "      <th>162</th>\n",
       "      <td>01-05-2021</td>\n",
       "      <td>5</td>\n",
       "      <td>1</td>\n",
       "      <td>2021-01-04</td>\n",
       "      <td>2020-12-28</td>\n",
       "    </tr>\n",
       "    <tr>\n",
       "      <th>179</th>\n",
       "      <td>01-06-2021</td>\n",
       "      <td>5</td>\n",
       "      <td>2</td>\n",
       "      <td>2021-01-04</td>\n",
       "      <td>2021-01-04</td>\n",
       "    </tr>\n",
       "    <tr>\n",
       "      <th>180</th>\n",
       "      <td>01-10-2021</td>\n",
       "      <td>6</td>\n",
       "      <td>6</td>\n",
       "      <td>2021-01-04</td>\n",
       "      <td>2021-01-04</td>\n",
       "    </tr>\n",
       "    <tr>\n",
       "      <th>186</th>\n",
       "      <td>01-11-2021</td>\n",
       "      <td>6</td>\n",
       "      <td>0</td>\n",
       "      <td>2021-01-11</td>\n",
       "      <td>2021-01-04</td>\n",
       "    </tr>\n",
       "    <tr>\n",
       "      <th>203</th>\n",
       "      <td>01-12-2021</td>\n",
       "      <td>6</td>\n",
       "      <td>1</td>\n",
       "      <td>2021-01-11</td>\n",
       "      <td>2021-01-04</td>\n",
       "    </tr>\n",
       "    <tr>\n",
       "      <th>218</th>\n",
       "      <td>01-17-2021</td>\n",
       "      <td>7</td>\n",
       "      <td>6</td>\n",
       "      <td>2021-01-11</td>\n",
       "      <td>2021-01-11</td>\n",
       "    </tr>\n",
       "    <tr>\n",
       "      <th>220</th>\n",
       "      <td>01-18-2021</td>\n",
       "      <td>7</td>\n",
       "      <td>0</td>\n",
       "      <td>2021-01-18</td>\n",
       "      <td>2021-01-11</td>\n",
       "    </tr>\n",
       "    <tr>\n",
       "      <th>235</th>\n",
       "      <td>01-19-2021</td>\n",
       "      <td>7</td>\n",
       "      <td>1</td>\n",
       "      <td>2021-01-18</td>\n",
       "      <td>2021-01-11</td>\n",
       "    </tr>\n",
       "    <tr>\n",
       "      <th>255</th>\n",
       "      <td>01-21-2021</td>\n",
       "      <td>7</td>\n",
       "      <td>3</td>\n",
       "      <td>2021-01-18</td>\n",
       "      <td>2021-01-18</td>\n",
       "    </tr>\n",
       "    <tr>\n",
       "      <th>256</th>\n",
       "      <td>01-24-2021</td>\n",
       "      <td>8</td>\n",
       "      <td>6</td>\n",
       "      <td>2021-01-18</td>\n",
       "      <td>2021-01-18</td>\n",
       "    </tr>\n",
       "    <tr>\n",
       "      <th>263</th>\n",
       "      <td>01-25-2021</td>\n",
       "      <td>8</td>\n",
       "      <td>0</td>\n",
       "      <td>2021-01-25</td>\n",
       "      <td>2021-01-18</td>\n",
       "    </tr>\n",
       "    <tr>\n",
       "      <th>278</th>\n",
       "      <td>01-26-2021</td>\n",
       "      <td>8</td>\n",
       "      <td>1</td>\n",
       "      <td>2021-01-25</td>\n",
       "      <td>2021-01-18</td>\n",
       "    </tr>\n",
       "    <tr>\n",
       "      <th>293</th>\n",
       "      <td>01-28-2021</td>\n",
       "      <td>8</td>\n",
       "      <td>3</td>\n",
       "      <td>2021-01-25</td>\n",
       "      <td>2021-01-25</td>\n",
       "    </tr>\n",
       "    <tr>\n",
       "      <th>295</th>\n",
       "      <td>01-31-2021</td>\n",
       "      <td>9</td>\n",
       "      <td>6</td>\n",
       "      <td>2021-01-25</td>\n",
       "      <td>2021-01-25</td>\n",
       "    </tr>\n",
       "    <tr>\n",
       "      <th>302</th>\n",
       "      <td>02-01-2021</td>\n",
       "      <td>9</td>\n",
       "      <td>0</td>\n",
       "      <td>2021-02-01</td>\n",
       "      <td>2021-01-25</td>\n",
       "    </tr>\n",
       "  </tbody>\n",
       "</table>\n",
       "</div>"
      ],
      "text/plain": [
       "    Submission Date  Week  DOW    Week of  Week of 2\n",
       "0        12-06-2020     1    6 2020-11-30 2020-11-30\n",
       "5        12-07-2020     1    0 2020-12-07 2020-11-30\n",
       "23       12-08-2020     1    1 2020-12-07 2020-11-30\n",
       "39       12-13-2020     2    6 2020-12-07 2020-12-07\n",
       "47       12-14-2020     2    0 2020-12-14 2020-12-07\n",
       "58       12-15-2020     2    1 2020-12-14 2020-12-07\n",
       "78       11-12-2020     3    3 2020-11-09 2020-11-09\n",
       "79       12-20-2020     3    6 2020-12-14 2020-12-14\n",
       "85       12-21-2020     3    0 2020-12-21 2020-12-14\n",
       "96       12-22-2020     3    1 2020-12-21 2020-12-14\n",
       "99       12-23-2020     3    2 2020-12-21 2020-12-21\n",
       "103      12-24-2020     3    3 2020-12-21 2020-12-21\n",
       "106      12-26-2020     3    5 2020-12-21 2020-12-21\n",
       "108      12-27-2020     3    6 2020-12-21 2020-12-21\n",
       "109      12-27-2020     4    6 2020-12-21 2020-12-21\n",
       "114      12-28-2020     4    0 2020-12-28 2020-12-21\n",
       "129      12-29-2020     4    1 2020-12-28 2020-12-21\n",
       "133      12-30-2020     4    2 2020-12-28 2020-12-28\n",
       "137      12-31-2020     4    3 2020-12-28 2020-12-28\n",
       "138      01-01-2021     4    4 2020-12-28 2020-12-28\n",
       "139      01-03-2021     4    6 2020-12-28 2020-12-28\n",
       "141      01-03-2021     5    6 2020-12-28 2020-12-28\n",
       "144      01-04-2021     5    0 2021-01-04 2020-12-28\n",
       "162      01-05-2021     5    1 2021-01-04 2020-12-28\n",
       "179      01-06-2021     5    2 2021-01-04 2021-01-04\n",
       "180      01-10-2021     6    6 2021-01-04 2021-01-04\n",
       "186      01-11-2021     6    0 2021-01-11 2021-01-04\n",
       "203      01-12-2021     6    1 2021-01-11 2021-01-04\n",
       "218      01-17-2021     7    6 2021-01-11 2021-01-11\n",
       "220      01-18-2021     7    0 2021-01-18 2021-01-11\n",
       "235      01-19-2021     7    1 2021-01-18 2021-01-11\n",
       "255      01-21-2021     7    3 2021-01-18 2021-01-18\n",
       "256      01-24-2021     8    6 2021-01-18 2021-01-18\n",
       "263      01-25-2021     8    0 2021-01-25 2021-01-18\n",
       "278      01-26-2021     8    1 2021-01-25 2021-01-18\n",
       "293      01-28-2021     8    3 2021-01-25 2021-01-25\n",
       "295      01-31-2021     9    6 2021-01-25 2021-01-25\n",
       "302      02-01-2021     9    0 2021-02-01 2021-01-25"
      ]
     },
     "execution_count": 103,
     "metadata": {},
     "output_type": "execute_result"
    }
   ],
   "source": [
    "df[['Submission Date', 'Week', 'DOW', 'Week of', 'Week of 2']].drop_duplicates()"
   ]
  },
  {
   "cell_type": "code",
   "execution_count": 98,
   "metadata": {
    "scrolled": true
   },
   "outputs": [
    {
     "data": {
      "text/html": [
       "<div>\n",
       "<style scoped>\n",
       "    .dataframe tbody tr th:only-of-type {\n",
       "        vertical-align: middle;\n",
       "    }\n",
       "\n",
       "    .dataframe tbody tr th {\n",
       "        vertical-align: top;\n",
       "    }\n",
       "\n",
       "    .dataframe thead th {\n",
       "        text-align: right;\n",
       "    }\n",
       "</style>\n",
       "<table border=\"1\" class=\"dataframe\">\n",
       "  <thead>\n",
       "    <tr style=\"text-align: right;\">\n",
       "      <th></th>\n",
       "      <th>Submission Date</th>\n",
       "      <th>Week</th>\n",
       "      <th>Student Name</th>\n",
       "      <th>Overall Satisfaction</th>\n",
       "      <th>Class Pace</th>\n",
       "      <th>Academic Support</th>\n",
       "      <th>Apply Learning Outside Class</th>\n",
       "      <th>Instructor Engagement</th>\n",
       "      <th>Instructor Clarity</th>\n",
       "      <th>Instructor Knowledge</th>\n",
       "      <th>Homework Feedback Rating</th>\n",
       "      <th>Outside Time Spent</th>\n",
       "      <th>Week of</th>\n",
       "      <th>DOW</th>\n",
       "      <th>Week of 2</th>\n",
       "    </tr>\n",
       "  </thead>\n",
       "  <tbody>\n",
       "    <tr>\n",
       "      <th>306</th>\n",
       "      <td>02-01-2021</td>\n",
       "      <td>9</td>\n",
       "      <td>Felix Pronove</td>\n",
       "      <td>4</td>\n",
       "      <td>4</td>\n",
       "      <td>4</td>\n",
       "      <td>4</td>\n",
       "      <td>4</td>\n",
       "      <td>4</td>\n",
       "      <td>4</td>\n",
       "      <td>0</td>\n",
       "      <td>15-20 hrs</td>\n",
       "      <td>2021-02-01</td>\n",
       "      <td>0</td>\n",
       "      <td>2021-02-01</td>\n",
       "    </tr>\n",
       "    <tr>\n",
       "      <th>307</th>\n",
       "      <td>02-01-2021</td>\n",
       "      <td>9</td>\n",
       "      <td>Ric Martinez</td>\n",
       "      <td>4</td>\n",
       "      <td>4</td>\n",
       "      <td>3</td>\n",
       "      <td>4</td>\n",
       "      <td>4</td>\n",
       "      <td>4</td>\n",
       "      <td>4</td>\n",
       "      <td>4</td>\n",
       "      <td>11-15 hrs</td>\n",
       "      <td>2021-02-01</td>\n",
       "      <td>0</td>\n",
       "      <td>2021-02-01</td>\n",
       "    </tr>\n",
       "    <tr>\n",
       "      <th>308</th>\n",
       "      <td>02-01-2021</td>\n",
       "      <td>9</td>\n",
       "      <td>Mark Blankenship</td>\n",
       "      <td>3</td>\n",
       "      <td>4</td>\n",
       "      <td>3</td>\n",
       "      <td>3</td>\n",
       "      <td>4</td>\n",
       "      <td>4</td>\n",
       "      <td>4</td>\n",
       "      <td>2</td>\n",
       "      <td>+20 hrs</td>\n",
       "      <td>2021-02-01</td>\n",
       "      <td>0</td>\n",
       "      <td>2021-02-01</td>\n",
       "    </tr>\n",
       "    <tr>\n",
       "      <th>309</th>\n",
       "      <td>02-01-2021</td>\n",
       "      <td>9</td>\n",
       "      <td>Anna Sours</td>\n",
       "      <td>3</td>\n",
       "      <td>3</td>\n",
       "      <td>4</td>\n",
       "      <td>2</td>\n",
       "      <td>3</td>\n",
       "      <td>2</td>\n",
       "      <td>3</td>\n",
       "      <td>2</td>\n",
       "      <td>15-20 hrs</td>\n",
       "      <td>2021-02-01</td>\n",
       "      <td>0</td>\n",
       "      <td>2021-02-01</td>\n",
       "    </tr>\n",
       "    <tr>\n",
       "      <th>310</th>\n",
       "      <td>02-01-2021</td>\n",
       "      <td>9</td>\n",
       "      <td>Swati Dham</td>\n",
       "      <td>4</td>\n",
       "      <td>4</td>\n",
       "      <td>5</td>\n",
       "      <td>5</td>\n",
       "      <td>4</td>\n",
       "      <td>4</td>\n",
       "      <td>5</td>\n",
       "      <td>5</td>\n",
       "      <td>11-15 hrs</td>\n",
       "      <td>2021-02-01</td>\n",
       "      <td>0</td>\n",
       "      <td>2021-02-01</td>\n",
       "    </tr>\n",
       "  </tbody>\n",
       "</table>\n",
       "</div>"
      ],
      "text/plain": [
       "    Submission Date  Week      Student Name  Overall Satisfaction  Class Pace  \\\n",
       "306      02-01-2021     9     Felix Pronove                     4           4   \n",
       "307      02-01-2021     9      Ric Martinez                     4           4   \n",
       "308      02-01-2021     9  Mark Blankenship                     3           4   \n",
       "309      02-01-2021     9        Anna Sours                     3           3   \n",
       "310      02-01-2021     9        Swati Dham                     4           4   \n",
       "\n",
       "     Academic Support  Apply Learning Outside Class  Instructor Engagement  \\\n",
       "306                 4                             4                      4   \n",
       "307                 3                             4                      4   \n",
       "308                 3                             3                      4   \n",
       "309                 4                             2                      3   \n",
       "310                 5                             5                      4   \n",
       "\n",
       "     Instructor Clarity  Instructor Knowledge  Homework Feedback Rating  \\\n",
       "306                   4                     4                         0   \n",
       "307                   4                     4                         4   \n",
       "308                   4                     4                         2   \n",
       "309                   2                     3                         2   \n",
       "310                   4                     5                         5   \n",
       "\n",
       "    Outside Time Spent    Week of  DOW  Week of 2  \n",
       "306          15-20 hrs 2021-02-01    0 2021-02-01  \n",
       "307          11-15 hrs 2021-02-01    0 2021-02-01  \n",
       "308            +20 hrs 2021-02-01    0 2021-02-01  \n",
       "309          15-20 hrs 2021-02-01    0 2021-02-01  \n",
       "310          11-15 hrs 2021-02-01    0 2021-02-01  "
      ]
     },
     "execution_count": 98,
     "metadata": {},
     "output_type": "execute_result"
    }
   ],
   "source": [
    "df.tail()"
   ]
  },
  {
   "cell_type": "code",
   "execution_count": 119,
   "metadata": {},
   "outputs": [],
   "source": [
    "stats_cols=['Overall Satisfaction', 'Class Pace', 'Academic Support',\n",
    "       'Apply Learning Outside Class', 'Instructor Engagement',\n",
    "       'Instructor Clarity', 'Instructor Knowledge',\n",
    "       'Homework Feedback Rating']#, 'Outside Time Spent']"
   ]
  },
  {
   "cell_type": "code",
   "execution_count": 87,
   "metadata": {},
   "outputs": [
    {
     "data": {
      "text/html": [
       "<div>\n",
       "<style scoped>\n",
       "    .dataframe tbody tr th:only-of-type {\n",
       "        vertical-align: middle;\n",
       "    }\n",
       "\n",
       "    .dataframe tbody tr th {\n",
       "        vertical-align: top;\n",
       "    }\n",
       "\n",
       "    .dataframe thead th {\n",
       "        text-align: right;\n",
       "    }\n",
       "</style>\n",
       "<table border=\"1\" class=\"dataframe\">\n",
       "  <thead>\n",
       "    <tr style=\"text-align: right;\">\n",
       "      <th></th>\n",
       "      <th>Overall Satisfaction</th>\n",
       "      <th>Class Pace</th>\n",
       "      <th>Academic Support</th>\n",
       "      <th>Apply Learning Outside Class</th>\n",
       "      <th>Instructor Engagement</th>\n",
       "      <th>Instructor Clarity</th>\n",
       "      <th>Instructor Knowledge</th>\n",
       "      <th>Homework Feedback Rating</th>\n",
       "    </tr>\n",
       "    <tr>\n",
       "      <th>Week</th>\n",
       "      <th></th>\n",
       "      <th></th>\n",
       "      <th></th>\n",
       "      <th></th>\n",
       "      <th></th>\n",
       "      <th></th>\n",
       "      <th></th>\n",
       "      <th></th>\n",
       "    </tr>\n",
       "  </thead>\n",
       "  <tbody>\n",
       "    <tr>\n",
       "      <th>1</th>\n",
       "      <td>4.000000</td>\n",
       "      <td>3.307692</td>\n",
       "      <td>4.179487</td>\n",
       "      <td>3.846154</td>\n",
       "      <td>4.025641</td>\n",
       "      <td>4.128205</td>\n",
       "      <td>4.384615</td>\n",
       "      <td>1.794872</td>\n",
       "    </tr>\n",
       "    <tr>\n",
       "      <th>2</th>\n",
       "      <td>3.923077</td>\n",
       "      <td>3.512821</td>\n",
       "      <td>4.128205</td>\n",
       "      <td>3.307692</td>\n",
       "      <td>4.102564</td>\n",
       "      <td>3.923077</td>\n",
       "      <td>4.435897</td>\n",
       "      <td>1.923077</td>\n",
       "    </tr>\n",
       "    <tr>\n",
       "      <th>3</th>\n",
       "      <td>3.774194</td>\n",
       "      <td>3.709677</td>\n",
       "      <td>3.903226</td>\n",
       "      <td>3.193548</td>\n",
       "      <td>3.967742</td>\n",
       "      <td>4.032258</td>\n",
       "      <td>4.419355</td>\n",
       "      <td>2.967742</td>\n",
       "    </tr>\n",
       "    <tr>\n",
       "      <th>4</th>\n",
       "      <td>4.000000</td>\n",
       "      <td>3.875000</td>\n",
       "      <td>3.937500</td>\n",
       "      <td>3.562500</td>\n",
       "      <td>4.000000</td>\n",
       "      <td>4.000000</td>\n",
       "      <td>4.312500</td>\n",
       "      <td>3.156250</td>\n",
       "    </tr>\n",
       "    <tr>\n",
       "      <th>5</th>\n",
       "      <td>3.871795</td>\n",
       "      <td>3.615385</td>\n",
       "      <td>3.666667</td>\n",
       "      <td>3.435897</td>\n",
       "      <td>3.641026</td>\n",
       "      <td>3.666667</td>\n",
       "      <td>3.923077</td>\n",
       "      <td>3.076923</td>\n",
       "    </tr>\n",
       "    <tr>\n",
       "      <th>6</th>\n",
       "      <td>4.105263</td>\n",
       "      <td>3.868421</td>\n",
       "      <td>4.078947</td>\n",
       "      <td>3.552632</td>\n",
       "      <td>4.184211</td>\n",
       "      <td>4.184211</td>\n",
       "      <td>4.473684</td>\n",
       "      <td>3.105263</td>\n",
       "    </tr>\n",
       "    <tr>\n",
       "      <th>7</th>\n",
       "      <td>4.000000</td>\n",
       "      <td>3.815789</td>\n",
       "      <td>4.210526</td>\n",
       "      <td>3.394737</td>\n",
       "      <td>4.184211</td>\n",
       "      <td>4.157895</td>\n",
       "      <td>4.394737</td>\n",
       "      <td>3.526316</td>\n",
       "    </tr>\n",
       "    <tr>\n",
       "      <th>8</th>\n",
       "      <td>3.948718</td>\n",
       "      <td>4.051282</td>\n",
       "      <td>4.076923</td>\n",
       "      <td>3.307692</td>\n",
       "      <td>4.000000</td>\n",
       "      <td>3.846154</td>\n",
       "      <td>4.410256</td>\n",
       "      <td>3.564103</td>\n",
       "    </tr>\n",
       "    <tr>\n",
       "      <th>9</th>\n",
       "      <td>3.750000</td>\n",
       "      <td>3.875000</td>\n",
       "      <td>3.875000</td>\n",
       "      <td>3.375000</td>\n",
       "      <td>4.000000</td>\n",
       "      <td>3.500000</td>\n",
       "      <td>4.250000</td>\n",
       "      <td>2.187500</td>\n",
       "    </tr>\n",
       "  </tbody>\n",
       "</table>\n",
       "</div>"
      ],
      "text/plain": [
       "      Overall Satisfaction  Class Pace  Academic Support  \\\n",
       "Week                                                       \n",
       "1                 4.000000    3.307692          4.179487   \n",
       "2                 3.923077    3.512821          4.128205   \n",
       "3                 3.774194    3.709677          3.903226   \n",
       "4                 4.000000    3.875000          3.937500   \n",
       "5                 3.871795    3.615385          3.666667   \n",
       "6                 4.105263    3.868421          4.078947   \n",
       "7                 4.000000    3.815789          4.210526   \n",
       "8                 3.948718    4.051282          4.076923   \n",
       "9                 3.750000    3.875000          3.875000   \n",
       "\n",
       "      Apply Learning Outside Class  Instructor Engagement  Instructor Clarity  \\\n",
       "Week                                                                            \n",
       "1                         3.846154               4.025641            4.128205   \n",
       "2                         3.307692               4.102564            3.923077   \n",
       "3                         3.193548               3.967742            4.032258   \n",
       "4                         3.562500               4.000000            4.000000   \n",
       "5                         3.435897               3.641026            3.666667   \n",
       "6                         3.552632               4.184211            4.184211   \n",
       "7                         3.394737               4.184211            4.157895   \n",
       "8                         3.307692               4.000000            3.846154   \n",
       "9                         3.375000               4.000000            3.500000   \n",
       "\n",
       "      Instructor Knowledge  Homework Feedback Rating  \n",
       "Week                                                  \n",
       "1                 4.384615                  1.794872  \n",
       "2                 4.435897                  1.923077  \n",
       "3                 4.419355                  2.967742  \n",
       "4                 4.312500                  3.156250  \n",
       "5                 3.923077                  3.076923  \n",
       "6                 4.473684                  3.105263  \n",
       "7                 4.394737                  3.526316  \n",
       "8                 4.410256                  3.564103  \n",
       "9                 4.250000                  2.187500  "
      ]
     },
     "execution_count": 87,
     "metadata": {},
     "output_type": "execute_result"
    }
   ],
   "source": [
    "df.groupby('Week')[stats_cols].mean()"
   ]
  },
  {
   "cell_type": "code",
   "execution_count": 104,
   "metadata": {
    "scrolled": true
   },
   "outputs": [
    {
     "data": {
      "text/plain": [
       "<matplotlib.axes._subplots.AxesSubplot at 0x7fd08edddf28>"
      ]
     },
     "execution_count": 104,
     "metadata": {},
     "output_type": "execute_result"
    },
    {
     "data": {
      "image/png": "[encoded data removed]",
      "text/plain": [
       "<Figure size 432x288 with 1 Axes>"
      ]
     },
     "metadata": {
      "needs_background": "light"
     },
     "output_type": "display_data"
    }
   ],
   "source": [
    "df[['Week', 'Overall Satisfaction']].boxplot(by='Week')"
   ]
  },
  {
   "cell_type": "code",
   "execution_count": 89,
   "metadata": {
    "scrolled": true
   },
   "outputs": [
    {
     "data": {
      "text/plain": [
       "<matplotlib.axes._subplots.AxesSubplot at 0x7fd08e0e1470>"
      ]
     },
     "execution_count": 89,
     "metadata": {},
     "output_type": "execute_result"
    },
    {
     "data": {
      "image/png": "[encoded data removed]",
      "text/plain": [
       "<Figure size 432x288 with 1 Axes>"
      ]
     },
     "metadata": {
      "needs_background": "light"
     },
     "output_type": "display_data"
    }
   ],
   "source": [
    "df[['Overall Satisfaction', 'Week']].pivot(columns='Week').plot(kind='box', rot=90, showmeans=True)"
   ]
  },
  {
   "cell_type": "code",
   "execution_count": 90,
   "metadata": {},
   "outputs": [
    {
     "data": {
      "text/html": [
       "<div>\n",
       "<style scoped>\n",
       "    .dataframe tbody tr th:only-of-type {\n",
       "        vertical-align: middle;\n",
       "    }\n",
       "\n",
       "    .dataframe tbody tr th {\n",
       "        vertical-align: top;\n",
       "    }\n",
       "\n",
       "    .dataframe thead th {\n",
       "        text-align: right;\n",
       "    }\n",
       "</style>\n",
       "<table border=\"1\" class=\"dataframe\">\n",
       "  <thead>\n",
       "    <tr style=\"text-align: right;\">\n",
       "      <th></th>\n",
       "      <th>Overall Satisfaction</th>\n",
       "    </tr>\n",
       "    <tr>\n",
       "      <th>Week</th>\n",
       "      <th></th>\n",
       "    </tr>\n",
       "  </thead>\n",
       "  <tbody>\n",
       "    <tr>\n",
       "      <th>1</th>\n",
       "      <td>4.000000</td>\n",
       "    </tr>\n",
       "    <tr>\n",
       "      <th>2</th>\n",
       "      <td>3.923077</td>\n",
       "    </tr>\n",
       "    <tr>\n",
       "      <th>3</th>\n",
       "      <td>3.774194</td>\n",
       "    </tr>\n",
       "    <tr>\n",
       "      <th>4</th>\n",
       "      <td>4.000000</td>\n",
       "    </tr>\n",
       "    <tr>\n",
       "      <th>5</th>\n",
       "      <td>3.871795</td>\n",
       "    </tr>\n",
       "    <tr>\n",
       "      <th>6</th>\n",
       "      <td>4.105263</td>\n",
       "    </tr>\n",
       "    <tr>\n",
       "      <th>7</th>\n",
       "      <td>4.000000</td>\n",
       "    </tr>\n",
       "    <tr>\n",
       "      <th>8</th>\n",
       "      <td>3.948718</td>\n",
       "    </tr>\n",
       "    <tr>\n",
       "      <th>9</th>\n",
       "      <td>3.750000</td>\n",
       "    </tr>\n",
       "  </tbody>\n",
       "</table>\n",
       "</div>"
      ],
      "text/plain": [
       "      Overall Satisfaction\n",
       "Week                      \n",
       "1                 4.000000\n",
       "2                 3.923077\n",
       "3                 3.774194\n",
       "4                 4.000000\n",
       "5                 3.871795\n",
       "6                 4.105263\n",
       "7                 4.000000\n",
       "8                 3.948718\n",
       "9                 3.750000"
      ]
     },
     "execution_count": 90,
     "metadata": {},
     "output_type": "execute_result"
    }
   ],
   "source": [
    "df[['Week', 'Overall Satisfaction']].groupby('Week').mean()"
   ]
  },
  {
   "cell_type": "code",
   "execution_count": 91,
   "metadata": {},
   "outputs": [
    {
     "data": {
      "image/png": "[encoded data removed]",
      "text/plain": [
       "<Figure size 720x360 with 9 Axes>"
      ]
     },
     "metadata": {
      "needs_background": "light"
     },
     "output_type": "display_data"
    }
   ],
   "source": [
    "ncols=3\n",
    "nrows=math.ceil(len(stats_cols)/ncols)\n",
    "fig, ax=plt.subplots(nrows, ncols, sharex=True, sharey=True, figsize=(10, 5))\n",
    "for idx, each_col in enumerate(stats_cols): \n",
    "#     print(f'ax{math.floor(idx/ncols)}{idx%ncols}')\n",
    "    df[[each_col, 'Week']].groupby('Week').mean().plot(ax=ax[math.floor(idx/ncols)][idx%ncols], legend=None)\n",
    "    ax[math.floor(idx/ncols)][idx%ncols].set_title(each_col)\n",
    "#     ax[math.floor(idx/ncols)][idx%ncols].legend(show=False)\n",
    "plt.tight_layout()"
   ]
  },
  {
   "cell_type": "markdown",
   "metadata": {},
   "source": [
    "# Title"
   ]
  },
  {
   "cell_type": "code",
   "execution_count": 302,
   "metadata": {},
   "outputs": [
    {
     "data": {
      "image/png": "[encoded data removed]",
      "text/plain": [
       "<Figure size 720x360 with 2 Axes>"
      ]
     },
     "metadata": {
      "needs_background": "light"
     },
     "output_type": "display_data"
    }
   ],
   "source": [
    "crt_sample_list=[2, \n",
    "            3, 3,  \n",
    "            4, 4, 4, 4, 4, \n",
    "            5, 5]\n",
    "tgt_sample_list=[3,   \n",
    "            4, 4, 4, 4, \n",
    "            5, 5, 5, 5, 5]\n",
    "miss_list=[2, \n",
    "          3, \n",
    "          4]\n",
    "add_list=[5, 5, 5]\n",
    "bins=range(1, 7)\n",
    "fig, ax=plt.subplots(1, 2, figsize=(10, 5))\n",
    "ax[0].hist(crt_sample_list, bins=bins, align='left', alpha=.5, color='darkblue')\n",
    "ax[0].spines['top'].set_visible(False)\n",
    "ax[0].spines['right'].set_visible(False)\n",
    "# ax[0].spines['bottom'].set_visible(False)\n",
    "ax[0].spines['left'].set_visible(False)\n",
    "ax[0].get_yaxis().set_ticks([])\n",
    "ax[0].set_title('From:     ', loc='left')\n",
    "ax[1].hist(tgt_sample_list, bins=bins, align='left', stacked=True, alpha=.5, color='darkblue')\n",
    "ax[1].hist(miss_list, bins=bins, align='left', alpha=.05, bottom=[0, 0, 1, 4, 0], color='darkblue')\n",
    "ax[1].hist(add_list, bins=bins, align='left', alpha=1, bottom=[0, 0, 0, 0, 2], color='darkblue')\n",
    "ax[1].spines['top'].set_visible(False)\n",
    "ax[1].spines['right'].set_visible(False)\n",
    "# ax[1].spines['bottom'].set_visible(False)\n",
    "ax[1].spines['left'].set_visible(False)\n",
    "ax[1].get_yaxis().set_ticks([])\n",
    "ax[1].set_title('To:     ', loc='left')\n",
    "# fig.suptitle('Improve Customer Satisfaction', size=30, verticalalignment='bottom')\n",
    "# ax[0].annotate('Improve Customer Satisfaction', (5, 3), )\n",
    "# fig.tight_layout(pad=5)\n",
    "plt.show()"
   ]
  },
  {
   "cell_type": "code",
   "execution_count": null,
   "metadata": {},
   "outputs": [],
   "source": []
  },
  {
   "cell_type": "code",
   "execution_count": 92,
   "metadata": {},
   "outputs": [
    {
     "data": {
      "image/png": "[encoded data removed]",
      "text/plain": [
       "<Figure size 720x360 with 9 Axes>"
      ]
     },
     "metadata": {
      "needs_background": "light"
     },
     "output_type": "display_data"
    }
   ],
   "source": [
    "ncols=3\n",
    "nrows=math.ceil(len(stats_cols)/ncols)\n",
    "bins=range(6)\n",
    "fig, ax=plt.subplots(nrows, ncols, sharex=True, sharey=True, figsize=(10, 5))\n",
    "for idx, each_col in enumerate(stats_cols): \n",
    "#     print(f'ax{math.floor(idx/ncols)}{idx%ncols}')\n",
    "    df[each_col].plot(kind='hist', ax=ax[math.floor(idx/ncols)][idx%ncols], bins=bins, align='right')\n",
    "#     df[[each_col, 'Week']].groupby('Week').mean().plot(ax=ax[math.floor(idx/ncols)][idx%ncols], legend=None)\n",
    "    ax[math.floor(idx/ncols)][idx%ncols].set_title(each_col)\n",
    "#     ax[math.floor(idx/ncols)][idx%ncols].legend(show=False)\n",
    "\n",
    "plt.tight_layout()"
   ]
  },
  {
   "cell_type": "code",
   "execution_count": 208,
   "metadata": {},
   "outputs": [
    {
     "data": {
      "text/plain": [
       "(3, 5)"
      ]
     },
     "execution_count": 208,
     "metadata": {},
     "output_type": "execute_result"
    },
    {
     "data": {
      "image/png": "[encoded data removed]",
      "text/plain": [
       "<Figure size 432x288 with 1 Axes>"
      ]
     },
     "metadata": {
      "needs_background": "light"
     },
     "output_type": "display_data"
    }
   ],
   "source": [
    "sample_means=[]\n",
    "for i in range(100): \n",
    "    sample_means.append(df['Overall Satisfaction'].sample(5).mean())\n",
    "plt.hist(sample_means)\n",
    "plt.xlim([3, 5])"
   ]
  },
  {
   "cell_type": "code",
   "execution_count": 303,
   "metadata": {},
   "outputs": [
    {
     "data": {
      "text/plain": [
       "3.945337620578778"
      ]
     },
     "metadata": {},
     "output_type": "display_data"
    },
    {
     "data": {
      "text/plain": [
       "4.0"
      ]
     },
     "metadata": {},
     "output_type": "display_data"
    },
    {
     "data": {
      "text/plain": [
       "0    4\n",
       "dtype: int64"
      ]
     },
     "metadata": {},
     "output_type": "display_data"
    }
   ],
   "source": [
    "display(df['Overall Satisfaction'].mean())\n",
    "display(df['Overall Satisfaction'].median())\n",
    "display(df['Overall Satisfaction'].mode())"
   ]
  },
  {
   "cell_type": "code",
   "execution_count": 183,
   "metadata": {
    "scrolled": true
   },
   "outputs": [
    {
     "data": {
      "text/plain": [
       "141"
      ]
     },
     "metadata": {},
     "output_type": "display_data"
    },
    {
     "data": {
      "text/plain": [
       "311"
      ]
     },
     "metadata": {},
     "output_type": "display_data"
    },
    {
     "name": "stdout",
     "output_type": "stream",
     "text": [
      "0.26366559485530544\n",
      "0.4533762057877814\n"
     ]
    }
   ],
   "source": [
    "display(len(df[df['Overall Satisfaction']==4]))\n",
    "display(len(df))\n",
    "print(f'{82/311}')\n",
    "print(f'{141/311}')"
   ]
  },
  {
   "cell_type": "code",
   "execution_count": 304,
   "metadata": {},
   "outputs": [
    {
     "data": {
      "text/plain": [
       "3.945337620578778"
      ]
     },
     "execution_count": 304,
     "metadata": {},
     "output_type": "execute_result"
    }
   ],
   "source": [
    "df['Overall Satisfaction'].values.mean()"
   ]
  },
  {
   "cell_type": "code",
   "execution_count": 324,
   "metadata": {
    "scrolled": true
   },
   "outputs": [
    {
     "ename": "TypeError",
     "evalue": "type numpy.ndarray doesn't define __round__ method",
     "output_type": "error",
     "traceback": [
      "\u001b[0;31m---------------------------------------------------------------------------\u001b[0m",
      "\u001b[0;31mTypeError\u001b[0m                                 Traceback (most recent call last)",
      "\u001b[0;32m<ipython-input-324-0d1b20e47af5>\u001b[0m in \u001b[0;36m<module>\u001b[0;34m\u001b[0m\n\u001b[1;32m      6\u001b[0m \u001b[0mplt\u001b[0m\u001b[0;34m.\u001b[0m\u001b[0mannotate\u001b[0m\u001b[0;34m(\u001b[0m\u001b[0;34mf'Mean: {round(df[\"Overall Satisfaction\"].values.mean(), 2)}'\u001b[0m\u001b[0;34m,\u001b[0m \u001b[0;34m(\u001b[0m\u001b[0;36m1.5\u001b[0m\u001b[0;34m,\u001b[0m \u001b[0;36m175\u001b[0m\u001b[0;34m)\u001b[0m\u001b[0;34m,\u001b[0m \u001b[0mcolor\u001b[0m\u001b[0;34m=\u001b[0m\u001b[0;34m'orange'\u001b[0m\u001b[0;34m,\u001b[0m \u001b[0msize\u001b[0m\u001b[0;34m=\u001b[0m\u001b[0;36m15\u001b[0m\u001b[0;34m)\u001b[0m\u001b[0;34m\u001b[0m\u001b[0;34m\u001b[0m\u001b[0m\n\u001b[1;32m      7\u001b[0m \u001b[0mplt\u001b[0m\u001b[0;34m.\u001b[0m\u001b[0mannotate\u001b[0m\u001b[0;34m(\u001b[0m\u001b[0;34mf'Median: {round(np.median(df[\"Overall Satisfaction\"].values), 2)}'\u001b[0m\u001b[0;34m,\u001b[0m \u001b[0;34m(\u001b[0m\u001b[0;36m1.5\u001b[0m\u001b[0;34m,\u001b[0m \u001b[0;36m160\u001b[0m\u001b[0;34m)\u001b[0m\u001b[0;34m,\u001b[0m \u001b[0mcolor\u001b[0m\u001b[0;34m=\u001b[0m\u001b[0;34m'blue'\u001b[0m\u001b[0;34m,\u001b[0m \u001b[0msize\u001b[0m\u001b[0;34m=\u001b[0m\u001b[0;36m15\u001b[0m\u001b[0;34m)\u001b[0m\u001b[0;34m\u001b[0m\u001b[0;34m\u001b[0m\u001b[0m\n\u001b[0;32m----> 8\u001b[0;31m \u001b[0mplt\u001b[0m\u001b[0;34m.\u001b[0m\u001b[0mannotate\u001b[0m\u001b[0;34m(\u001b[0m\u001b[0;34mf'Mode: {round(sts.mode(df[\"Overall Satisfaction\"].values)[-1], 2)}'\u001b[0m\u001b[0;34m,\u001b[0m \u001b[0;34m(\u001b[0m\u001b[0;36m1.5\u001b[0m\u001b[0;34m,\u001b[0m \u001b[0;36m175\u001b[0m\u001b[0;34m)\u001b[0m\u001b[0;34m,\u001b[0m \u001b[0msize\u001b[0m\u001b[0;34m=\u001b[0m\u001b[0;36m15\u001b[0m\u001b[0;34m)\u001b[0m\u001b[0;34m\u001b[0m\u001b[0;34m\u001b[0m\u001b[0m\n\u001b[0m\u001b[1;32m      9\u001b[0m \u001b[0mplt\u001b[0m\u001b[0;34m.\u001b[0m\u001b[0mtitle\u001b[0m\u001b[0;34m(\u001b[0m\u001b[0;34mf'Overall Satisfaction\\nSTD: {round(np.std(df[\"Overall Satisfaction\"].values), 2)}'\u001b[0m\u001b[0;34m)\u001b[0m\u001b[0;34m\u001b[0m\u001b[0;34m\u001b[0m\u001b[0m\n\u001b[1;32m     10\u001b[0m \u001b[0mplt\u001b[0m\u001b[0;34m.\u001b[0m\u001b[0mgrid\u001b[0m\u001b[0;34m(\u001b[0m\u001b[0;32mNone\u001b[0m\u001b[0;34m)\u001b[0m\u001b[0;34m\u001b[0m\u001b[0;34m\u001b[0m\u001b[0m\n",
      "\u001b[0;31mTypeError\u001b[0m: type numpy.ndarray doesn't define __round__ method"
     ]
    },
    {
     "data": {
      "image/png": "[encoded data removed]",
      "text/plain": [
       "<Figure size 252x360 with 1 Axes>"
      ]
     },
     "metadata": {
      "needs_background": "light"
     },
     "output_type": "display_data"
    }
   ],
   "source": [
    "bins=list(range(1, 7))\n",
    "bins_loc=[bin+0.5 for bin in bins]\n",
    "df['Overall Satisfaction'].hist(bins=bins, figsize=(3.5, 5))\n",
    "plt.vlines([df['Overall Satisfaction'].values.mean()+.5, np.median(df['Overall Satisfaction'].values)+.5], 0, 200, colors=['orange', 'blue'])\n",
    "plt.xticks(bins_loc, bins)\n",
    "plt.annotate(f'Mean: {round(df[\"Overall Satisfaction\"].values.mean(), 2)}', (1.5, 175), color='orange', size=15)\n",
    "plt.annotate(f'Median: {round(np.median(df[\"Overall Satisfaction\"].values), 2)}', (1.5, 160), color='blue', size=15)\n",
    "plt.annotate(f'Mode: {round(sts.mode(df[\"Overall Satisfaction\"].values)[-1], 2)}', (1.5, 175), size=15)\n",
    "plt.title(f'Overall Satisfaction\\nSTD: {round(np.std(df[\"Overall Satisfaction\"].values), 2)}')\n",
    "plt.grid(None)\n",
    "plt.xlabel('Rating')\n",
    "plt.ylabel('Frequency')\n",
    "plt.show()\n",
    "short_cols=[stat for stat in stats_cols if stat != 'Overall Satisfaction']\n",
    "ncols=3\n",
    "nrows=math.ceil(len(short_cols)/ncols)\n",
    "bins=list(range(1, 7))\n",
    "fig, ax=plt.subplots(nrows, ncols, sharex=True, sharey=True, figsize=(7, 5))\n",
    "for idx, each_col in enumerate(short_cols): \n",
    "    df[each_col].plot(kind='hist', ax=ax[math.floor(idx/ncols)][idx%ncols], bins=bins)\n",
    "    ax[math.floor(idx/ncols)][idx%ncols].vlines([df[each_col].values.mean()+.5, np.median(df[each_col].values)+.5], 0, 200, colors=['orange', 'blue'])\n",
    "    ax[math.floor(idx/ncols)][idx%ncols].set_title(f'{each_col}\\nSTD: {round(np.std(df[each_col].values), 1)}')\n",
    "    ax[math.floor(idx/ncols)][idx%ncols].set_xticklabels(bins)\n",
    "    ax[math.floor(idx/ncols)][idx%ncols].set_xticks(bins_loc)\n",
    "\n",
    "plt.tight_layout()"
   ]
  },
  {
   "cell_type": "code",
   "execution_count": 168,
   "metadata": {},
   "outputs": [
    {
     "data": {
      "text/plain": [
       "Overall Satisfaction            4.0\n",
       "Class Pace                      4.0\n",
       "Academic Support                4.0\n",
       "Apply Learning Outside Class    3.0\n",
       "Instructor Engagement           4.0\n",
       "Instructor Clarity              4.0\n",
       "Instructor Knowledge            5.0\n",
       "Homework Feedback Rating        3.0\n",
       "dtype: float64"
      ]
     },
     "execution_count": 168,
     "metadata": {},
     "output_type": "execute_result"
    }
   ],
   "source": [
    "df[stats_cols].median()"
   ]
  },
  {
   "cell_type": "code",
   "execution_count": 169,
   "metadata": {},
   "outputs": [
    {
     "data": {
      "text/plain": [
       "Overall Satisfaction            3.945338\n",
       "Class Pace                      3.723473\n",
       "Academic Support                4.019293\n",
       "Apply Learning Outside Class    3.450161\n",
       "Instructor Engagement           4.012862\n",
       "Instructor Clarity              3.964630\n",
       "Instructor Knowledge            4.337621\n",
       "Homework Feedback Rating        2.842444\n",
       "dtype: float64"
      ]
     },
     "execution_count": 169,
     "metadata": {},
     "output_type": "execute_result"
    }
   ],
   "source": [
    "df[stats_cols].mean()"
   ]
  },
  {
   "cell_type": "code",
   "execution_count": 130,
   "metadata": {
    "scrolled": false
   },
   "outputs": [
    {
     "data": {
      "text/html": [
       "<div>\n",
       "<style scoped>\n",
       "    .dataframe tbody tr th:only-of-type {\n",
       "        vertical-align: middle;\n",
       "    }\n",
       "\n",
       "    .dataframe tbody tr th {\n",
       "        vertical-align: top;\n",
       "    }\n",
       "\n",
       "    .dataframe thead th {\n",
       "        text-align: right;\n",
       "    }\n",
       "</style>\n",
       "<table border=\"1\" class=\"dataframe\">\n",
       "  <thead>\n",
       "    <tr style=\"text-align: right;\">\n",
       "      <th></th>\n",
       "      <th>Overall Satisfaction</th>\n",
       "      <th>Class Pace</th>\n",
       "      <th>Academic Support</th>\n",
       "      <th>Apply Learning Outside Class</th>\n",
       "      <th>Instructor Engagement</th>\n",
       "      <th>Instructor Clarity</th>\n",
       "      <th>Instructor Knowledge</th>\n",
       "      <th>Homework Feedback Rating</th>\n",
       "    </tr>\n",
       "  </thead>\n",
       "  <tbody>\n",
       "    <tr>\n",
       "      <th>0</th>\n",
       "      <td>4</td>\n",
       "      <td>4</td>\n",
       "      <td>4</td>\n",
       "      <td>3</td>\n",
       "      <td>4</td>\n",
       "      <td>4</td>\n",
       "      <td>5</td>\n",
       "      <td>5</td>\n",
       "    </tr>\n",
       "  </tbody>\n",
       "</table>\n",
       "</div>"
      ],
      "text/plain": [
       "   Overall Satisfaction  Class Pace  Academic Support  \\\n",
       "0                     4           4                 4   \n",
       "\n",
       "   Apply Learning Outside Class  Instructor Engagement  Instructor Clarity  \\\n",
       "0                             3                      4                   4   \n",
       "\n",
       "   Instructor Knowledge  Homework Feedback Rating  \n",
       "0                     5                         5  "
      ]
     },
     "execution_count": 130,
     "metadata": {},
     "output_type": "execute_result"
    }
   ],
   "source": [
    "df[stats_cols].mode()"
   ]
  },
  {
   "cell_type": "code",
   "execution_count": 139,
   "metadata": {},
   "outputs": [
    {
     "data": {
      "text/plain": [
       "4    141\n",
       "5     82\n",
       "3     79\n",
       "2      7\n",
       "1      2\n",
       "Name: Overall Satisfaction, dtype: int64"
      ]
     },
     "execution_count": 139,
     "metadata": {},
     "output_type": "execute_result"
    }
   ],
   "source": [
    "df['Overall Satisfaction'].value_counts()"
   ]
  },
  {
   "cell_type": "code",
   "execution_count": null,
   "metadata": {},
   "outputs": [],
   "source": []
  }
 ],
 "metadata": {
  "kernelspec": {
   "display_name": "Python 3",
   "language": "python",
   "name": "python3"
  },
  "language_info": {
   "codemirror_mode": {
    "name": "ipython",
    "version": 3
   },
   "file_extension": ".py",
   "mimetype": "text/x-python",
   "name": "python",
   "nbconvert_exporter": "python",
   "pygments_lexer": "ipython3",
   "version": "3.7.1"
  }
 },
 "nbformat": 4,
 "nbformat_minor": 2
}
