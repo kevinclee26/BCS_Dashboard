{
 "cells": [
  {
   "cell_type": "code",
   "execution_count": 1,
   "metadata": {},
   "outputs": [],
   "source": [
    "import pandas as pd\n",
    "import os\n",
    "from datetime import datetime, timedelta\n",
    "import matplotlib.pyplot as plt\n",
    "import math\n",
    "import numpy as np\n",
    "import scipy.stats as sts\n",
    "from sklearn.ensemble import RandomForestClassifier\n",
    "from sklearn.tree import DecisionTreeClassifier\n",
    "from sklearn.preprocessing import LabelEncoder"
   ]
  },
  {
   "cell_type": "code",
   "execution_count": 64,
   "metadata": {},
   "outputs": [
    {
     "data": {
      "image/png": "[encoded data removed]",
      "text/plain": [
       "<Figure size 432x288 with 1 Axes>"
      ]
     },
     "metadata": {
      "needs_background": "light"
     },
     "output_type": "display_data"
    }
   ],
   "source": [
    "x=np.random.normal(loc=600, scale=100, size=100000)\n",
    "# y, x=np.histogram(x, density=True)\n",
    "plt.hist(x, density=True, bins=20)\n",
    "a_list=[]\n",
    "b_list=[]\n",
    "for each_x in x: \n",
    "    if each_x<641: \n",
    "        a_list.append(each_x)\n",
    "#     else: \n",
    "#         b_list.append(each_x)\n",
    "plt.show()\n",
    "z=len(a_list)/len(x)"
   ]
  },
  {
   "cell_type": "code",
   "execution_count": 34,
   "metadata": {},
   "outputs": [
    {
     "data": {
      "text/plain": [
       "641.0"
      ]
     },
     "execution_count": 34,
     "metadata": {},
     "output_type": "execute_result"
    }
   ],
   "source": [
    "x=[650, 730, 510, 670, 480, 800, 690, 530, 590, 620, 710, 670, \n",
    "   640, 780, 650, 490, 800, 600, 510, 700]\n",
    "np.mean(x)"
   ]
  },
  {
   "cell_type": "code",
   "execution_count": 35,
   "metadata": {},
   "outputs": [
    {
     "data": {
      "text/plain": [
       "97.56536270623914"
      ]
     },
     "execution_count": 35,
     "metadata": {},
     "output_type": "execute_result"
    }
   ],
   "source": [
    "np.std(x)"
   ]
  },
  {
   "cell_type": "code",
   "execution_count": null,
   "metadata": {},
   "outputs": [],
   "source": [
    "(641-600)/"
   ]
  },
  {
   "cell_type": "code",
   "execution_count": 32,
   "metadata": {},
   "outputs": [
    {
     "data": {
      "text/plain": [
       "0.6585"
      ]
     },
     "execution_count": 32,
     "metadata": {},
     "output_type": "execute_result"
    }
   ],
   "source": [
    "z"
   ]
  },
  {
   "cell_type": "code",
   "execution_count": 33,
   "metadata": {},
   "outputs": [
    {
     "data": {
      "text/plain": [
       "0.41"
      ]
     },
     "execution_count": 33,
     "metadata": {},
     "output_type": "execute_result"
    }
   ],
   "source": [
    "(641-600)/100"
   ]
  },
  {
   "cell_type": "code",
   "execution_count": null,
   "metadata": {},
   "outputs": [],
   "source": []
  },
  {
   "cell_type": "code",
   "execution_count": 183,
   "metadata": {},
   "outputs": [
    {
     "data": {
      "text/plain": [
       "0      2\n",
       "1      4\n",
       "2      4\n",
       "3      5\n",
       "4      1\n",
       "      ..\n",
       "480    3\n",
       "481    1\n",
       "482    4\n",
       "483    4\n",
       "484    3\n",
       "Name: Outside Time Spent, Length: 468, dtype: int64"
      ]
     },
     "execution_count": 183,
     "metadata": {},
     "output_type": "execute_result"
    }
   ],
   "source": []
  },
  {
   "cell_type": "code",
   "execution_count": 361,
   "metadata": {},
   "outputs": [],
   "source": [
    "file_path=os.path.join('static', 'data', 'data.csv')"
   ]
  },
  {
   "cell_type": "code",
   "execution_count": 362,
   "metadata": {
    "scrolled": true
   },
   "outputs": [
    {
     "data": {
      "text/html": [
       "<div>\n",
       "<style scoped>\n",
       "    .dataframe tbody tr th:only-of-type {\n",
       "        vertical-align: middle;\n",
       "    }\n",
       "\n",
       "    .dataframe tbody tr th {\n",
       "        vertical-align: top;\n",
       "    }\n",
       "\n",
       "    .dataframe thead th {\n",
       "        text-align: right;\n",
       "    }\n",
       "</style>\n",
       "<table border=\"1\" class=\"dataframe\">\n",
       "  <thead>\n",
       "    <tr style=\"text-align: right;\">\n",
       "      <th></th>\n",
       "      <th>Week</th>\n",
       "      <th>Student Name</th>\n",
       "      <th>Overall Satisfaction</th>\n",
       "      <th>Class Pace</th>\n",
       "      <th>Academic Support</th>\n",
       "      <th>Apply Learning Outside Class</th>\n",
       "      <th>Instructor Engagement</th>\n",
       "      <th>Instructor Clarity</th>\n",
       "      <th>Instructor Knowledge</th>\n",
       "      <th>Homework Feedback Rating</th>\n",
       "      <th>Outside Time Spent</th>\n",
       "    </tr>\n",
       "  </thead>\n",
       "  <tbody>\n",
       "    <tr>\n",
       "      <th>0</th>\n",
       "      <td>1</td>\n",
       "      <td>1</td>\n",
       "      <td>3</td>\n",
       "      <td>3</td>\n",
       "      <td>4</td>\n",
       "      <td>4</td>\n",
       "      <td>4</td>\n",
       "      <td>3</td>\n",
       "      <td>3</td>\n",
       "      <td>3</td>\n",
       "      <td>2</td>\n",
       "    </tr>\n",
       "    <tr>\n",
       "      <th>1</th>\n",
       "      <td>1</td>\n",
       "      <td>2</td>\n",
       "      <td>4</td>\n",
       "      <td>4</td>\n",
       "      <td>4</td>\n",
       "      <td>4</td>\n",
       "      <td>4</td>\n",
       "      <td>5</td>\n",
       "      <td>5</td>\n",
       "      <td>0</td>\n",
       "      <td>4</td>\n",
       "    </tr>\n",
       "    <tr>\n",
       "      <th>2</th>\n",
       "      <td>1</td>\n",
       "      <td>3</td>\n",
       "      <td>4</td>\n",
       "      <td>4</td>\n",
       "      <td>5</td>\n",
       "      <td>4</td>\n",
       "      <td>5</td>\n",
       "      <td>5</td>\n",
       "      <td>4</td>\n",
       "      <td>0</td>\n",
       "      <td>4</td>\n",
       "    </tr>\n",
       "    <tr>\n",
       "      <th>3</th>\n",
       "      <td>1</td>\n",
       "      <td>4</td>\n",
       "      <td>4</td>\n",
       "      <td>2</td>\n",
       "      <td>3</td>\n",
       "      <td>5</td>\n",
       "      <td>4</td>\n",
       "      <td>5</td>\n",
       "      <td>4</td>\n",
       "      <td>3</td>\n",
       "      <td>5</td>\n",
       "    </tr>\n",
       "    <tr>\n",
       "      <th>4</th>\n",
       "      <td>1</td>\n",
       "      <td>5</td>\n",
       "      <td>5</td>\n",
       "      <td>3</td>\n",
       "      <td>5</td>\n",
       "      <td>5</td>\n",
       "      <td>5</td>\n",
       "      <td>5</td>\n",
       "      <td>5</td>\n",
       "      <td>4</td>\n",
       "      <td>1</td>\n",
       "    </tr>\n",
       "    <tr>\n",
       "      <th>...</th>\n",
       "      <td>...</td>\n",
       "      <td>...</td>\n",
       "      <td>...</td>\n",
       "      <td>...</td>\n",
       "      <td>...</td>\n",
       "      <td>...</td>\n",
       "      <td>...</td>\n",
       "      <td>...</td>\n",
       "      <td>...</td>\n",
       "      <td>...</td>\n",
       "      <td>...</td>\n",
       "    </tr>\n",
       "    <tr>\n",
       "      <th>480</th>\n",
       "      <td>13</td>\n",
       "      <td>4</td>\n",
       "      <td>5</td>\n",
       "      <td>4</td>\n",
       "      <td>4</td>\n",
       "      <td>3</td>\n",
       "      <td>4</td>\n",
       "      <td>4</td>\n",
       "      <td>4</td>\n",
       "      <td>5</td>\n",
       "      <td>3</td>\n",
       "    </tr>\n",
       "    <tr>\n",
       "      <th>481</th>\n",
       "      <td>13</td>\n",
       "      <td>36</td>\n",
       "      <td>5</td>\n",
       "      <td>3</td>\n",
       "      <td>5</td>\n",
       "      <td>5</td>\n",
       "      <td>5</td>\n",
       "      <td>5</td>\n",
       "      <td>5</td>\n",
       "      <td>5</td>\n",
       "      <td>1</td>\n",
       "    </tr>\n",
       "    <tr>\n",
       "      <th>482</th>\n",
       "      <td>13</td>\n",
       "      <td>35</td>\n",
       "      <td>2</td>\n",
       "      <td>3</td>\n",
       "      <td>4</td>\n",
       "      <td>1</td>\n",
       "      <td>3</td>\n",
       "      <td>1</td>\n",
       "      <td>3</td>\n",
       "      <td>4</td>\n",
       "      <td>3</td>\n",
       "    </tr>\n",
       "    <tr>\n",
       "      <th>483</th>\n",
       "      <td>13</td>\n",
       "      <td>38</td>\n",
       "      <td>4</td>\n",
       "      <td>4</td>\n",
       "      <td>4</td>\n",
       "      <td>4</td>\n",
       "      <td>4</td>\n",
       "      <td>4</td>\n",
       "      <td>4</td>\n",
       "      <td>4</td>\n",
       "      <td>4</td>\n",
       "    </tr>\n",
       "    <tr>\n",
       "      <th>484</th>\n",
       "      <td>13</td>\n",
       "      <td>12</td>\n",
       "      <td>5</td>\n",
       "      <td>3</td>\n",
       "      <td>5</td>\n",
       "      <td>5</td>\n",
       "      <td>5</td>\n",
       "      <td>5</td>\n",
       "      <td>4</td>\n",
       "      <td>5</td>\n",
       "      <td>3</td>\n",
       "    </tr>\n",
       "  </tbody>\n",
       "</table>\n",
       "<p>400 rows × 11 columns</p>\n",
       "</div>"
      ],
      "text/plain": [
       "     Week Student Name  Overall Satisfaction  Class Pace  Academic Support  \\\n",
       "0       1            1                     3           3                 4   \n",
       "1       1            2                     4           4                 4   \n",
       "2       1            3                     4           4                 5   \n",
       "3       1            4                     4           2                 3   \n",
       "4       1            5                     5           3                 5   \n",
       "..    ...          ...                   ...         ...               ...   \n",
       "480    13            4                     5           4                 4   \n",
       "481    13           36                     5           3                 5   \n",
       "482    13           35                     2           3                 4   \n",
       "483    13           38                     4           4                 4   \n",
       "484    13           12                     5           3                 5   \n",
       "\n",
       "     Apply Learning Outside Class  Instructor Engagement  Instructor Clarity  \\\n",
       "0                               4                      4                   3   \n",
       "1                               4                      4                   5   \n",
       "2                               4                      5                   5   \n",
       "3                               5                      4                   5   \n",
       "4                               5                      5                   5   \n",
       "..                            ...                    ...                 ...   \n",
       "480                             3                      4                   4   \n",
       "481                             5                      5                   5   \n",
       "482                             1                      3                   1   \n",
       "483                             4                      4                   4   \n",
       "484                             5                      5                   5   \n",
       "\n",
       "     Instructor Knowledge  Homework Feedback Rating  Outside Time Spent  \n",
       "0                       3                         3                   2  \n",
       "1                       5                         0                   4  \n",
       "2                       4                         0                   4  \n",
       "3                       4                         3                   5  \n",
       "4                       5                         4                   1  \n",
       "..                    ...                       ...                 ...  \n",
       "480                     4                         5                   3  \n",
       "481                     5                         5                   1  \n",
       "482                     3                         4                   3  \n",
       "483                     4                         4                   4  \n",
       "484                     4                         5                   3  \n",
       "\n",
       "[400 rows x 11 columns]"
      ]
     },
     "execution_count": 362,
     "metadata": {},
     "output_type": "execute_result"
    }
   ],
   "source": [
    "df=pd.read_csv(file_path)\n",
    "df=df.drop(['Course Name', 'Submission Date'], axis=1)\n",
    "df['Student Name']=df['Student Name'].astype('str')\n",
    "df=df[~df['Student Name'].isin(['Olivia Booth', 'Natasha Albert'])]#, 'Test 1', 'Test 2'])]\n",
    "df=df[~df['Student Name'].isin(['33', '16'])]\n",
    "df=df[~df['Week'].isin([4, 5])]\n",
    "time_map={'0-5 hrs': 5, \n",
    "        '6-10 hrs': 4, \n",
    "        '11-15 hrs': 3, \n",
    "        '15-20 hrs': 2, \n",
    "        '+20 hrs': 1}\n",
    "df['Outside Time Spent']=df['Outside Time Spent'].map(time_map)\n",
    "df\n",
    "# df.dtypes"
   ]
  },
  {
   "cell_type": "code",
   "execution_count": 356,
   "metadata": {},
   "outputs": [],
   "source": [
    "def rand_jitter(arr):\n",
    "    stdev = .1 * (max(arr) - min(arr))\n",
    "    return arr + np.random.randn(len(arr)) * stdev * .4"
   ]
  },
  {
   "cell_type": "code",
   "execution_count": 359,
   "metadata": {
    "scrolled": true
   },
   "outputs": [
    {
     "name": "stdout",
     "output_type": "stream",
     "text": [
      "Week       First    Second\n",
      "Week                      \n",
      "First   1.000000  0.613781\n",
      "Second  0.613781  1.000000\n"
     ]
    },
    {
     "data": {
      "image/png": "[encoded data removed]",
      "text/plain": [
       "<Figure size 432x288 with 1 Axes>"
      ]
     },
     "metadata": {
      "needs_background": "light"
     },
     "output_type": "display_data"
    }
   ],
   "source": [
    "metric_df=df['']\n",
    "df_list=[]\n",
    "pivot_df=metric_df.pivot(columns='Week', index='Student Name').stack(level=0)\n",
    "for i in range(len(week_list)-1): \n",
    "    two_weeks_df=pivot_df.iloc[:, [i, i+1]]\n",
    "    columns_mapper={two_weeks_df.columns[0]: 'First', \n",
    "                    two_weeks_df.columns[1]: 'Second'}\n",
    "    two_weeks_df=two_weeks_df.rename(columns=columns_mapper)\n",
    "    df_list.append(two_weeks_df)\n",
    "combined_df=pd.concat(df_list, axis=0)\n",
    "plt.scatter(x=rand_jitter(combined_df['First']), y=rand_jitter(combined_df['Second']), s=5)\n",
    "print(combined_df.corr())"
   ]
  },
  {
   "cell_type": "code",
   "execution_count": 352,
   "metadata": {},
   "outputs": [
    {
     "data": {
      "text/plain": [
       "Overall Satisfaction            0.416667\n",
       "Class Pace                      0.460833\n",
       "Academic Support                0.447500\n",
       "Apply Learning Outside Class    0.507500\n",
       "Instructor Engagement           0.512500\n",
       "Instructor Clarity              0.369167\n",
       "Instructor Knowledge            0.417500\n",
       "Homework Feedback Rating        0.384167\n",
       "Outside Time Spent              0.651667\n",
       "dtype: float64"
      ]
     },
     "metadata": {},
     "output_type": "display_data"
    },
    {
     "data": {
      "text/plain": [
       "Overall Satisfaction            0.485\n",
       "Class Pace                      0.470\n",
       "Academic Support                0.495\n",
       "Apply Learning Outside Class    0.495\n",
       "Instructor Engagement           0.565\n",
       "Instructor Clarity              0.430\n",
       "Instructor Knowledge            0.430\n",
       "Homework Feedback Rating        0.405\n",
       "Outside Time Spent              0.635\n",
       "dtype: float64"
      ]
     },
     "metadata": {},
     "output_type": "display_data"
    },
    {
     "data": {
      "text/html": [
       "<div>\n",
       "<style scoped>\n",
       "    .dataframe tbody tr th:only-of-type {\n",
       "        vertical-align: middle;\n",
       "    }\n",
       "\n",
       "    .dataframe tbody tr th {\n",
       "        vertical-align: top;\n",
       "    }\n",
       "\n",
       "    .dataframe thead th {\n",
       "        text-align: right;\n",
       "    }\n",
       "</style>\n",
       "<table border=\"1\" class=\"dataframe\">\n",
       "  <thead>\n",
       "    <tr style=\"text-align: right;\">\n",
       "      <th></th>\n",
       "      <th>Overall Satisfaction</th>\n",
       "      <th>Class Pace</th>\n",
       "      <th>Academic Support</th>\n",
       "      <th>Apply Learning Outside Class</th>\n",
       "      <th>Instructor Engagement</th>\n",
       "      <th>Instructor Clarity</th>\n",
       "      <th>Instructor Knowledge</th>\n",
       "      <th>Homework Feedback Rating</th>\n",
       "      <th>Outside Time Spent</th>\n",
       "    </tr>\n",
       "  </thead>\n",
       "  <tbody>\n",
       "    <tr>\n",
       "      <th>week1-week2</th>\n",
       "      <td>0.45</td>\n",
       "      <td>0.41</td>\n",
       "      <td>0.53</td>\n",
       "      <td>0.38</td>\n",
       "      <td>0.58</td>\n",
       "      <td>0.40</td>\n",
       "      <td>0.43</td>\n",
       "      <td>0.41</td>\n",
       "      <td>0.61</td>\n",
       "    </tr>\n",
       "    <tr>\n",
       "      <th>week2-week3</th>\n",
       "      <td>0.63</td>\n",
       "      <td>0.47</td>\n",
       "      <td>0.46</td>\n",
       "      <td>0.47</td>\n",
       "      <td>0.49</td>\n",
       "      <td>0.28</td>\n",
       "      <td>0.35</td>\n",
       "      <td>0.28</td>\n",
       "      <td>0.63</td>\n",
       "    </tr>\n",
       "    <tr>\n",
       "      <th>week3-week4</th>\n",
       "      <td>0.46</td>\n",
       "      <td>0.51</td>\n",
       "      <td>-0.19</td>\n",
       "      <td>0.21</td>\n",
       "      <td>0.36</td>\n",
       "      <td>0.39</td>\n",
       "      <td>0.33</td>\n",
       "      <td>0.19</td>\n",
       "      <td>0.54</td>\n",
       "    </tr>\n",
       "    <tr>\n",
       "      <th>week4-week5</th>\n",
       "      <td>-0.20</td>\n",
       "      <td>0.51</td>\n",
       "      <td>0.30</td>\n",
       "      <td>0.46</td>\n",
       "      <td>0.16</td>\n",
       "      <td>0.13</td>\n",
       "      <td>0.26</td>\n",
       "      <td>0.33</td>\n",
       "      <td>0.58</td>\n",
       "    </tr>\n",
       "    <tr>\n",
       "      <th>week5-week6</th>\n",
       "      <td>-0.03</td>\n",
       "      <td>0.32</td>\n",
       "      <td>0.21</td>\n",
       "      <td>0.51</td>\n",
       "      <td>0.27</td>\n",
       "      <td>-0.04</td>\n",
       "      <td>0.06</td>\n",
       "      <td>0.28</td>\n",
       "      <td>0.60</td>\n",
       "    </tr>\n",
       "    <tr>\n",
       "      <th>week6-week7</th>\n",
       "      <td>0.51</td>\n",
       "      <td>0.42</td>\n",
       "      <td>0.46</td>\n",
       "      <td>0.59</td>\n",
       "      <td>0.63</td>\n",
       "      <td>0.46</td>\n",
       "      <td>0.67</td>\n",
       "      <td>0.23</td>\n",
       "      <td>0.80</td>\n",
       "    </tr>\n",
       "    <tr>\n",
       "      <th>week7-week8</th>\n",
       "      <td>0.51</td>\n",
       "      <td>0.59</td>\n",
       "      <td>0.47</td>\n",
       "      <td>0.44</td>\n",
       "      <td>0.53</td>\n",
       "      <td>0.25</td>\n",
       "      <td>0.48</td>\n",
       "      <td>0.45</td>\n",
       "      <td>0.76</td>\n",
       "    </tr>\n",
       "    <tr>\n",
       "      <th>week8-week9</th>\n",
       "      <td>0.44</td>\n",
       "      <td>0.40</td>\n",
       "      <td>0.52</td>\n",
       "      <td>0.60</td>\n",
       "      <td>0.68</td>\n",
       "      <td>0.47</td>\n",
       "      <td>0.41</td>\n",
       "      <td>0.63</td>\n",
       "      <td>0.71</td>\n",
       "    </tr>\n",
       "    <tr>\n",
       "      <th>week9-week10</th>\n",
       "      <td>0.47</td>\n",
       "      <td>0.61</td>\n",
       "      <td>0.54</td>\n",
       "      <td>0.68</td>\n",
       "      <td>0.69</td>\n",
       "      <td>0.52</td>\n",
       "      <td>0.54</td>\n",
       "      <td>0.40</td>\n",
       "      <td>0.73</td>\n",
       "    </tr>\n",
       "    <tr>\n",
       "      <th>week10-week11</th>\n",
       "      <td>0.61</td>\n",
       "      <td>0.47</td>\n",
       "      <td>0.70</td>\n",
       "      <td>0.75</td>\n",
       "      <td>0.63</td>\n",
       "      <td>0.48</td>\n",
       "      <td>0.55</td>\n",
       "      <td>0.50</td>\n",
       "      <td>0.43</td>\n",
       "    </tr>\n",
       "    <tr>\n",
       "      <th>week11-week12</th>\n",
       "      <td>0.50</td>\n",
       "      <td>0.51</td>\n",
       "      <td>0.66</td>\n",
       "      <td>0.52</td>\n",
       "      <td>0.56</td>\n",
       "      <td>0.54</td>\n",
       "      <td>0.50</td>\n",
       "      <td>0.43</td>\n",
       "      <td>0.64</td>\n",
       "    </tr>\n",
       "    <tr>\n",
       "      <th>week12-week13</th>\n",
       "      <td>0.65</td>\n",
       "      <td>0.31</td>\n",
       "      <td>0.71</td>\n",
       "      <td>0.48</td>\n",
       "      <td>0.57</td>\n",
       "      <td>0.55</td>\n",
       "      <td>0.43</td>\n",
       "      <td>0.48</td>\n",
       "      <td>0.79</td>\n",
       "    </tr>\n",
       "  </tbody>\n",
       "</table>\n",
       "</div>"
      ],
      "text/plain": [
       "               Overall Satisfaction  Class Pace  Academic Support  \\\n",
       "week1-week2                    0.45        0.41              0.53   \n",
       "week2-week3                    0.63        0.47              0.46   \n",
       "week3-week4                    0.46        0.51             -0.19   \n",
       "week4-week5                   -0.20        0.51              0.30   \n",
       "week5-week6                   -0.03        0.32              0.21   \n",
       "week6-week7                    0.51        0.42              0.46   \n",
       "week7-week8                    0.51        0.59              0.47   \n",
       "week8-week9                    0.44        0.40              0.52   \n",
       "week9-week10                   0.47        0.61              0.54   \n",
       "week10-week11                  0.61        0.47              0.70   \n",
       "week11-week12                  0.50        0.51              0.66   \n",
       "week12-week13                  0.65        0.31              0.71   \n",
       "\n",
       "               Apply Learning Outside Class  Instructor Engagement  \\\n",
       "week1-week2                            0.38                   0.58   \n",
       "week2-week3                            0.47                   0.49   \n",
       "week3-week4                            0.21                   0.36   \n",
       "week4-week5                            0.46                   0.16   \n",
       "week5-week6                            0.51                   0.27   \n",
       "week6-week7                            0.59                   0.63   \n",
       "week7-week8                            0.44                   0.53   \n",
       "week8-week9                            0.60                   0.68   \n",
       "week9-week10                           0.68                   0.69   \n",
       "week10-week11                          0.75                   0.63   \n",
       "week11-week12                          0.52                   0.56   \n",
       "week12-week13                          0.48                   0.57   \n",
       "\n",
       "               Instructor Clarity  Instructor Knowledge  \\\n",
       "week1-week2                  0.40                  0.43   \n",
       "week2-week3                  0.28                  0.35   \n",
       "week3-week4                  0.39                  0.33   \n",
       "week4-week5                  0.13                  0.26   \n",
       "week5-week6                 -0.04                  0.06   \n",
       "week6-week7                  0.46                  0.67   \n",
       "week7-week8                  0.25                  0.48   \n",
       "week8-week9                  0.47                  0.41   \n",
       "week9-week10                 0.52                  0.54   \n",
       "week10-week11                0.48                  0.55   \n",
       "week11-week12                0.54                  0.50   \n",
       "week12-week13                0.55                  0.43   \n",
       "\n",
       "               Homework Feedback Rating  Outside Time Spent  \n",
       "week1-week2                        0.41                0.61  \n",
       "week2-week3                        0.28                0.63  \n",
       "week3-week4                        0.19                0.54  \n",
       "week4-week5                        0.33                0.58  \n",
       "week5-week6                        0.28                0.60  \n",
       "week6-week7                        0.23                0.80  \n",
       "week7-week8                        0.45                0.76  \n",
       "week8-week9                        0.63                0.71  \n",
       "week9-week10                       0.40                0.73  \n",
       "week10-week11                      0.50                0.43  \n",
       "week11-week12                      0.43                0.64  \n",
       "week12-week13                      0.48                0.79  "
      ]
     },
     "metadata": {},
     "output_type": "display_data"
    }
   ],
   "source": [
    "# df[df['Week'].isin([1, 2])].pivot(columns='Week', index='Student Name').stack(level=0).corr()\n",
    "week_list=df['Week'].unique()\n",
    "metrics={}\n",
    "for each_metric in feature_columns: \n",
    "    metric_df=df[['Week', 'Student Name', each_metric]]\n",
    "    corr_df=metric_df.pivot(columns='Week', index='Student Name').stack(level=0).corr()\n",
    "    corr_data={}\n",
    "    for i in range(len(week_list)-1): \n",
    "        date_range=f'week{week_list[i]}-week{week_list[i+1]}'\n",
    "        corr_data[date_range]=round(corr_df.iloc[i, i+1], 2)\n",
    "    metrics[each_metric]=corr_data\n",
    "display(pd.DataFrame(metrics).mean())#.style.background_gradient()\n",
    "display(pd.DataFrame(metrics).median())\n",
    "display(pd.DataFrame(metrics))\n"
   ]
  },
  {
   "cell_type": "code",
   "execution_count": null,
   "metadata": {},
   "outputs": [],
   "source": []
  },
  {
   "cell_type": "code",
   "execution_count": null,
   "metadata": {},
   "outputs": [],
   "source": []
  },
  {
   "cell_type": "code",
   "execution_count": 198,
   "metadata": {},
   "outputs": [
    {
     "data": {
      "text/html": [
       "<div>\n",
       "<style scoped>\n",
       "    .dataframe tbody tr th:only-of-type {\n",
       "        vertical-align: middle;\n",
       "    }\n",
       "\n",
       "    .dataframe tbody tr th {\n",
       "        vertical-align: top;\n",
       "    }\n",
       "\n",
       "    .dataframe thead th {\n",
       "        text-align: right;\n",
       "    }\n",
       "</style>\n",
       "<table border=\"1\" class=\"dataframe\">\n",
       "  <thead>\n",
       "    <tr style=\"text-align: right;\">\n",
       "      <th></th>\n",
       "      <th>Week</th>\n",
       "      <th>Overall Satisfaction</th>\n",
       "      <th>Class Pace</th>\n",
       "      <th>Academic Support</th>\n",
       "      <th>Apply Learning Outside Class</th>\n",
       "      <th>Instructor Engagement</th>\n",
       "      <th>Instructor Clarity</th>\n",
       "      <th>Instructor Knowledge</th>\n",
       "      <th>Homework Feedback Rating</th>\n",
       "      <th>Outside Time Spent</th>\n",
       "    </tr>\n",
       "  </thead>\n",
       "  <tbody>\n",
       "    <tr>\n",
       "      <th>Week</th>\n",
       "      <td>1.000000</td>\n",
       "      <td>0.076333</td>\n",
       "      <td>0.031221</td>\n",
       "      <td>-0.043716</td>\n",
       "      <td>-0.008598</td>\n",
       "      <td>-0.061916</td>\n",
       "      <td>0.011416</td>\n",
       "      <td>0.041457</td>\n",
       "      <td>0.044449</td>\n",
       "      <td>0.054122</td>\n",
       "    </tr>\n",
       "    <tr>\n",
       "      <th>Overall Satisfaction</th>\n",
       "      <td>0.076333</td>\n",
       "      <td>1.000000</td>\n",
       "      <td>0.096877</td>\n",
       "      <td>0.417899</td>\n",
       "      <td>0.449002</td>\n",
       "      <td>0.441706</td>\n",
       "      <td>0.531898</td>\n",
       "      <td>0.486544</td>\n",
       "      <td>0.137591</td>\n",
       "      <td>0.012375</td>\n",
       "    </tr>\n",
       "    <tr>\n",
       "      <th>Class Pace</th>\n",
       "      <td>0.031221</td>\n",
       "      <td>0.096877</td>\n",
       "      <td>1.000000</td>\n",
       "      <td>0.121274</td>\n",
       "      <td>-0.006349</td>\n",
       "      <td>0.176825</td>\n",
       "      <td>0.138147</td>\n",
       "      <td>0.143597</td>\n",
       "      <td>-0.047300</td>\n",
       "      <td>-0.047085</td>\n",
       "    </tr>\n",
       "    <tr>\n",
       "      <th>Academic Support</th>\n",
       "      <td>-0.043716</td>\n",
       "      <td>0.417899</td>\n",
       "      <td>0.121274</td>\n",
       "      <td>1.000000</td>\n",
       "      <td>0.273808</td>\n",
       "      <td>0.442165</td>\n",
       "      <td>0.425647</td>\n",
       "      <td>0.422872</td>\n",
       "      <td>0.072715</td>\n",
       "      <td>0.032408</td>\n",
       "    </tr>\n",
       "    <tr>\n",
       "      <th>Apply Learning Outside Class</th>\n",
       "      <td>-0.008598</td>\n",
       "      <td>0.449002</td>\n",
       "      <td>-0.006349</td>\n",
       "      <td>0.273808</td>\n",
       "      <td>1.000000</td>\n",
       "      <td>0.391139</td>\n",
       "      <td>0.402483</td>\n",
       "      <td>0.267880</td>\n",
       "      <td>0.109630</td>\n",
       "      <td>0.079778</td>\n",
       "    </tr>\n",
       "    <tr>\n",
       "      <th>Instructor Engagement</th>\n",
       "      <td>-0.061916</td>\n",
       "      <td>0.441706</td>\n",
       "      <td>0.176825</td>\n",
       "      <td>0.442165</td>\n",
       "      <td>0.391139</td>\n",
       "      <td>1.000000</td>\n",
       "      <td>0.677554</td>\n",
       "      <td>0.546682</td>\n",
       "      <td>0.038842</td>\n",
       "      <td>-0.036901</td>\n",
       "    </tr>\n",
       "    <tr>\n",
       "      <th>Instructor Clarity</th>\n",
       "      <td>0.011416</td>\n",
       "      <td>0.531898</td>\n",
       "      <td>0.138147</td>\n",
       "      <td>0.425647</td>\n",
       "      <td>0.402483</td>\n",
       "      <td>0.677554</td>\n",
       "      <td>1.000000</td>\n",
       "      <td>0.599884</td>\n",
       "      <td>0.053283</td>\n",
       "      <td>0.034918</td>\n",
       "    </tr>\n",
       "    <tr>\n",
       "      <th>Instructor Knowledge</th>\n",
       "      <td>0.041457</td>\n",
       "      <td>0.486544</td>\n",
       "      <td>0.143597</td>\n",
       "      <td>0.422872</td>\n",
       "      <td>0.267880</td>\n",
       "      <td>0.546682</td>\n",
       "      <td>0.599884</td>\n",
       "      <td>1.000000</td>\n",
       "      <td>-0.024563</td>\n",
       "      <td>-0.112528</td>\n",
       "    </tr>\n",
       "    <tr>\n",
       "      <th>Homework Feedback Rating</th>\n",
       "      <td>0.044449</td>\n",
       "      <td>0.137591</td>\n",
       "      <td>-0.047300</td>\n",
       "      <td>0.072715</td>\n",
       "      <td>0.109630</td>\n",
       "      <td>0.038842</td>\n",
       "      <td>0.053283</td>\n",
       "      <td>-0.024563</td>\n",
       "      <td>1.000000</td>\n",
       "      <td>-0.216522</td>\n",
       "    </tr>\n",
       "    <tr>\n",
       "      <th>Outside Time Spent</th>\n",
       "      <td>0.054122</td>\n",
       "      <td>0.012375</td>\n",
       "      <td>-0.047085</td>\n",
       "      <td>0.032408</td>\n",
       "      <td>0.079778</td>\n",
       "      <td>-0.036901</td>\n",
       "      <td>0.034918</td>\n",
       "      <td>-0.112528</td>\n",
       "      <td>-0.216522</td>\n",
       "      <td>1.000000</td>\n",
       "    </tr>\n",
       "  </tbody>\n",
       "</table>\n",
       "</div>"
      ],
      "text/plain": [
       "                                  Week  Overall Satisfaction  Class Pace  \\\n",
       "Week                          1.000000              0.076333    0.031221   \n",
       "Overall Satisfaction          0.076333              1.000000    0.096877   \n",
       "Class Pace                    0.031221              0.096877    1.000000   \n",
       "Academic Support             -0.043716              0.417899    0.121274   \n",
       "Apply Learning Outside Class -0.008598              0.449002   -0.006349   \n",
       "Instructor Engagement        -0.061916              0.441706    0.176825   \n",
       "Instructor Clarity            0.011416              0.531898    0.138147   \n",
       "Instructor Knowledge          0.041457              0.486544    0.143597   \n",
       "Homework Feedback Rating      0.044449              0.137591   -0.047300   \n",
       "Outside Time Spent            0.054122              0.012375   -0.047085   \n",
       "\n",
       "                              Academic Support  Apply Learning Outside Class  \\\n",
       "Week                                 -0.043716                     -0.008598   \n",
       "Overall Satisfaction                  0.417899                      0.449002   \n",
       "Class Pace                            0.121274                     -0.006349   \n",
       "Academic Support                      1.000000                      0.273808   \n",
       "Apply Learning Outside Class          0.273808                      1.000000   \n",
       "Instructor Engagement                 0.442165                      0.391139   \n",
       "Instructor Clarity                    0.425647                      0.402483   \n",
       "Instructor Knowledge                  0.422872                      0.267880   \n",
       "Homework Feedback Rating              0.072715                      0.109630   \n",
       "Outside Time Spent                    0.032408                      0.079778   \n",
       "\n",
       "                              Instructor Engagement  Instructor Clarity  \\\n",
       "Week                                      -0.061916            0.011416   \n",
       "Overall Satisfaction                       0.441706            0.531898   \n",
       "Class Pace                                 0.176825            0.138147   \n",
       "Academic Support                           0.442165            0.425647   \n",
       "Apply Learning Outside Class               0.391139            0.402483   \n",
       "Instructor Engagement                      1.000000            0.677554   \n",
       "Instructor Clarity                         0.677554            1.000000   \n",
       "Instructor Knowledge                       0.546682            0.599884   \n",
       "Homework Feedback Rating                   0.038842            0.053283   \n",
       "Outside Time Spent                        -0.036901            0.034918   \n",
       "\n",
       "                              Instructor Knowledge  Homework Feedback Rating  \\\n",
       "Week                                      0.041457                  0.044449   \n",
       "Overall Satisfaction                      0.486544                  0.137591   \n",
       "Class Pace                                0.143597                 -0.047300   \n",
       "Academic Support                          0.422872                  0.072715   \n",
       "Apply Learning Outside Class              0.267880                  0.109630   \n",
       "Instructor Engagement                     0.546682                  0.038842   \n",
       "Instructor Clarity                        0.599884                  0.053283   \n",
       "Instructor Knowledge                      1.000000                 -0.024563   \n",
       "Homework Feedback Rating                 -0.024563                  1.000000   \n",
       "Outside Time Spent                       -0.112528                 -0.216522   \n",
       "\n",
       "                              Outside Time Spent  \n",
       "Week                                    0.054122  \n",
       "Overall Satisfaction                    0.012375  \n",
       "Class Pace                             -0.047085  \n",
       "Academic Support                        0.032408  \n",
       "Apply Learning Outside Class            0.079778  \n",
       "Instructor Engagement                  -0.036901  \n",
       "Instructor Clarity                      0.034918  \n",
       "Instructor Knowledge                   -0.112528  \n",
       "Homework Feedback Rating               -0.216522  \n",
       "Outside Time Spent                      1.000000  "
      ]
     },
     "execution_count": 198,
     "metadata": {},
     "output_type": "execute_result"
    }
   ],
   "source": [
    "diff_df=df.sort_values(['Student Name', 'Week']).groupby('Student Name').diff()\n",
    "diff_df=diff_df.dropna()\n",
    "diff_df.corr()"
   ]
  },
  {
   "cell_type": "code",
   "execution_count": 225,
   "metadata": {},
   "outputs": [],
   "source": [
    "diff_df=diff_df.applymap(lambda x: 'Increase' if x>0 else ('Neutral' if x==0 else 'Decrease'))"
   ]
  },
  {
   "cell_type": "code",
   "execution_count": 220,
   "metadata": {},
   "outputs": [
    {
     "data": {
      "text/plain": [
       "<matplotlib.axes._subplots.AxesSubplot at 0x7fad845bea90>"
      ]
     },
     "execution_count": 220,
     "metadata": {},
     "output_type": "execute_result"
    },
    {
     "data": {
      "image/png": "[encoded data removed]",
      "text/plain": [
       "<Figure size 432x288 with 1 Axes>"
      ]
     },
     "metadata": {
      "needs_background": "light"
     },
     "output_type": "display_data"
    }
   ],
   "source": [
    "diff_df['Instructor Clarity'].hist()"
   ]
  },
  {
   "cell_type": "code",
   "execution_count": 226,
   "metadata": {},
   "outputs": [
    {
     "ename": "ValueError",
     "evalue": "could not convert string to float: 'Increase'",
     "output_type": "error",
     "traceback": [
      "\u001b[0;31m---------------------------------------------------------------------------\u001b[0m",
      "\u001b[0;31mValueError\u001b[0m                                Traceback (most recent call last)",
      "\u001b[0;32m<ipython-input-226-12263c467574>\u001b[0m in \u001b[0;36m<module>\u001b[0;34m\u001b[0m\n\u001b[1;32m     10\u001b[0m \u001b[0;31m# clf=RandomForestClassifier()\u001b[0m\u001b[0;34m\u001b[0m\u001b[0;34m\u001b[0m\u001b[0;34m\u001b[0m\u001b[0m\n\u001b[1;32m     11\u001b[0m \u001b[0mclf\u001b[0m\u001b[0;34m=\u001b[0m\u001b[0mDecisionTreeClassifier\u001b[0m\u001b[0;34m(\u001b[0m\u001b[0;34m)\u001b[0m\u001b[0;34m\u001b[0m\u001b[0;34m\u001b[0m\u001b[0m\n\u001b[0;32m---> 12\u001b[0;31m \u001b[0mclf\u001b[0m\u001b[0;34m.\u001b[0m\u001b[0mfit\u001b[0m\u001b[0;34m(\u001b[0m\u001b[0mX\u001b[0m\u001b[0;34m,\u001b[0m \u001b[0mY\u001b[0m\u001b[0;34m)\u001b[0m\u001b[0;34m\u001b[0m\u001b[0;34m\u001b[0m\u001b[0m\n\u001b[0m\u001b[1;32m     13\u001b[0m \u001b[0mdisplay\u001b[0m\u001b[0;34m(\u001b[0m\u001b[0msorted\u001b[0m\u001b[0;34m(\u001b[0m\u001b[0mlist\u001b[0m\u001b[0;34m(\u001b[0m\u001b[0mzip\u001b[0m\u001b[0;34m(\u001b[0m\u001b[0mclf\u001b[0m\u001b[0;34m.\u001b[0m\u001b[0mfeature_importances_\u001b[0m\u001b[0;34m,\u001b[0m \u001b[0mX\u001b[0m\u001b[0;34m.\u001b[0m\u001b[0mcolumns\u001b[0m\u001b[0;34m)\u001b[0m\u001b[0;34m)\u001b[0m\u001b[0;34m,\u001b[0m \u001b[0mreverse\u001b[0m\u001b[0;34m=\u001b[0m\u001b[0;32mTrue\u001b[0m\u001b[0;34m)\u001b[0m\u001b[0;34m)\u001b[0m\u001b[0;34m\u001b[0m\u001b[0;34m\u001b[0m\u001b[0m\n\u001b[1;32m     14\u001b[0m \u001b[0mclf\u001b[0m\u001b[0;34m.\u001b[0m\u001b[0mscore\u001b[0m\u001b[0;34m(\u001b[0m\u001b[0mX\u001b[0m\u001b[0;34m,\u001b[0m \u001b[0mY\u001b[0m\u001b[0;34m)\u001b[0m\u001b[0;34m\u001b[0m\u001b[0;34m\u001b[0m\u001b[0m\n",
      "\u001b[0;32m~/anaconda3/lib/python3.7/site-packages/sklearn/tree/tree.py\u001b[0m in \u001b[0;36mfit\u001b[0;34m(self, X, y, sample_weight, check_input, X_idx_sorted)\u001b[0m\n\u001b[1;32m    799\u001b[0m             \u001b[0msample_weight\u001b[0m\u001b[0;34m=\u001b[0m\u001b[0msample_weight\u001b[0m\u001b[0;34m,\u001b[0m\u001b[0;34m\u001b[0m\u001b[0;34m\u001b[0m\u001b[0m\n\u001b[1;32m    800\u001b[0m             \u001b[0mcheck_input\u001b[0m\u001b[0;34m=\u001b[0m\u001b[0mcheck_input\u001b[0m\u001b[0;34m,\u001b[0m\u001b[0;34m\u001b[0m\u001b[0;34m\u001b[0m\u001b[0m\n\u001b[0;32m--> 801\u001b[0;31m             X_idx_sorted=X_idx_sorted)\n\u001b[0m\u001b[1;32m    802\u001b[0m         \u001b[0;32mreturn\u001b[0m \u001b[0mself\u001b[0m\u001b[0;34m\u001b[0m\u001b[0;34m\u001b[0m\u001b[0m\n\u001b[1;32m    803\u001b[0m \u001b[0;34m\u001b[0m\u001b[0m\n",
      "\u001b[0;32m~/anaconda3/lib/python3.7/site-packages/sklearn/tree/tree.py\u001b[0m in \u001b[0;36mfit\u001b[0;34m(self, X, y, sample_weight, check_input, X_idx_sorted)\u001b[0m\n\u001b[1;32m    114\u001b[0m         \u001b[0mrandom_state\u001b[0m \u001b[0;34m=\u001b[0m \u001b[0mcheck_random_state\u001b[0m\u001b[0;34m(\u001b[0m\u001b[0mself\u001b[0m\u001b[0;34m.\u001b[0m\u001b[0mrandom_state\u001b[0m\u001b[0;34m)\u001b[0m\u001b[0;34m\u001b[0m\u001b[0;34m\u001b[0m\u001b[0m\n\u001b[1;32m    115\u001b[0m         \u001b[0;32mif\u001b[0m \u001b[0mcheck_input\u001b[0m\u001b[0;34m:\u001b[0m\u001b[0;34m\u001b[0m\u001b[0;34m\u001b[0m\u001b[0m\n\u001b[0;32m--> 116\u001b[0;31m             \u001b[0mX\u001b[0m \u001b[0;34m=\u001b[0m \u001b[0mcheck_array\u001b[0m\u001b[0;34m(\u001b[0m\u001b[0mX\u001b[0m\u001b[0;34m,\u001b[0m \u001b[0mdtype\u001b[0m\u001b[0;34m=\u001b[0m\u001b[0mDTYPE\u001b[0m\u001b[0;34m,\u001b[0m \u001b[0maccept_sparse\u001b[0m\u001b[0;34m=\u001b[0m\u001b[0;34m\"csc\"\u001b[0m\u001b[0;34m)\u001b[0m\u001b[0;34m\u001b[0m\u001b[0;34m\u001b[0m\u001b[0m\n\u001b[0m\u001b[1;32m    117\u001b[0m             \u001b[0my\u001b[0m \u001b[0;34m=\u001b[0m \u001b[0mcheck_array\u001b[0m\u001b[0;34m(\u001b[0m\u001b[0my\u001b[0m\u001b[0;34m,\u001b[0m \u001b[0mensure_2d\u001b[0m\u001b[0;34m=\u001b[0m\u001b[0;32mFalse\u001b[0m\u001b[0;34m,\u001b[0m \u001b[0mdtype\u001b[0m\u001b[0;34m=\u001b[0m\u001b[0;32mNone\u001b[0m\u001b[0;34m)\u001b[0m\u001b[0;34m\u001b[0m\u001b[0;34m\u001b[0m\u001b[0m\n\u001b[1;32m    118\u001b[0m             \u001b[0;32mif\u001b[0m \u001b[0missparse\u001b[0m\u001b[0;34m(\u001b[0m\u001b[0mX\u001b[0m\u001b[0;34m)\u001b[0m\u001b[0;34m:\u001b[0m\u001b[0;34m\u001b[0m\u001b[0;34m\u001b[0m\u001b[0m\n",
      "\u001b[0;32m~/anaconda3/lib/python3.7/site-packages/sklearn/utils/validation.py\u001b[0m in \u001b[0;36mcheck_array\u001b[0;34m(array, accept_sparse, accept_large_sparse, dtype, order, copy, force_all_finite, ensure_2d, allow_nd, ensure_min_samples, ensure_min_features, warn_on_dtype, estimator)\u001b[0m\n\u001b[1;32m    525\u001b[0m             \u001b[0;32mtry\u001b[0m\u001b[0;34m:\u001b[0m\u001b[0;34m\u001b[0m\u001b[0;34m\u001b[0m\u001b[0m\n\u001b[1;32m    526\u001b[0m                 \u001b[0mwarnings\u001b[0m\u001b[0;34m.\u001b[0m\u001b[0msimplefilter\u001b[0m\u001b[0;34m(\u001b[0m\u001b[0;34m'error'\u001b[0m\u001b[0;34m,\u001b[0m \u001b[0mComplexWarning\u001b[0m\u001b[0;34m)\u001b[0m\u001b[0;34m\u001b[0m\u001b[0;34m\u001b[0m\u001b[0m\n\u001b[0;32m--> 527\u001b[0;31m                 \u001b[0marray\u001b[0m \u001b[0;34m=\u001b[0m \u001b[0mnp\u001b[0m\u001b[0;34m.\u001b[0m\u001b[0masarray\u001b[0m\u001b[0;34m(\u001b[0m\u001b[0marray\u001b[0m\u001b[0;34m,\u001b[0m \u001b[0mdtype\u001b[0m\u001b[0;34m=\u001b[0m\u001b[0mdtype\u001b[0m\u001b[0;34m,\u001b[0m \u001b[0morder\u001b[0m\u001b[0;34m=\u001b[0m\u001b[0morder\u001b[0m\u001b[0;34m)\u001b[0m\u001b[0;34m\u001b[0m\u001b[0;34m\u001b[0m\u001b[0m\n\u001b[0m\u001b[1;32m    528\u001b[0m             \u001b[0;32mexcept\u001b[0m \u001b[0mComplexWarning\u001b[0m\u001b[0;34m:\u001b[0m\u001b[0;34m\u001b[0m\u001b[0;34m\u001b[0m\u001b[0m\n\u001b[1;32m    529\u001b[0m                 raise ValueError(\"Complex data not supported\\n\"\n",
      "\u001b[0;32m~/anaconda3/lib/python3.7/site-packages/numpy/core/numeric.py\u001b[0m in \u001b[0;36masarray\u001b[0;34m(a, dtype, order)\u001b[0m\n\u001b[1;32m    499\u001b[0m \u001b[0;34m\u001b[0m\u001b[0m\n\u001b[1;32m    500\u001b[0m     \"\"\"\n\u001b[0;32m--> 501\u001b[0;31m     \u001b[0;32mreturn\u001b[0m \u001b[0marray\u001b[0m\u001b[0;34m(\u001b[0m\u001b[0ma\u001b[0m\u001b[0;34m,\u001b[0m \u001b[0mdtype\u001b[0m\u001b[0;34m,\u001b[0m \u001b[0mcopy\u001b[0m\u001b[0;34m=\u001b[0m\u001b[0;32mFalse\u001b[0m\u001b[0;34m,\u001b[0m \u001b[0morder\u001b[0m\u001b[0;34m=\u001b[0m\u001b[0morder\u001b[0m\u001b[0;34m)\u001b[0m\u001b[0;34m\u001b[0m\u001b[0;34m\u001b[0m\u001b[0m\n\u001b[0m\u001b[1;32m    502\u001b[0m \u001b[0;34m\u001b[0m\u001b[0m\n\u001b[1;32m    503\u001b[0m \u001b[0;34m\u001b[0m\u001b[0m\n",
      "\u001b[0;31mValueError\u001b[0m: could not convert string to float: 'Increase'"
     ]
    }
   ],
   "source": [
    "feature_columns=['Overall Satisfaction', 'Class Pace', \n",
    "                 'Academic Support', 'Apply Learning Outside Class', \n",
    "                 'Instructor Engagement', 'Instructor Clarity', \n",
    "                 'Instructor Knowledge', 'Homework Feedback Rating', \n",
    "                 'Outside Time Spent']\n",
    "X=diff_df[feature_columns].drop(columns=['Overall Satisfaction'])\n",
    "# lb=LabelEncoder()\n",
    "# X['Outside Time Spent']=lb.fit_transform(X['Outside Time Spent'])\n",
    "Y=diff_df['Overall Satisfaction']\n",
    "# clf=RandomForestClassifier()\n",
    "clf=DecisionTreeClassifier()\n",
    "clf.fit(X, Y)\n",
    "display(sorted(list(zip(clf.feature_importances_, X.columns)), reverse=True))\n",
    "clf.score(X, Y)"
   ]
  },
  {
   "cell_type": "code",
   "execution_count": 224,
   "metadata": {},
   "outputs": [
    {
     "data": {
      "text/plain": [
       "42     0.0\n",
       "108    1.0\n",
       "140    0.0\n",
       "142   -1.0\n",
       "182    1.0\n",
       "      ... \n",
       "307    0.0\n",
       "370    2.0\n",
       "400   -1.0\n",
       "431    1.0\n",
       "470   -1.0\n",
       "Name: Overall Satisfaction, Length: 431, dtype: float64"
      ]
     },
     "execution_count": 224,
     "metadata": {},
     "output_type": "execute_result"
    }
   ],
   "source": [
    "diff_df['Overall Satisfaction']"
   ]
  },
  {
   "cell_type": "code",
   "execution_count": 218,
   "metadata": {
    "scrolled": true
   },
   "outputs": [
    {
     "data": {
      "image/png": "[encoded data removed]",
      "text/plain": [
       "<Figure size 432x288 with 1 Axes>"
      ]
     },
     "metadata": {
      "needs_background": "light"
     },
     "output_type": "display_data"
    }
   ],
   "source": [
    "df[['Week', 'Overall Satisfaction']].boxplot(by='Week', showmeans=True)\n",
    "plt.show()"
   ]
  },
  {
   "cell_type": "code",
   "execution_count": 164,
   "metadata": {
    "scrolled": true
   },
   "outputs": [
    {
     "data": {
      "text/html": [
       "<div>\n",
       "<style scoped>\n",
       "    .dataframe tbody tr th:only-of-type {\n",
       "        vertical-align: middle;\n",
       "    }\n",
       "\n",
       "    .dataframe tbody tr th {\n",
       "        vertical-align: top;\n",
       "    }\n",
       "\n",
       "    .dataframe thead th {\n",
       "        text-align: right;\n",
       "    }\n",
       "</style>\n",
       "<table border=\"1\" class=\"dataframe\">\n",
       "  <thead>\n",
       "    <tr style=\"text-align: right;\">\n",
       "      <th>Week</th>\n",
       "      <th>1</th>\n",
       "      <th>2</th>\n",
       "      <th>3</th>\n",
       "      <th>4</th>\n",
       "      <th>5</th>\n",
       "      <th>6</th>\n",
       "      <th>7</th>\n",
       "      <th>8</th>\n",
       "      <th>9</th>\n",
       "      <th>10</th>\n",
       "      <th>11</th>\n",
       "      <th>12</th>\n",
       "      <th>13</th>\n",
       "    </tr>\n",
       "    <tr>\n",
       "      <th>Student Name</th>\n",
       "      <th></th>\n",
       "      <th></th>\n",
       "      <th></th>\n",
       "      <th></th>\n",
       "      <th></th>\n",
       "      <th></th>\n",
       "      <th></th>\n",
       "      <th></th>\n",
       "      <th></th>\n",
       "      <th></th>\n",
       "      <th></th>\n",
       "      <th></th>\n",
       "      <th></th>\n",
       "    </tr>\n",
       "  </thead>\n",
       "  <tbody>\n",
       "    <tr>\n",
       "      <th>Aishwarya rao Ala</th>\n",
       "      <td>5.0</td>\n",
       "      <td>3.0</td>\n",
       "      <td>4.0</td>\n",
       "      <td>3.0</td>\n",
       "      <td>3.0</td>\n",
       "      <td>4.0</td>\n",
       "      <td>4.0</td>\n",
       "      <td>4.0</td>\n",
       "      <td>4.0</td>\n",
       "      <td>5.0</td>\n",
       "      <td>4.0</td>\n",
       "      <td>4.0</td>\n",
       "      <td>4.0</td>\n",
       "    </tr>\n",
       "    <tr>\n",
       "      <th>Alyson Amtman</th>\n",
       "      <td>3.0</td>\n",
       "      <td>3.0</td>\n",
       "      <td>3.0</td>\n",
       "      <td>4.0</td>\n",
       "      <td>4.0</td>\n",
       "      <td>3.0</td>\n",
       "      <td>2.0</td>\n",
       "      <td>3.0</td>\n",
       "      <td>4.0</td>\n",
       "      <td>4.0</td>\n",
       "      <td>4.0</td>\n",
       "      <td>4.0</td>\n",
       "      <td>4.0</td>\n",
       "    </tr>\n",
       "    <tr>\n",
       "      <th>Andre Shearer</th>\n",
       "      <td>3.0</td>\n",
       "      <td>3.0</td>\n",
       "      <td>4.0</td>\n",
       "      <td>3.0</td>\n",
       "      <td>3.0</td>\n",
       "      <td>4.0</td>\n",
       "      <td>4.0</td>\n",
       "      <td>4.0</td>\n",
       "      <td>3.0</td>\n",
       "      <td>5.0</td>\n",
       "      <td>4.0</td>\n",
       "      <td>2.0</td>\n",
       "      <td>3.0</td>\n",
       "    </tr>\n",
       "    <tr>\n",
       "      <th>Anna Kantor</th>\n",
       "      <td>4.0</td>\n",
       "      <td>4.0</td>\n",
       "      <td>4.0</td>\n",
       "      <td>4.0</td>\n",
       "      <td>4.0</td>\n",
       "      <td>4.0</td>\n",
       "      <td>4.0</td>\n",
       "      <td>4.0</td>\n",
       "      <td>4.0</td>\n",
       "      <td>4.0</td>\n",
       "      <td>4.0</td>\n",
       "      <td>4.0</td>\n",
       "      <td>5.0</td>\n",
       "    </tr>\n",
       "    <tr>\n",
       "      <th>Anna Sours</th>\n",
       "      <td>3.0</td>\n",
       "      <td>5.0</td>\n",
       "      <td>4.0</td>\n",
       "      <td>5.0</td>\n",
       "      <td>4.0</td>\n",
       "      <td>5.0</td>\n",
       "      <td>3.0</td>\n",
       "      <td>4.0</td>\n",
       "      <td>2.0</td>\n",
       "      <td>4.0</td>\n",
       "      <td>3.0</td>\n",
       "      <td>3.0</td>\n",
       "      <td>4.0</td>\n",
       "    </tr>\n",
       "    <tr>\n",
       "      <th>Austin Olea</th>\n",
       "      <td>5.0</td>\n",
       "      <td>5.0</td>\n",
       "      <td>5.0</td>\n",
       "      <td>NaN</td>\n",
       "      <td>5.0</td>\n",
       "      <td>5.0</td>\n",
       "      <td>5.0</td>\n",
       "      <td>5.0</td>\n",
       "      <td>5.0</td>\n",
       "      <td>5.0</td>\n",
       "      <td>5.0</td>\n",
       "      <td>5.0</td>\n",
       "      <td>5.0</td>\n",
       "    </tr>\n",
       "    <tr>\n",
       "      <th>Bailey Taber</th>\n",
       "      <td>4.0</td>\n",
       "      <td>3.0</td>\n",
       "      <td>5.0</td>\n",
       "      <td>4.0</td>\n",
       "      <td>5.0</td>\n",
       "      <td>4.0</td>\n",
       "      <td>4.0</td>\n",
       "      <td>4.0</td>\n",
       "      <td>5.0</td>\n",
       "      <td>5.0</td>\n",
       "      <td>5.0</td>\n",
       "      <td>5.0</td>\n",
       "      <td>5.0</td>\n",
       "    </tr>\n",
       "    <tr>\n",
       "      <th>Bryce Wilkinson</th>\n",
       "      <td>3.0</td>\n",
       "      <td>3.0</td>\n",
       "      <td>NaN</td>\n",
       "      <td>NaN</td>\n",
       "      <td>3.0</td>\n",
       "      <td>3.0</td>\n",
       "      <td>4.0</td>\n",
       "      <td>3.0</td>\n",
       "      <td>2.0</td>\n",
       "      <td>3.0</td>\n",
       "      <td>3.0</td>\n",
       "      <td>3.0</td>\n",
       "      <td>3.0</td>\n",
       "    </tr>\n",
       "    <tr>\n",
       "      <th>Catherine Poirier</th>\n",
       "      <td>5.0</td>\n",
       "      <td>5.0</td>\n",
       "      <td>4.0</td>\n",
       "      <td>5.0</td>\n",
       "      <td>3.0</td>\n",
       "      <td>5.0</td>\n",
       "      <td>3.0</td>\n",
       "      <td>4.0</td>\n",
       "      <td>3.0</td>\n",
       "      <td>4.0</td>\n",
       "      <td>5.0</td>\n",
       "      <td>4.0</td>\n",
       "      <td>5.0</td>\n",
       "    </tr>\n",
       "    <tr>\n",
       "      <th>David Alberghini</th>\n",
       "      <td>4.0</td>\n",
       "      <td>4.0</td>\n",
       "      <td>5.0</td>\n",
       "      <td>5.0</td>\n",
       "      <td>4.0</td>\n",
       "      <td>4.0</td>\n",
       "      <td>4.0</td>\n",
       "      <td>4.0</td>\n",
       "      <td>5.0</td>\n",
       "      <td>5.0</td>\n",
       "      <td>4.0</td>\n",
       "      <td>4.0</td>\n",
       "      <td>4.0</td>\n",
       "    </tr>\n",
       "    <tr>\n",
       "      <th>David Jimenez</th>\n",
       "      <td>5.0</td>\n",
       "      <td>4.0</td>\n",
       "      <td>3.0</td>\n",
       "      <td>3.0</td>\n",
       "      <td>3.0</td>\n",
       "      <td>4.0</td>\n",
       "      <td>3.0</td>\n",
       "      <td>3.0</td>\n",
       "      <td>2.0</td>\n",
       "      <td>3.0</td>\n",
       "      <td>3.0</td>\n",
       "      <td>3.0</td>\n",
       "      <td>1.0</td>\n",
       "    </tr>\n",
       "    <tr>\n",
       "      <th>Elizabeth Conway</th>\n",
       "      <td>4.0</td>\n",
       "      <td>3.0</td>\n",
       "      <td>4.0</td>\n",
       "      <td>3.0</td>\n",
       "      <td>3.0</td>\n",
       "      <td>4.0</td>\n",
       "      <td>3.0</td>\n",
       "      <td>3.0</td>\n",
       "      <td>3.0</td>\n",
       "      <td>3.0</td>\n",
       "      <td>3.0</td>\n",
       "      <td>3.0</td>\n",
       "      <td>3.0</td>\n",
       "    </tr>\n",
       "    <tr>\n",
       "      <th>Erich Mitchell</th>\n",
       "      <td>5.0</td>\n",
       "      <td>5.0</td>\n",
       "      <td>5.0</td>\n",
       "      <td>NaN</td>\n",
       "      <td>5.0</td>\n",
       "      <td>5.0</td>\n",
       "      <td>5.0</td>\n",
       "      <td>5.0</td>\n",
       "      <td>5.0</td>\n",
       "      <td>5.0</td>\n",
       "      <td>5.0</td>\n",
       "      <td>5.0</td>\n",
       "      <td>4.0</td>\n",
       "    </tr>\n",
       "    <tr>\n",
       "      <th>Erik Sandstrom</th>\n",
       "      <td>3.0</td>\n",
       "      <td>4.0</td>\n",
       "      <td>4.0</td>\n",
       "      <td>3.0</td>\n",
       "      <td>3.0</td>\n",
       "      <td>4.0</td>\n",
       "      <td>5.0</td>\n",
       "      <td>3.0</td>\n",
       "      <td>4.0</td>\n",
       "      <td>5.0</td>\n",
       "      <td>4.0</td>\n",
       "      <td>2.0</td>\n",
       "      <td>4.0</td>\n",
       "    </tr>\n",
       "    <tr>\n",
       "      <th>Felix Pronove</th>\n",
       "      <td>4.0</td>\n",
       "      <td>4.0</td>\n",
       "      <td>4.0</td>\n",
       "      <td>4.0</td>\n",
       "      <td>4.0</td>\n",
       "      <td>5.0</td>\n",
       "      <td>5.0</td>\n",
       "      <td>3.0</td>\n",
       "      <td>4.0</td>\n",
       "      <td>3.0</td>\n",
       "      <td>3.0</td>\n",
       "      <td>4.0</td>\n",
       "      <td>4.0</td>\n",
       "    </tr>\n",
       "    <tr>\n",
       "      <th>Gabriel Allen</th>\n",
       "      <td>4.0</td>\n",
       "      <td>4.0</td>\n",
       "      <td>4.0</td>\n",
       "      <td>4.0</td>\n",
       "      <td>4.0</td>\n",
       "      <td>4.0</td>\n",
       "      <td>4.0</td>\n",
       "      <td>4.0</td>\n",
       "      <td>4.0</td>\n",
       "      <td>4.0</td>\n",
       "      <td>3.0</td>\n",
       "      <td>3.0</td>\n",
       "      <td>4.0</td>\n",
       "    </tr>\n",
       "    <tr>\n",
       "      <th>Jason Sheridan</th>\n",
       "      <td>5.0</td>\n",
       "      <td>4.0</td>\n",
       "      <td>NaN</td>\n",
       "      <td>5.0</td>\n",
       "      <td>1.0</td>\n",
       "      <td>5.0</td>\n",
       "      <td>5.0</td>\n",
       "      <td>5.0</td>\n",
       "      <td>5.0</td>\n",
       "      <td>5.0</td>\n",
       "      <td>5.0</td>\n",
       "      <td>5.0</td>\n",
       "      <td>5.0</td>\n",
       "    </tr>\n",
       "    <tr>\n",
       "      <th>Jennifer-Rose Davis</th>\n",
       "      <td>5.0</td>\n",
       "      <td>3.0</td>\n",
       "      <td>4.0</td>\n",
       "      <td>5.0</td>\n",
       "      <td>5.0</td>\n",
       "      <td>4.0</td>\n",
       "      <td>4.0</td>\n",
       "      <td>4.0</td>\n",
       "      <td>5.0</td>\n",
       "      <td>5.0</td>\n",
       "      <td>5.0</td>\n",
       "      <td>5.0</td>\n",
       "      <td>5.0</td>\n",
       "    </tr>\n",
       "    <tr>\n",
       "      <th>John Mowry</th>\n",
       "      <td>5.0</td>\n",
       "      <td>4.0</td>\n",
       "      <td>3.0</td>\n",
       "      <td>3.0</td>\n",
       "      <td>4.0</td>\n",
       "      <td>4.0</td>\n",
       "      <td>5.0</td>\n",
       "      <td>3.0</td>\n",
       "      <td>3.0</td>\n",
       "      <td>4.0</td>\n",
       "      <td>2.0</td>\n",
       "      <td>2.0</td>\n",
       "      <td>3.0</td>\n",
       "    </tr>\n",
       "    <tr>\n",
       "      <th>Justynn Hammond</th>\n",
       "      <td>5.0</td>\n",
       "      <td>4.0</td>\n",
       "      <td>4.0</td>\n",
       "      <td>5.0</td>\n",
       "      <td>3.0</td>\n",
       "      <td>4.0</td>\n",
       "      <td>5.0</td>\n",
       "      <td>5.0</td>\n",
       "      <td>4.0</td>\n",
       "      <td>5.0</td>\n",
       "      <td>5.0</td>\n",
       "      <td>3.0</td>\n",
       "      <td>5.0</td>\n",
       "    </tr>\n",
       "    <tr>\n",
       "      <th>Kimberly Christensen</th>\n",
       "      <td>5.0</td>\n",
       "      <td>5.0</td>\n",
       "      <td>NaN</td>\n",
       "      <td>5.0</td>\n",
       "      <td>5.0</td>\n",
       "      <td>5.0</td>\n",
       "      <td>5.0</td>\n",
       "      <td>5.0</td>\n",
       "      <td>5.0</td>\n",
       "      <td>5.0</td>\n",
       "      <td>5.0</td>\n",
       "      <td>5.0</td>\n",
       "      <td>5.0</td>\n",
       "    </tr>\n",
       "    <tr>\n",
       "      <th>Lisa Caruana</th>\n",
       "      <td>3.0</td>\n",
       "      <td>3.0</td>\n",
       "      <td>4.0</td>\n",
       "      <td>4.0</td>\n",
       "      <td>5.0</td>\n",
       "      <td>3.0</td>\n",
       "      <td>4.0</td>\n",
       "      <td>3.0</td>\n",
       "      <td>3.0</td>\n",
       "      <td>5.0</td>\n",
       "      <td>4.0</td>\n",
       "      <td>4.0</td>\n",
       "      <td>3.0</td>\n",
       "    </tr>\n",
       "    <tr>\n",
       "      <th>Mark Blankenship</th>\n",
       "      <td>4.0</td>\n",
       "      <td>4.0</td>\n",
       "      <td>NaN</td>\n",
       "      <td>4.0</td>\n",
       "      <td>4.0</td>\n",
       "      <td>4.0</td>\n",
       "      <td>4.0</td>\n",
       "      <td>3.0</td>\n",
       "      <td>4.0</td>\n",
       "      <td>4.0</td>\n",
       "      <td>4.0</td>\n",
       "      <td>4.0</td>\n",
       "      <td>4.0</td>\n",
       "    </tr>\n",
       "    <tr>\n",
       "      <th>Matthew Berry</th>\n",
       "      <td>3.0</td>\n",
       "      <td>4.0</td>\n",
       "      <td>4.0</td>\n",
       "      <td>3.0</td>\n",
       "      <td>3.0</td>\n",
       "      <td>3.0</td>\n",
       "      <td>4.0</td>\n",
       "      <td>4.0</td>\n",
       "      <td>5.0</td>\n",
       "      <td>3.0</td>\n",
       "      <td>5.0</td>\n",
       "      <td>4.0</td>\n",
       "      <td>5.0</td>\n",
       "    </tr>\n",
       "    <tr>\n",
       "      <th>Michael Welch</th>\n",
       "      <td>4.0</td>\n",
       "      <td>4.0</td>\n",
       "      <td>4.0</td>\n",
       "      <td>3.0</td>\n",
       "      <td>3.0</td>\n",
       "      <td>4.0</td>\n",
       "      <td>4.0</td>\n",
       "      <td>4.0</td>\n",
       "      <td>4.0</td>\n",
       "      <td>5.0</td>\n",
       "      <td>4.0</td>\n",
       "      <td>4.0</td>\n",
       "      <td>4.0</td>\n",
       "    </tr>\n",
       "    <tr>\n",
       "      <th>Natasha Albert</th>\n",
       "      <td>4.0</td>\n",
       "      <td>3.0</td>\n",
       "      <td>3.0</td>\n",
       "      <td>3.0</td>\n",
       "      <td>3.0</td>\n",
       "      <td>4.0</td>\n",
       "      <td>4.0</td>\n",
       "      <td>4.0</td>\n",
       "      <td>5.0</td>\n",
       "      <td>5.0</td>\n",
       "      <td>NaN</td>\n",
       "      <td>3.0</td>\n",
       "      <td>NaN</td>\n",
       "    </tr>\n",
       "    <tr>\n",
       "      <th>Noah Laraway</th>\n",
       "      <td>5.0</td>\n",
       "      <td>5.0</td>\n",
       "      <td>NaN</td>\n",
       "      <td>4.0</td>\n",
       "      <td>3.0</td>\n",
       "      <td>5.0</td>\n",
       "      <td>4.0</td>\n",
       "      <td>5.0</td>\n",
       "      <td>5.0</td>\n",
       "      <td>5.0</td>\n",
       "      <td>5.0</td>\n",
       "      <td>5.0</td>\n",
       "      <td>5.0</td>\n",
       "    </tr>\n",
       "    <tr>\n",
       "      <th>Renuka Kafle</th>\n",
       "      <td>5.0</td>\n",
       "      <td>4.0</td>\n",
       "      <td>4.0</td>\n",
       "      <td>NaN</td>\n",
       "      <td>4.0</td>\n",
       "      <td>4.0</td>\n",
       "      <td>4.0</td>\n",
       "      <td>5.0</td>\n",
       "      <td>4.0</td>\n",
       "      <td>5.0</td>\n",
       "      <td>4.0</td>\n",
       "      <td>5.0</td>\n",
       "      <td>5.0</td>\n",
       "    </tr>\n",
       "    <tr>\n",
       "      <th>Ric Martinez</th>\n",
       "      <td>4.0</td>\n",
       "      <td>3.0</td>\n",
       "      <td>4.0</td>\n",
       "      <td>4.0</td>\n",
       "      <td>3.0</td>\n",
       "      <td>4.0</td>\n",
       "      <td>4.0</td>\n",
       "      <td>4.0</td>\n",
       "      <td>4.0</td>\n",
       "      <td>5.0</td>\n",
       "      <td>5.0</td>\n",
       "      <td>4.0</td>\n",
       "      <td>5.0</td>\n",
       "    </tr>\n",
       "    <tr>\n",
       "      <th>Sara Kayhan</th>\n",
       "      <td>5.0</td>\n",
       "      <td>4.0</td>\n",
       "      <td>4.0</td>\n",
       "      <td>5.0</td>\n",
       "      <td>3.0</td>\n",
       "      <td>5.0</td>\n",
       "      <td>5.0</td>\n",
       "      <td>4.0</td>\n",
       "      <td>3.0</td>\n",
       "      <td>5.0</td>\n",
       "      <td>3.0</td>\n",
       "      <td>4.0</td>\n",
       "      <td>4.0</td>\n",
       "    </tr>\n",
       "    <tr>\n",
       "      <th>Simon Xu</th>\n",
       "      <td>3.0</td>\n",
       "      <td>5.0</td>\n",
       "      <td>4.0</td>\n",
       "      <td>NaN</td>\n",
       "      <td>4.0</td>\n",
       "      <td>4.0</td>\n",
       "      <td>4.0</td>\n",
       "      <td>5.0</td>\n",
       "      <td>4.0</td>\n",
       "      <td>5.0</td>\n",
       "      <td>4.0</td>\n",
       "      <td>5.0</td>\n",
       "      <td>5.0</td>\n",
       "    </tr>\n",
       "    <tr>\n",
       "      <th>Spencer Davis</th>\n",
       "      <td>5.0</td>\n",
       "      <td>4.0</td>\n",
       "      <td>4.0</td>\n",
       "      <td>5.0</td>\n",
       "      <td>5.0</td>\n",
       "      <td>5.0</td>\n",
       "      <td>5.0</td>\n",
       "      <td>4.0</td>\n",
       "      <td>5.0</td>\n",
       "      <td>5.0</td>\n",
       "      <td>5.0</td>\n",
       "      <td>5.0</td>\n",
       "      <td>5.0</td>\n",
       "    </tr>\n",
       "    <tr>\n",
       "      <th>Susan Farago</th>\n",
       "      <td>4.0</td>\n",
       "      <td>3.0</td>\n",
       "      <td>3.0</td>\n",
       "      <td>3.0</td>\n",
       "      <td>5.0</td>\n",
       "      <td>4.0</td>\n",
       "      <td>5.0</td>\n",
       "      <td>2.0</td>\n",
       "      <td>2.0</td>\n",
       "      <td>2.0</td>\n",
       "      <td>4.0</td>\n",
       "      <td>3.0</td>\n",
       "      <td>4.0</td>\n",
       "    </tr>\n",
       "    <tr>\n",
       "      <th>Swati Dham</th>\n",
       "      <td>4.0</td>\n",
       "      <td>4.0</td>\n",
       "      <td>5.0</td>\n",
       "      <td>3.0</td>\n",
       "      <td>3.0</td>\n",
       "      <td>5.0</td>\n",
       "      <td>5.0</td>\n",
       "      <td>3.0</td>\n",
       "      <td>4.0</td>\n",
       "      <td>4.0</td>\n",
       "      <td>5.0</td>\n",
       "      <td>2.0</td>\n",
       "      <td>5.0</td>\n",
       "    </tr>\n",
       "    <tr>\n",
       "      <th>TJ Ossola</th>\n",
       "      <td>4.0</td>\n",
       "      <td>4.0</td>\n",
       "      <td>5.0</td>\n",
       "      <td>5.0</td>\n",
       "      <td>2.0</td>\n",
       "      <td>5.0</td>\n",
       "      <td>5.0</td>\n",
       "      <td>5.0</td>\n",
       "      <td>4.0</td>\n",
       "      <td>5.0</td>\n",
       "      <td>5.0</td>\n",
       "      <td>5.0</td>\n",
       "      <td>5.0</td>\n",
       "    </tr>\n",
       "    <tr>\n",
       "      <th>Tricia Harris</th>\n",
       "      <td>4.0</td>\n",
       "      <td>5.0</td>\n",
       "      <td>NaN</td>\n",
       "      <td>4.0</td>\n",
       "      <td>5.0</td>\n",
       "      <td>3.0</td>\n",
       "      <td>4.0</td>\n",
       "      <td>2.0</td>\n",
       "      <td>5.0</td>\n",
       "      <td>4.0</td>\n",
       "      <td>4.0</td>\n",
       "      <td>4.0</td>\n",
       "      <td>4.0</td>\n",
       "    </tr>\n",
       "    <tr>\n",
       "      <th>Verity Fiadonu</th>\n",
       "      <td>2.0</td>\n",
       "      <td>2.0</td>\n",
       "      <td>NaN</td>\n",
       "      <td>NaN</td>\n",
       "      <td>3.0</td>\n",
       "      <td>3.0</td>\n",
       "      <td>3.0</td>\n",
       "      <td>3.0</td>\n",
       "      <td>3.0</td>\n",
       "      <td>3.0</td>\n",
       "      <td>3.0</td>\n",
       "      <td>3.0</td>\n",
       "      <td>3.0</td>\n",
       "    </tr>\n",
       "    <tr>\n",
       "      <th>William Riebel</th>\n",
       "      <td>5.0</td>\n",
       "      <td>4.0</td>\n",
       "      <td>5.0</td>\n",
       "      <td>5.0</td>\n",
       "      <td>5.0</td>\n",
       "      <td>5.0</td>\n",
       "      <td>4.0</td>\n",
       "      <td>4.0</td>\n",
       "      <td>3.0</td>\n",
       "      <td>5.0</td>\n",
       "      <td>4.0</td>\n",
       "      <td>5.0</td>\n",
       "      <td>4.0</td>\n",
       "    </tr>\n",
       "  </tbody>\n",
       "</table>\n",
       "</div>"
      ],
      "text/plain": [
       "Week                   1    2    3    4    5    6    7    8    9    10   11  \\\n",
       "Student Name                                                                  \n",
       "Aishwarya rao Ala     5.0  3.0  4.0  3.0  3.0  4.0  4.0  4.0  4.0  5.0  4.0   \n",
       "Alyson Amtman         3.0  3.0  3.0  4.0  4.0  3.0  2.0  3.0  4.0  4.0  4.0   \n",
       "Andre Shearer         3.0  3.0  4.0  3.0  3.0  4.0  4.0  4.0  3.0  5.0  4.0   \n",
       "Anna Kantor           4.0  4.0  4.0  4.0  4.0  4.0  4.0  4.0  4.0  4.0  4.0   \n",
       "Anna Sours            3.0  5.0  4.0  5.0  4.0  5.0  3.0  4.0  2.0  4.0  3.0   \n",
       "Austin Olea           5.0  5.0  5.0  NaN  5.0  5.0  5.0  5.0  5.0  5.0  5.0   \n",
       "Bailey Taber          4.0  3.0  5.0  4.0  5.0  4.0  4.0  4.0  5.0  5.0  5.0   \n",
       "Bryce Wilkinson       3.0  3.0  NaN  NaN  3.0  3.0  4.0  3.0  2.0  3.0  3.0   \n",
       "Catherine Poirier     5.0  5.0  4.0  5.0  3.0  5.0  3.0  4.0  3.0  4.0  5.0   \n",
       "David Alberghini      4.0  4.0  5.0  5.0  4.0  4.0  4.0  4.0  5.0  5.0  4.0   \n",
       "David Jimenez         5.0  4.0  3.0  3.0  3.0  4.0  3.0  3.0  2.0  3.0  3.0   \n",
       "Elizabeth Conway      4.0  3.0  4.0  3.0  3.0  4.0  3.0  3.0  3.0  3.0  3.0   \n",
       "Erich Mitchell        5.0  5.0  5.0  NaN  5.0  5.0  5.0  5.0  5.0  5.0  5.0   \n",
       "Erik Sandstrom        3.0  4.0  4.0  3.0  3.0  4.0  5.0  3.0  4.0  5.0  4.0   \n",
       "Felix Pronove         4.0  4.0  4.0  4.0  4.0  5.0  5.0  3.0  4.0  3.0  3.0   \n",
       "Gabriel Allen         4.0  4.0  4.0  4.0  4.0  4.0  4.0  4.0  4.0  4.0  3.0   \n",
       "Jason Sheridan        5.0  4.0  NaN  5.0  1.0  5.0  5.0  5.0  5.0  5.0  5.0   \n",
       "Jennifer-Rose Davis   5.0  3.0  4.0  5.0  5.0  4.0  4.0  4.0  5.0  5.0  5.0   \n",
       "John Mowry            5.0  4.0  3.0  3.0  4.0  4.0  5.0  3.0  3.0  4.0  2.0   \n",
       "Justynn Hammond       5.0  4.0  4.0  5.0  3.0  4.0  5.0  5.0  4.0  5.0  5.0   \n",
       "Kimberly Christensen  5.0  5.0  NaN  5.0  5.0  5.0  5.0  5.0  5.0  5.0  5.0   \n",
       "Lisa Caruana          3.0  3.0  4.0  4.0  5.0  3.0  4.0  3.0  3.0  5.0  4.0   \n",
       "Mark Blankenship      4.0  4.0  NaN  4.0  4.0  4.0  4.0  3.0  4.0  4.0  4.0   \n",
       "Matthew Berry         3.0  4.0  4.0  3.0  3.0  3.0  4.0  4.0  5.0  3.0  5.0   \n",
       "Michael Welch         4.0  4.0  4.0  3.0  3.0  4.0  4.0  4.0  4.0  5.0  4.0   \n",
       "Natasha Albert        4.0  3.0  3.0  3.0  3.0  4.0  4.0  4.0  5.0  5.0  NaN   \n",
       "Noah Laraway          5.0  5.0  NaN  4.0  3.0  5.0  4.0  5.0  5.0  5.0  5.0   \n",
       "Renuka Kafle          5.0  4.0  4.0  NaN  4.0  4.0  4.0  5.0  4.0  5.0  4.0   \n",
       "Ric Martinez          4.0  3.0  4.0  4.0  3.0  4.0  4.0  4.0  4.0  5.0  5.0   \n",
       "Sara Kayhan           5.0  4.0  4.0  5.0  3.0  5.0  5.0  4.0  3.0  5.0  3.0   \n",
       "Simon Xu              3.0  5.0  4.0  NaN  4.0  4.0  4.0  5.0  4.0  5.0  4.0   \n",
       "Spencer Davis         5.0  4.0  4.0  5.0  5.0  5.0  5.0  4.0  5.0  5.0  5.0   \n",
       "Susan Farago          4.0  3.0  3.0  3.0  5.0  4.0  5.0  2.0  2.0  2.0  4.0   \n",
       "Swati Dham            4.0  4.0  5.0  3.0  3.0  5.0  5.0  3.0  4.0  4.0  5.0   \n",
       "TJ Ossola             4.0  4.0  5.0  5.0  2.0  5.0  5.0  5.0  4.0  5.0  5.0   \n",
       "Tricia Harris         4.0  5.0  NaN  4.0  5.0  3.0  4.0  2.0  5.0  4.0  4.0   \n",
       "Verity Fiadonu        2.0  2.0  NaN  NaN  3.0  3.0  3.0  3.0  3.0  3.0  3.0   \n",
       "William Riebel        5.0  4.0  5.0  5.0  5.0  5.0  4.0  4.0  3.0  5.0  4.0   \n",
       "\n",
       "Week                   12   13  \n",
       "Student Name                    \n",
       "Aishwarya rao Ala     4.0  4.0  \n",
       "Alyson Amtman         4.0  4.0  \n",
       "Andre Shearer         2.0  3.0  \n",
       "Anna Kantor           4.0  5.0  \n",
       "Anna Sours            3.0  4.0  \n",
       "Austin Olea           5.0  5.0  \n",
       "Bailey Taber          5.0  5.0  \n",
       "Bryce Wilkinson       3.0  3.0  \n",
       "Catherine Poirier     4.0  5.0  \n",
       "David Alberghini      4.0  4.0  \n",
       "David Jimenez         3.0  1.0  \n",
       "Elizabeth Conway      3.0  3.0  \n",
       "Erich Mitchell        5.0  4.0  \n",
       "Erik Sandstrom        2.0  4.0  \n",
       "Felix Pronove         4.0  4.0  \n",
       "Gabriel Allen         3.0  4.0  \n",
       "Jason Sheridan        5.0  5.0  \n",
       "Jennifer-Rose Davis   5.0  5.0  \n",
       "John Mowry            2.0  3.0  \n",
       "Justynn Hammond       3.0  5.0  \n",
       "Kimberly Christensen  5.0  5.0  \n",
       "Lisa Caruana          4.0  3.0  \n",
       "Mark Blankenship      4.0  4.0  \n",
       "Matthew Berry         4.0  5.0  \n",
       "Michael Welch         4.0  4.0  \n",
       "Natasha Albert        3.0  NaN  \n",
       "Noah Laraway          5.0  5.0  \n",
       "Renuka Kafle          5.0  5.0  \n",
       "Ric Martinez          4.0  5.0  \n",
       "Sara Kayhan           4.0  4.0  \n",
       "Simon Xu              5.0  5.0  \n",
       "Spencer Davis         5.0  5.0  \n",
       "Susan Farago          3.0  4.0  \n",
       "Swati Dham            2.0  5.0  \n",
       "TJ Ossola             5.0  5.0  \n",
       "Tricia Harris         4.0  4.0  \n",
       "Verity Fiadonu        3.0  3.0  \n",
       "William Riebel        5.0  4.0  "
      ]
     },
     "execution_count": 164,
     "metadata": {},
     "output_type": "execute_result"
    }
   ],
   "source": [
    "pivot_df"
   ]
  },
  {
   "cell_type": "code",
   "execution_count": 173,
   "metadata": {
    "scrolled": false
   },
   "outputs": [
    {
     "name": "stdout",
     "output_type": "stream",
     "text": [
      "line btw 1&2 - 0.61 a: 3.972972972972973 vs. b: 4.033538083538083\n"
     ]
    },
    {
     "data": {
      "image/png": "[encoded data removed]",
      "text/plain": [
       "<Figure size 432x288 with 1 Axes>"
      ]
     },
     "metadata": {
      "needs_background": "light"
     },
     "output_type": "display_data"
    },
    {
     "name": "stdout",
     "output_type": "stream",
     "text": [
      "line btw 2&3 - 0.43 a: 3.972972972972973 vs. b: 4.039803439803441\n"
     ]
    },
    {
     "data": {
      "image/png": "[encoded data removed]",
      "text/plain": [
       "<Figure size 432x288 with 1 Axes>"
      ]
     },
     "metadata": {
      "needs_background": "light"
     },
     "output_type": "display_data"
    },
    {
     "name": "stdout",
     "output_type": "stream",
     "text": [
      "line btw 3&4 - 0.13 a: 3.9324324324324325 vs. b: 4.054954954954955\n"
     ]
    },
    {
     "data": {
      "image/png": "[encoded data removed]",
      "text/plain": [
       "<Figure size 432x288 with 1 Axes>"
      ]
     },
     "metadata": {
      "needs_background": "light"
     },
     "output_type": "display_data"
    },
    {
     "name": "stdout",
     "output_type": "stream",
     "text": [
      "line btw 4&5 - 0.15 a: 3.9459459459459465 vs. b: 4.060060060060059\n"
     ]
    },
    {
     "data": {
      "image/png": "[encoded data removed]",
      "text/plain": [
       "<Figure size 432x288 with 1 Axes>"
      ]
     },
     "metadata": {
      "needs_background": "light"
     },
     "output_type": "display_data"
    },
    {
     "name": "stdout",
     "output_type": "stream",
     "text": [
      "line btw 5&6 - 0.17 a: 3.950450450450451 vs. b: 4.070945945945946\n"
     ]
    },
    {
     "data": {
      "image/png": "[encoded data removed]",
      "text/plain": [
       "<Figure size 432x288 with 1 Axes>"
      ]
     },
     "metadata": {
      "needs_background": "light"
     },
     "output_type": "display_data"
    },
    {
     "name": "stdout",
     "output_type": "stream",
     "text": [
      "line btw 6&7 - 0.32 a: 3.983333333333334 vs. b: 4.0617760617760625\n"
     ]
    },
    {
     "data": {
      "image/png": "[encoded data removed]",
      "text/plain": [
       "<Figure size 432x288 with 1 Axes>"
      ]
     },
     "metadata": {
      "needs_background": "light"
     },
     "output_type": "display_data"
    },
    {
     "name": "stdout",
     "output_type": "stream",
     "text": [
      "line btw 7&8 - 0.33 a: 3.992277992277992 vs. b: 4.067567567567566\n"
     ]
    },
    {
     "data": {
      "image/png": "[encoded data removed]",
      "text/plain": [
       "<Figure size 432x288 with 1 Axes>"
      ]
     },
     "metadata": {
      "needs_background": "light"
     },
     "output_type": "display_data"
    },
    {
     "name": "stdout",
     "output_type": "stream",
     "text": [
      "line btw 8&9 - 0.15 a: 3.987451737451737 vs. b: 4.0918918918918905\n"
     ]
    },
    {
     "data": {
      "image/png": "[encoded data removed]",
      "text/plain": [
       "<Figure size 432x288 with 1 Axes>"
      ]
     },
     "metadata": {
      "needs_background": "light"
     },
     "output_type": "display_data"
    },
    {
     "name": "stdout",
     "output_type": "stream",
     "text": [
      "line btw 9&10 - 0.06 a: 3.9822501072501084 vs. b: 4.128378378378378\n"
     ]
    },
    {
     "data": {
      "image/png": "[encoded data removed]",
      "text/plain": [
       "<Figure size 432x288 with 1 Axes>"
      ]
     },
     "metadata": {
      "needs_background": "light"
     },
     "output_type": "display_data"
    },
    {
     "name": "stdout",
     "output_type": "stream",
     "text": [
      "line btw 10&11 - 0.07 a: 3.9981231231231233 vs. b: 4.126126126126126\n"
     ]
    },
    {
     "data": {
      "image/png": "[encoded data removed]",
      "text/plain": [
       "<Figure size 432x288 with 1 Axes>"
      ]
     },
     "metadata": {
      "needs_background": "light"
     },
     "output_type": "display_data"
    },
    {
     "name": "stdout",
     "output_type": "stream",
     "text": [
      "line btw 11&12 - 0.49 a: 4.018618618618619 vs. b: 4.081081081081081\n"
     ]
    },
    {
     "data": {
      "image/png": "[encoded data removed]",
      "text/plain": [
       "<Figure size 432x288 with 1 Axes>"
      ]
     },
     "metadata": {
      "needs_background": "light"
     },
     "output_type": "display_data"
    },
    {
     "name": "stdout",
     "output_type": "stream",
     "text": [
      "line btw 12&13 - 0.35 a: 4.01941031941032 vs. b: 4.135135135135135\n"
     ]
    },
    {
     "data": {
      "image/png": "[encoded data removed]",
      "text/plain": [
       "<Figure size 432x288 with 1 Axes>"
      ]
     },
     "metadata": {
      "needs_background": "light"
     },
     "output_type": "display_data"
    }
   ],
   "source": [
    "metric='Overall Satisfaction'\n",
    "pivot_df=df[[metric, 'Student Name', 'Week']].pivot(values=metric,\n",
    "                                                           index='Student Name', \n",
    "                                                           columns='Week')\n",
    "# display(pivot_df)\n",
    "for i in range(1, df['Week'].nunique()):\n",
    "    a_list=pivot_df.iloc[:, 0:i].mean(axis=1)\n",
    "    b_list=pivot_df.iloc[:, i:].mean(axis=1)\n",
    "    plt.hist(a_list, weights=np.ones(len(a_list)) / len(a_list), alpha=0.5, label='A')\n",
    "    plt.hist(b_list, weights=np.ones(len(b_list)) / len(b_list), alpha=0.5, label='B')\n",
    "    t, p=sts.ttest_rel(a_list, b_list)\n",
    "    print(f\"line btw {i}&{i+1} - {round(p, 2)} a: {a_list.mean()} vs. b: {b_list.mean()}\")\n",
    "    plt.legend()\n",
    "    plt.show()\n",
    "#     print(f'{i} - {round(sts.ttest_rel(a_list, b_list)[1], 2)}')"
   ]
  },
  {
   "cell_type": "code",
   "execution_count": 117,
   "metadata": {
    "scrolled": true
   },
   "outputs": [
    {
     "name": "stdout",
     "output_type": "stream",
     "text": [
      "line btw 1&2 - 0.69 a: 4.029478458049887 vs. b: 3.973684210526316\n"
     ]
    },
    {
     "data": {
      "image/png": "[encoded data removed]",
      "text/plain": [
       "<Figure size 432x288 with 1 Axes>"
      ]
     },
     "metadata": {
      "needs_background": "light"
     },
     "output_type": "display_data"
    },
    {
     "name": "stdout",
     "output_type": "stream",
     "text": [
      "line btw 2&3 - 0.46 a: 4.037220843672457 vs. b: 3.960526315789474\n"
     ]
    },
    {
     "data": {
      "image/png": "[encoded data removed]",
      "text/plain": [
       "<Figure size 432x288 with 1 Axes>"
      ]
     },
     "metadata": {
      "needs_background": "light"
     },
     "output_type": "display_data"
    },
    {
     "name": "stdout",
     "output_type": "stream",
     "text": [
      "line btw 3&4 - 0.16 a: 4.053763440860215 vs. b: 3.925233644859813\n"
     ]
    },
    {
     "data": {
      "image/png": "[encoded data removed]",
      "text/plain": [
       "<Figure size 432x288 with 1 Axes>"
      ]
     },
     "metadata": {
      "needs_background": "light"
     },
     "output_type": "display_data"
    },
    {
     "name": "stdout",
     "output_type": "stream",
     "text": [
      "line btw 4&5 - 0.16 a: 4.0588235294117645 vs. b: 3.9424460431654675\n"
     ]
    },
    {
     "data": {
      "image/png": "[encoded data removed]",
      "text/plain": [
       "<Figure size 432x288 with 1 Axes>"
      ]
     },
     "metadata": {
      "needs_background": "light"
     },
     "output_type": "display_data"
    },
    {
     "name": "stdout",
     "output_type": "stream",
     "text": [
      "line btw 5&6 - 0.1 a: 4.072847682119205 vs. b: 3.943502824858757\n"
     ]
    },
    {
     "data": {
      "image/png": "[encoded data removed]",
      "text/plain": [
       "<Figure size 432x288 with 1 Axes>"
      ]
     },
     "metadata": {
      "needs_background": "light"
     },
     "output_type": "display_data"
    },
    {
     "name": "stdout",
     "output_type": "stream",
     "text": [
      "line btw 6&7 - 0.25 a: 4.0643939393939394 vs. b: 3.9767441860465116\n"
     ]
    },
    {
     "data": {
      "image/png": "[encoded data removed]",
      "text/plain": [
       "<Figure size 432x288 with 1 Axes>"
      ]
     },
     "metadata": {
      "needs_background": "light"
     },
     "output_type": "display_data"
    },
    {
     "name": "stdout",
     "output_type": "stream",
     "text": [
      "line btw 7&8 - 0.25 a: 4.070796460176991 vs. b: 3.984189723320158\n"
     ]
    },
    {
     "data": {
      "image/png": "[encoded data removed]",
      "text/plain": [
       "<Figure size 432x288 with 1 Axes>"
      ]
     },
     "metadata": {
      "needs_background": "light"
     },
     "output_type": "display_data"
    },
    {
     "name": "stdout",
     "output_type": "stream",
     "text": [
      "line btw 8&9 - 0.13 a: 4.095744680851064 vs. b: 3.979381443298969\n"
     ]
    },
    {
     "data": {
      "image/png": "[encoded data removed]",
      "text/plain": [
       "<Figure size 432x288 with 1 Axes>"
      ]
     },
     "metadata": {
      "needs_background": "light"
     },
     "output_type": "display_data"
    },
    {
     "name": "stdout",
     "output_type": "stream",
     "text": [
      "line btw 9&10 - 0.07 a: 4.126666666666667 vs. b: 3.978723404255319\n"
     ]
    },
    {
     "data": {
      "image/png": "[encoded data removed]",
      "text/plain": [
       "<Figure size 432x288 with 1 Axes>"
      ]
     },
     "metadata": {
      "needs_background": "light"
     },
     "output_type": "display_data"
    },
    {
     "name": "stdout",
     "output_type": "stream",
     "text": [
      "line btw 10&11 - 0.18 a: 4.116071428571429 vs. b: 3.997275204359673\n"
     ]
    },
    {
     "data": {
      "image/png": "[encoded data removed]",
      "text/plain": [
       "<Figure size 432x288 with 1 Axes>"
      ]
     },
     "metadata": {
      "needs_background": "light"
     },
     "output_type": "display_data"
    },
    {
     "name": "stdout",
     "output_type": "stream",
     "text": [
      "line btw 11&12 - 0.64 a: 4.066666666666666 vs. b: 4.017326732673268\n"
     ]
    },
    {
     "data": {
      "image/png": "[encoded data removed]",
      "text/plain": [
       "<Figure size 432x288 with 1 Axes>"
      ]
     },
     "metadata": {
      "needs_background": "light"
     },
     "output_type": "display_data"
    },
    {
     "name": "stdout",
     "output_type": "stream",
     "text": [
      "line btw 12&13 - 0.4 a: 4.135135135135135 vs. b: 4.015837104072398\n"
     ]
    },
    {
     "data": {
      "image/png": "[encoded data removed]",
      "text/plain": [
       "<Figure size 432x288 with 1 Axes>"
      ]
     },
     "metadata": {
      "needs_background": "light"
     },
     "output_type": "display_data"
    }
   ],
   "source": [
    "for each_cut in range(1, df['Week'].nunique()): \n",
    "    a_list=df[df['Week']>each_cut]\n",
    "    b_list=df[df['Week']<=each_cut]\n",
    "#     plt.hist(a_list['Overall Satisfaction'], weights=np.ones(len(a_list)) / len(a_list), alpha=0.5, label='A')\n",
    "#     plt.hist(b_list['Overall Satisfaction'], weights=np.ones(len(b_list)) / len(b_list), alpha=0.5, label='B')\n",
    "    plt.hist(a_list['Overall Satisfaction'], density=True, alpha=0.5, label='A')\n",
    "    plt.hist(b_list['Overall Satisfaction'], density=True, alpha=0.5, label='B')\n",
    "    t, p=sts.ttest_ind(a_list['Overall Satisfaction'], b_list['Overall Satisfaction'])\n",
    "    print(f\"line btw {each_cut}&{each_cut+1} - {round(p, 2)} a: {a_list['Overall Satisfaction'].mean()} vs. b: {b_list['Overall Satisfaction'].mean()}\")\n",
    "    plt.legend()\n",
    "    plt.show()"
   ]
  },
  {
   "cell_type": "code",
   "execution_count": 118,
   "metadata": {
    "scrolled": true
   },
   "outputs": [
    {
     "name": "stdout",
     "output_type": "stream",
     "text": [
      "line btw 1&2 - 0.69 a: 4.029478458049887 vs. b: 3.973684210526316\n"
     ]
    },
    {
     "data": {
      "image/png": "[encoded data removed]",
      "text/plain": [
       "<Figure size 432x288 with 1 Axes>"
      ]
     },
     "metadata": {
      "needs_background": "light"
     },
     "output_type": "display_data"
    },
    {
     "name": "stdout",
     "output_type": "stream",
     "text": [
      "line btw 2&3 - 0.46 a: 4.037220843672457 vs. b: 3.960526315789474\n"
     ]
    },
    {
     "data": {
      "image/png": "[encoded data removed]",
      "text/plain": [
       "<Figure size 432x288 with 1 Axes>"
      ]
     },
     "metadata": {
      "needs_background": "light"
     },
     "output_type": "display_data"
    },
    {
     "name": "stdout",
     "output_type": "stream",
     "text": [
      "line btw 3&4 - 0.16 a: 4.053763440860215 vs. b: 3.925233644859813\n"
     ]
    },
    {
     "data": {
      "image/png": "[encoded data removed]",
      "text/plain": [
       "<Figure size 432x288 with 1 Axes>"
      ]
     },
     "metadata": {
      "needs_background": "light"
     },
     "output_type": "display_data"
    },
    {
     "name": "stdout",
     "output_type": "stream",
     "text": [
      "line btw 4&5 - 0.16 a: 4.0588235294117645 vs. b: 3.9424460431654675\n"
     ]
    },
    {
     "data": {
      "image/png": "[encoded data removed]",
      "text/plain": [
       "<Figure size 432x288 with 1 Axes>"
      ]
     },
     "metadata": {
      "needs_background": "light"
     },
     "output_type": "display_data"
    },
    {
     "name": "stdout",
     "output_type": "stream",
     "text": [
      "line btw 5&6 - 0.1 a: 4.072847682119205 vs. b: 3.943502824858757\n"
     ]
    },
    {
     "data": {
      "image/png": "[encoded data removed]",
      "text/plain": [
       "<Figure size 432x288 with 1 Axes>"
      ]
     },
     "metadata": {
      "needs_background": "light"
     },
     "output_type": "display_data"
    },
    {
     "name": "stdout",
     "output_type": "stream",
     "text": [
      "line btw 6&7 - 0.25 a: 4.0643939393939394 vs. b: 3.9767441860465116\n"
     ]
    },
    {
     "data": {
      "image/png": "[encoded data removed]",
      "text/plain": [
       "<Figure size 432x288 with 1 Axes>"
      ]
     },
     "metadata": {
      "needs_background": "light"
     },
     "output_type": "display_data"
    },
    {
     "name": "stdout",
     "output_type": "stream",
     "text": [
      "line btw 7&8 - 0.25 a: 4.070796460176991 vs. b: 3.984189723320158\n"
     ]
    },
    {
     "data": {
      "image/png": "[encoded data removed]",
      "text/plain": [
       "<Figure size 432x288 with 1 Axes>"
      ]
     },
     "metadata": {
      "needs_background": "light"
     },
     "output_type": "display_data"
    },
    {
     "name": "stdout",
     "output_type": "stream",
     "text": [
      "line btw 8&9 - 0.13 a: 4.095744680851064 vs. b: 3.979381443298969\n"
     ]
    },
    {
     "data": {
      "image/png": "[encoded data removed]",
      "text/plain": [
       "<Figure size 432x288 with 1 Axes>"
      ]
     },
     "metadata": {
      "needs_background": "light"
     },
     "output_type": "display_data"
    },
    {
     "name": "stdout",
     "output_type": "stream",
     "text": [
      "line btw 9&10 - 0.07 a: 4.126666666666667 vs. b: 3.978723404255319\n"
     ]
    },
    {
     "data": {
      "image/png": "[encoded data removed]",
      "text/plain": [
       "<Figure size 432x288 with 1 Axes>"
      ]
     },
     "metadata": {
      "needs_background": "light"
     },
     "output_type": "display_data"
    },
    {
     "name": "stdout",
     "output_type": "stream",
     "text": [
      "line btw 10&11 - 0.18 a: 4.116071428571429 vs. b: 3.997275204359673\n"
     ]
    },
    {
     "data": {
      "image/png": "[encoded data removed]",
      "text/plain": [
       "<Figure size 432x288 with 1 Axes>"
      ]
     },
     "metadata": {
      "needs_background": "light"
     },
     "output_type": "display_data"
    },
    {
     "name": "stdout",
     "output_type": "stream",
     "text": [
      "line btw 11&12 - 0.64 a: 4.066666666666666 vs. b: 4.017326732673268\n"
     ]
    },
    {
     "data": {
      "image/png": "[encoded data removed]",
      "text/plain": [
       "<Figure size 432x288 with 1 Axes>"
      ]
     },
     "metadata": {
      "needs_background": "light"
     },
     "output_type": "display_data"
    },
    {
     "name": "stdout",
     "output_type": "stream",
     "text": [
      "line btw 12&13 - 0.4 a: 4.135135135135135 vs. b: 4.015837104072398\n"
     ]
    },
    {
     "data": {
      "image/png": "[encoded data removed]",
      "text/plain": [
       "<Figure size 432x288 with 1 Axes>"
      ]
     },
     "metadata": {
      "needs_background": "light"
     },
     "output_type": "display_data"
    }
   ],
   "source": [
    "for each_cut in range(1, df['Week'].nunique()): \n",
    "    a_list=df[df['Week']>each_cut]\n",
    "    b_list=df[df['Week']<=each_cut]\n",
    "    plt.hist(a_list['Overall Satisfaction'], weights=np.ones(len(a_list)) / len(a_list), alpha=0.5, label='A')\n",
    "    plt.hist(b_list['Overall Satisfaction'], weights=np.ones(len(b_list)) / len(b_list), alpha=0.5, label='B')\n",
    "#     plt.hist(a_list['Overall Satisfaction'], density=True, alpha=0.5, label='A')\n",
    "#     plt.hist(b_list['Overall Satisfaction'], density=True, alpha=0.5, label='B')\n",
    "    t, p=sts.ttest_ind(a_list['Overall Satisfaction'], b_list['Overall Satisfaction'])\n",
    "    print(f\"line btw {each_cut}&{each_cut+1} - {round(p, 2)} a: {a_list['Overall Satisfaction'].mean()} vs. b: {b_list['Overall Satisfaction'].mean()}\")\n",
    "    plt.legend()\n",
    "    plt.show()"
   ]
  },
  {
   "cell_type": "code",
   "execution_count": 188,
   "metadata": {},
   "outputs": [
    {
     "data": {
      "text/plain": [
       "[(0.24875625889405986, 'Instructor Clarity'),\n",
       " (0.1555495892296451, 'Apply Learning Outside Class'),\n",
       " (0.12040125292877984, 'Class Pace'),\n",
       " (0.11902478805778566, 'Instructor Knowledge'),\n",
       " (0.10940177653483277, 'Homework Feedback Rating'),\n",
       " (0.10254539280141475, 'Outside Time Spent'),\n",
       " (0.08470793393347605, 'Academic Support'),\n",
       " (0.05961300762000588, 'Instructor Engagement')]"
      ]
     },
     "metadata": {},
     "output_type": "display_data"
    },
    {
     "data": {
      "text/plain": [
       "0.9722222222222222"
      ]
     },
     "execution_count": 188,
     "metadata": {},
     "output_type": "execute_result"
    }
   ],
   "source": [
    "from sklearn.ensemble import RandomForestClassifier\n",
    "from sklearn.tree import DecisionTreeClassifier\n",
    "from sklearn.preprocessing import LabelEncoder\n",
    "feature_columns=['Overall Satisfaction', 'Class Pace', \n",
    "                 'Academic Support', 'Apply Learning Outside Class', \n",
    "                 'Instructor Engagement', 'Instructor Clarity', \n",
    "                 'Instructor Knowledge', 'Homework Feedback Rating', \n",
    "                 'Outside Time Spent']\n",
    "X=df[feature_columns].drop(columns=['Overall Satisfaction'])\n",
    "lb=LabelEncoder()\n",
    "X['Outside Time Spent']=lb.fit_transform(X['Outside Time Spent'])\n",
    "Y=df['Overall Satisfaction']\n",
    "# clf=RandomForestClassifier()\n",
    "clf=DecisionTreeClassifier()\n",
    "clf.fit(X, Y)\n",
    "display(sorted(list(zip(clf.feature_importances_, X.columns)), reverse=True))\n",
    "clf.score(X, Y)"
   ]
  },
  {
   "cell_type": "code",
   "execution_count": 189,
   "metadata": {},
   "outputs": [
    {
     "data": {
      "text/html": [
       "<div>\n",
       "<style scoped>\n",
       "    .dataframe tbody tr th:only-of-type {\n",
       "        vertical-align: middle;\n",
       "    }\n",
       "\n",
       "    .dataframe tbody tr th {\n",
       "        vertical-align: top;\n",
       "    }\n",
       "\n",
       "    .dataframe thead th {\n",
       "        text-align: right;\n",
       "    }\n",
       "</style>\n",
       "<table border=\"1\" class=\"dataframe\">\n",
       "  <thead>\n",
       "    <tr style=\"text-align: right;\">\n",
       "      <th></th>\n",
       "      <th>Overall Satisfaction</th>\n",
       "      <th>Class Pace</th>\n",
       "      <th>Academic Support</th>\n",
       "      <th>Apply Learning Outside Class</th>\n",
       "      <th>Instructor Engagement</th>\n",
       "      <th>Instructor Clarity</th>\n",
       "      <th>Instructor Knowledge</th>\n",
       "      <th>Homework Feedback Rating</th>\n",
       "      <th>Outside Time Spent</th>\n",
       "    </tr>\n",
       "  </thead>\n",
       "  <tbody>\n",
       "    <tr>\n",
       "      <th>Overall Satisfaction</th>\n",
       "      <td>1.000000</td>\n",
       "      <td>0.173225</td>\n",
       "      <td>0.554195</td>\n",
       "      <td>0.506035</td>\n",
       "      <td>0.592328</td>\n",
       "      <td>0.633679</td>\n",
       "      <td>0.540757</td>\n",
       "      <td>0.380128</td>\n",
       "      <td>-0.154410</td>\n",
       "    </tr>\n",
       "    <tr>\n",
       "      <th>Class Pace</th>\n",
       "      <td>0.173225</td>\n",
       "      <td>1.000000</td>\n",
       "      <td>0.145496</td>\n",
       "      <td>-0.016478</td>\n",
       "      <td>0.267007</td>\n",
       "      <td>0.213992</td>\n",
       "      <td>0.352332</td>\n",
       "      <td>0.183133</td>\n",
       "      <td>-0.242662</td>\n",
       "    </tr>\n",
       "    <tr>\n",
       "      <th>Academic Support</th>\n",
       "      <td>0.554195</td>\n",
       "      <td>0.145496</td>\n",
       "      <td>1.000000</td>\n",
       "      <td>0.333132</td>\n",
       "      <td>0.543029</td>\n",
       "      <td>0.495884</td>\n",
       "      <td>0.504615</td>\n",
       "      <td>0.225899</td>\n",
       "      <td>-0.160439</td>\n",
       "    </tr>\n",
       "    <tr>\n",
       "      <th>Apply Learning Outside Class</th>\n",
       "      <td>0.506035</td>\n",
       "      <td>-0.016478</td>\n",
       "      <td>0.333132</td>\n",
       "      <td>1.000000</td>\n",
       "      <td>0.447586</td>\n",
       "      <td>0.409401</td>\n",
       "      <td>0.208229</td>\n",
       "      <td>0.276007</td>\n",
       "      <td>-0.025961</td>\n",
       "    </tr>\n",
       "    <tr>\n",
       "      <th>Instructor Engagement</th>\n",
       "      <td>0.592328</td>\n",
       "      <td>0.267007</td>\n",
       "      <td>0.543029</td>\n",
       "      <td>0.447586</td>\n",
       "      <td>1.000000</td>\n",
       "      <td>0.706742</td>\n",
       "      <td>0.583341</td>\n",
       "      <td>0.318553</td>\n",
       "      <td>-0.215087</td>\n",
       "    </tr>\n",
       "    <tr>\n",
       "      <th>Instructor Clarity</th>\n",
       "      <td>0.633679</td>\n",
       "      <td>0.213992</td>\n",
       "      <td>0.495884</td>\n",
       "      <td>0.409401</td>\n",
       "      <td>0.706742</td>\n",
       "      <td>1.000000</td>\n",
       "      <td>0.601680</td>\n",
       "      <td>0.268630</td>\n",
       "      <td>-0.155420</td>\n",
       "    </tr>\n",
       "    <tr>\n",
       "      <th>Instructor Knowledge</th>\n",
       "      <td>0.540757</td>\n",
       "      <td>0.352332</td>\n",
       "      <td>0.504615</td>\n",
       "      <td>0.208229</td>\n",
       "      <td>0.583341</td>\n",
       "      <td>0.601680</td>\n",
       "      <td>1.000000</td>\n",
       "      <td>0.164873</td>\n",
       "      <td>-0.300850</td>\n",
       "    </tr>\n",
       "    <tr>\n",
       "      <th>Homework Feedback Rating</th>\n",
       "      <td>0.380128</td>\n",
       "      <td>0.183133</td>\n",
       "      <td>0.225899</td>\n",
       "      <td>0.276007</td>\n",
       "      <td>0.318553</td>\n",
       "      <td>0.268630</td>\n",
       "      <td>0.164873</td>\n",
       "      <td>1.000000</td>\n",
       "      <td>-0.275101</td>\n",
       "    </tr>\n",
       "    <tr>\n",
       "      <th>Outside Time Spent</th>\n",
       "      <td>-0.154410</td>\n",
       "      <td>-0.242662</td>\n",
       "      <td>-0.160439</td>\n",
       "      <td>-0.025961</td>\n",
       "      <td>-0.215087</td>\n",
       "      <td>-0.155420</td>\n",
       "      <td>-0.300850</td>\n",
       "      <td>-0.275101</td>\n",
       "      <td>1.000000</td>\n",
       "    </tr>\n",
       "  </tbody>\n",
       "</table>\n",
       "</div>"
      ],
      "text/plain": [
       "                              Overall Satisfaction  Class Pace  \\\n",
       "Overall Satisfaction                      1.000000    0.173225   \n",
       "Class Pace                                0.173225    1.000000   \n",
       "Academic Support                          0.554195    0.145496   \n",
       "Apply Learning Outside Class              0.506035   -0.016478   \n",
       "Instructor Engagement                     0.592328    0.267007   \n",
       "Instructor Clarity                        0.633679    0.213992   \n",
       "Instructor Knowledge                      0.540757    0.352332   \n",
       "Homework Feedback Rating                  0.380128    0.183133   \n",
       "Outside Time Spent                       -0.154410   -0.242662   \n",
       "\n",
       "                              Academic Support  Apply Learning Outside Class  \\\n",
       "Overall Satisfaction                  0.554195                      0.506035   \n",
       "Class Pace                            0.145496                     -0.016478   \n",
       "Academic Support                      1.000000                      0.333132   \n",
       "Apply Learning Outside Class          0.333132                      1.000000   \n",
       "Instructor Engagement                 0.543029                      0.447586   \n",
       "Instructor Clarity                    0.495884                      0.409401   \n",
       "Instructor Knowledge                  0.504615                      0.208229   \n",
       "Homework Feedback Rating              0.225899                      0.276007   \n",
       "Outside Time Spent                   -0.160439                     -0.025961   \n",
       "\n",
       "                              Instructor Engagement  Instructor Clarity  \\\n",
       "Overall Satisfaction                       0.592328            0.633679   \n",
       "Class Pace                                 0.267007            0.213992   \n",
       "Academic Support                           0.543029            0.495884   \n",
       "Apply Learning Outside Class               0.447586            0.409401   \n",
       "Instructor Engagement                      1.000000            0.706742   \n",
       "Instructor Clarity                         0.706742            1.000000   \n",
       "Instructor Knowledge                       0.583341            0.601680   \n",
       "Homework Feedback Rating                   0.318553            0.268630   \n",
       "Outside Time Spent                        -0.215087           -0.155420   \n",
       "\n",
       "                              Instructor Knowledge  Homework Feedback Rating  \\\n",
       "Overall Satisfaction                      0.540757                  0.380128   \n",
       "Class Pace                                0.352332                  0.183133   \n",
       "Academic Support                          0.504615                  0.225899   \n",
       "Apply Learning Outside Class              0.208229                  0.276007   \n",
       "Instructor Engagement                     0.583341                  0.318553   \n",
       "Instructor Clarity                        0.601680                  0.268630   \n",
       "Instructor Knowledge                      1.000000                  0.164873   \n",
       "Homework Feedback Rating                  0.164873                  1.000000   \n",
       "Outside Time Spent                       -0.300850                 -0.275101   \n",
       "\n",
       "                              Outside Time Spent  \n",
       "Overall Satisfaction                   -0.154410  \n",
       "Class Pace                             -0.242662  \n",
       "Academic Support                       -0.160439  \n",
       "Apply Learning Outside Class           -0.025961  \n",
       "Instructor Engagement                  -0.215087  \n",
       "Instructor Clarity                     -0.155420  \n",
       "Instructor Knowledge                   -0.300850  \n",
       "Homework Feedback Rating               -0.275101  \n",
       "Outside Time Spent                      1.000000  "
      ]
     },
     "execution_count": 189,
     "metadata": {},
     "output_type": "execute_result"
    }
   ],
   "source": [
    "df[feature_columns].corr()"
   ]
  },
  {
   "cell_type": "code",
   "execution_count": null,
   "metadata": {},
   "outputs": [],
   "source": []
  },
  {
   "cell_type": "code",
   "execution_count": null,
   "metadata": {},
   "outputs": [],
   "source": []
  },
  {
   "cell_type": "code",
   "execution_count": null,
   "metadata": {},
   "outputs": [],
   "source": []
  },
  {
   "cell_type": "code",
   "execution_count": null,
   "metadata": {},
   "outputs": [],
   "source": []
  },
  {
   "cell_type": "code",
   "execution_count": null,
   "metadata": {},
   "outputs": [],
   "source": []
  },
  {
   "cell_type": "code",
   "execution_count": 99,
   "metadata": {},
   "outputs": [],
   "source": [
    "def get_week_of(sub_date): \n",
    "    dow=sub_date.dayofweek\n",
    "    if dow<2: \n",
    "        week_of=sub_date-timedelta(days=dow+7)\n",
    "    else: \n",
    "        week_of=sub_date-timedelta(days=dow)\n",
    "    return week_of"
   ]
  },
  {
   "cell_type": "code",
   "execution_count": 100,
   "metadata": {
    "scrolled": false
   },
   "outputs": [
    {
     "data": {
      "text/html": [
       "<div>\n",
       "<style scoped>\n",
       "    .dataframe tbody tr th:only-of-type {\n",
       "        vertical-align: middle;\n",
       "    }\n",
       "\n",
       "    .dataframe tbody tr th {\n",
       "        vertical-align: top;\n",
       "    }\n",
       "\n",
       "    .dataframe thead th {\n",
       "        text-align: right;\n",
       "    }\n",
       "</style>\n",
       "<table border=\"1\" class=\"dataframe\">\n",
       "  <thead>\n",
       "    <tr style=\"text-align: right;\">\n",
       "      <th></th>\n",
       "      <th>Submission Date</th>\n",
       "      <th>Week</th>\n",
       "      <th>Student Name</th>\n",
       "      <th>Overall Satisfaction</th>\n",
       "      <th>Class Pace</th>\n",
       "      <th>Academic Support</th>\n",
       "      <th>Apply Learning Outside Class</th>\n",
       "      <th>Instructor Engagement</th>\n",
       "      <th>Instructor Clarity</th>\n",
       "      <th>Instructor Knowledge</th>\n",
       "      <th>Homework Feedback Rating</th>\n",
       "      <th>Outside Time Spent</th>\n",
       "      <th>Week of</th>\n",
       "      <th>DOW</th>\n",
       "      <th>Week of 2</th>\n",
       "    </tr>\n",
       "  </thead>\n",
       "  <tbody>\n",
       "    <tr>\n",
       "      <th>0</th>\n",
       "      <td>12-06-2020</td>\n",
       "      <td>1</td>\n",
       "      <td>Simon Xu</td>\n",
       "      <td>3</td>\n",
       "      <td>3</td>\n",
       "      <td>4</td>\n",
       "      <td>4</td>\n",
       "      <td>4</td>\n",
       "      <td>3</td>\n",
       "      <td>3</td>\n",
       "      <td>3</td>\n",
       "      <td>15-20 hrs</td>\n",
       "      <td>2020-11-30</td>\n",
       "      <td>6</td>\n",
       "      <td>2020-11-30</td>\n",
       "    </tr>\n",
       "    <tr>\n",
       "      <th>1</th>\n",
       "      <td>12-06-2020</td>\n",
       "      <td>1</td>\n",
       "      <td>Sara Kayhan</td>\n",
       "      <td>4</td>\n",
       "      <td>4</td>\n",
       "      <td>4</td>\n",
       "      <td>4</td>\n",
       "      <td>4</td>\n",
       "      <td>5</td>\n",
       "      <td>5</td>\n",
       "      <td>0</td>\n",
       "      <td>6-10 hrs</td>\n",
       "      <td>2020-11-30</td>\n",
       "      <td>6</td>\n",
       "      <td>2020-11-30</td>\n",
       "    </tr>\n",
       "    <tr>\n",
       "      <th>2</th>\n",
       "      <td>12-06-2020</td>\n",
       "      <td>1</td>\n",
       "      <td>Renuka Kafle</td>\n",
       "      <td>4</td>\n",
       "      <td>4</td>\n",
       "      <td>5</td>\n",
       "      <td>4</td>\n",
       "      <td>5</td>\n",
       "      <td>5</td>\n",
       "      <td>4</td>\n",
       "      <td>0</td>\n",
       "      <td>6-10 hrs</td>\n",
       "      <td>2020-11-30</td>\n",
       "      <td>6</td>\n",
       "      <td>2020-11-30</td>\n",
       "    </tr>\n",
       "    <tr>\n",
       "      <th>3</th>\n",
       "      <td>12-06-2020</td>\n",
       "      <td>1</td>\n",
       "      <td>Erich Mitchell</td>\n",
       "      <td>4</td>\n",
       "      <td>2</td>\n",
       "      <td>3</td>\n",
       "      <td>5</td>\n",
       "      <td>4</td>\n",
       "      <td>5</td>\n",
       "      <td>4</td>\n",
       "      <td>3</td>\n",
       "      <td>0-5 hrs</td>\n",
       "      <td>2020-11-30</td>\n",
       "      <td>6</td>\n",
       "      <td>2020-11-30</td>\n",
       "    </tr>\n",
       "    <tr>\n",
       "      <th>4</th>\n",
       "      <td>12-06-2020</td>\n",
       "      <td>1</td>\n",
       "      <td>Jennifer-Rose Davis</td>\n",
       "      <td>5</td>\n",
       "      <td>3</td>\n",
       "      <td>5</td>\n",
       "      <td>5</td>\n",
       "      <td>5</td>\n",
       "      <td>5</td>\n",
       "      <td>5</td>\n",
       "      <td>4</td>\n",
       "      <td>+20 hrs</td>\n",
       "      <td>2020-11-30</td>\n",
       "      <td>6</td>\n",
       "      <td>2020-11-30</td>\n",
       "    </tr>\n",
       "  </tbody>\n",
       "</table>\n",
       "</div>"
      ],
      "text/plain": [
       "  Submission Date  Week         Student Name  Overall Satisfaction  \\\n",
       "0      12-06-2020     1             Simon Xu                     3   \n",
       "1      12-06-2020     1          Sara Kayhan                     4   \n",
       "2      12-06-2020     1         Renuka Kafle                     4   \n",
       "3      12-06-2020     1       Erich Mitchell                     4   \n",
       "4      12-06-2020     1  Jennifer-Rose Davis                     5   \n",
       "\n",
       "   Class Pace  Academic Support  Apply Learning Outside Class  \\\n",
       "0           3                 4                             4   \n",
       "1           4                 4                             4   \n",
       "2           4                 5                             4   \n",
       "3           2                 3                             5   \n",
       "4           3                 5                             5   \n",
       "\n",
       "   Instructor Engagement  Instructor Clarity  Instructor Knowledge  \\\n",
       "0                      4                   3                     3   \n",
       "1                      4                   5                     5   \n",
       "2                      5                   5                     4   \n",
       "3                      4                   5                     4   \n",
       "4                      5                   5                     5   \n",
       "\n",
       "   Homework Feedback Rating Outside Time Spent    Week of  DOW  Week of 2  \n",
       "0                         3          15-20 hrs 2020-11-30    6 2020-11-30  \n",
       "1                         0           6-10 hrs 2020-11-30    6 2020-11-30  \n",
       "2                         0           6-10 hrs 2020-11-30    6 2020-11-30  \n",
       "3                         3            0-5 hrs 2020-11-30    6 2020-11-30  \n",
       "4                         4            +20 hrs 2020-11-30    6 2020-11-30  "
      ]
     },
     "execution_count": 100,
     "metadata": {},
     "output_type": "execute_result"
    }
   ],
   "source": [
    "sub=pd.to_datetime(df['Submission Date'])\n",
    "# sub-pd.Timedelta(days=sub.dt.dayofweek)\n",
    "# df['Submission Date'].dtype#.map(lambda x: x-x.dow)\n",
    "# for idx, row in sub.iteritems(): \n",
    "#     print(row-row.dayofweek)\n",
    "df['Week of']=sub.apply(lambda x: x-timedelta(days=x.dayofweek))\n",
    "df['Week of 2']=sub.apply(get_week_of)\n",
    "df['DOW']=sub.dt.dayofweek\n",
    "df.head()"
   ]
  },
  {
   "cell_type": "code",
   "execution_count": 101,
   "metadata": {},
   "outputs": [
    {
     "data": {
      "text/plain": [
       "Index(['Submission Date', 'Week', 'Student Name', 'Overall Satisfaction',\n",
       "       'Class Pace', 'Academic Support', 'Apply Learning Outside Class',\n",
       "       'Instructor Engagement', 'Instructor Clarity', 'Instructor Knowledge',\n",
       "       'Homework Feedback Rating', 'Outside Time Spent', 'Week of', 'DOW',\n",
       "       'Week of 2'],\n",
       "      dtype='object')"
      ]
     },
     "execution_count": 101,
     "metadata": {},
     "output_type": "execute_result"
    }
   ],
   "source": [
    "df.columns"
   ]
  },
  {
   "cell_type": "code",
   "execution_count": 102,
   "metadata": {},
   "outputs": [
    {
     "data": {
      "text/html": [
       "<div>\n",
       "<style scoped>\n",
       "    .dataframe tbody tr th:only-of-type {\n",
       "        vertical-align: middle;\n",
       "    }\n",
       "\n",
       "    .dataframe tbody tr th {\n",
       "        vertical-align: top;\n",
       "    }\n",
       "\n",
       "    .dataframe thead th {\n",
       "        text-align: right;\n",
       "    }\n",
       "</style>\n",
       "<table border=\"1\" class=\"dataframe\">\n",
       "  <thead>\n",
       "    <tr style=\"text-align: right;\">\n",
       "      <th></th>\n",
       "      <th>Submission Date</th>\n",
       "      <th>Week</th>\n",
       "      <th>Student Name</th>\n",
       "      <th>Overall Satisfaction</th>\n",
       "      <th>Class Pace</th>\n",
       "      <th>Academic Support</th>\n",
       "      <th>Apply Learning Outside Class</th>\n",
       "      <th>Instructor Engagement</th>\n",
       "      <th>Instructor Clarity</th>\n",
       "      <th>Instructor Knowledge</th>\n",
       "      <th>Homework Feedback Rating</th>\n",
       "      <th>Outside Time Spent</th>\n",
       "      <th>Week of</th>\n",
       "      <th>DOW</th>\n",
       "      <th>Week of 2</th>\n",
       "    </tr>\n",
       "  </thead>\n",
       "  <tbody>\n",
       "    <tr>\n",
       "      <th>0</th>\n",
       "      <td>12-06-2020</td>\n",
       "      <td>1</td>\n",
       "      <td>Simon Xu</td>\n",
       "      <td>3</td>\n",
       "      <td>3</td>\n",
       "      <td>4</td>\n",
       "      <td>4</td>\n",
       "      <td>4</td>\n",
       "      <td>3</td>\n",
       "      <td>3</td>\n",
       "      <td>3</td>\n",
       "      <td>15-20 hrs</td>\n",
       "      <td>2020-11-30</td>\n",
       "      <td>6</td>\n",
       "      <td>2020-11-30</td>\n",
       "    </tr>\n",
       "    <tr>\n",
       "      <th>1</th>\n",
       "      <td>12-06-2020</td>\n",
       "      <td>1</td>\n",
       "      <td>Sara Kayhan</td>\n",
       "      <td>4</td>\n",
       "      <td>4</td>\n",
       "      <td>4</td>\n",
       "      <td>4</td>\n",
       "      <td>4</td>\n",
       "      <td>5</td>\n",
       "      <td>5</td>\n",
       "      <td>0</td>\n",
       "      <td>6-10 hrs</td>\n",
       "      <td>2020-11-30</td>\n",
       "      <td>6</td>\n",
       "      <td>2020-11-30</td>\n",
       "    </tr>\n",
       "    <tr>\n",
       "      <th>2</th>\n",
       "      <td>12-06-2020</td>\n",
       "      <td>1</td>\n",
       "      <td>Renuka Kafle</td>\n",
       "      <td>4</td>\n",
       "      <td>4</td>\n",
       "      <td>5</td>\n",
       "      <td>4</td>\n",
       "      <td>5</td>\n",
       "      <td>5</td>\n",
       "      <td>4</td>\n",
       "      <td>0</td>\n",
       "      <td>6-10 hrs</td>\n",
       "      <td>2020-11-30</td>\n",
       "      <td>6</td>\n",
       "      <td>2020-11-30</td>\n",
       "    </tr>\n",
       "    <tr>\n",
       "      <th>3</th>\n",
       "      <td>12-06-2020</td>\n",
       "      <td>1</td>\n",
       "      <td>Erich Mitchell</td>\n",
       "      <td>4</td>\n",
       "      <td>2</td>\n",
       "      <td>3</td>\n",
       "      <td>5</td>\n",
       "      <td>4</td>\n",
       "      <td>5</td>\n",
       "      <td>4</td>\n",
       "      <td>3</td>\n",
       "      <td>0-5 hrs</td>\n",
       "      <td>2020-11-30</td>\n",
       "      <td>6</td>\n",
       "      <td>2020-11-30</td>\n",
       "    </tr>\n",
       "    <tr>\n",
       "      <th>4</th>\n",
       "      <td>12-06-2020</td>\n",
       "      <td>1</td>\n",
       "      <td>Jennifer-Rose Davis</td>\n",
       "      <td>5</td>\n",
       "      <td>3</td>\n",
       "      <td>5</td>\n",
       "      <td>5</td>\n",
       "      <td>5</td>\n",
       "      <td>5</td>\n",
       "      <td>5</td>\n",
       "      <td>4</td>\n",
       "      <td>+20 hrs</td>\n",
       "      <td>2020-11-30</td>\n",
       "      <td>6</td>\n",
       "      <td>2020-11-30</td>\n",
       "    </tr>\n",
       "  </tbody>\n",
       "</table>\n",
       "</div>"
      ],
      "text/plain": [
       "  Submission Date  Week         Student Name  Overall Satisfaction  \\\n",
       "0      12-06-2020     1             Simon Xu                     3   \n",
       "1      12-06-2020     1          Sara Kayhan                     4   \n",
       "2      12-06-2020     1         Renuka Kafle                     4   \n",
       "3      12-06-2020     1       Erich Mitchell                     4   \n",
       "4      12-06-2020     1  Jennifer-Rose Davis                     5   \n",
       "\n",
       "   Class Pace  Academic Support  Apply Learning Outside Class  \\\n",
       "0           3                 4                             4   \n",
       "1           4                 4                             4   \n",
       "2           4                 5                             4   \n",
       "3           2                 3                             5   \n",
       "4           3                 5                             5   \n",
       "\n",
       "   Instructor Engagement  Instructor Clarity  Instructor Knowledge  \\\n",
       "0                      4                   3                     3   \n",
       "1                      4                   5                     5   \n",
       "2                      5                   5                     4   \n",
       "3                      4                   5                     4   \n",
       "4                      5                   5                     5   \n",
       "\n",
       "   Homework Feedback Rating Outside Time Spent    Week of  DOW  Week of 2  \n",
       "0                         3          15-20 hrs 2020-11-30    6 2020-11-30  \n",
       "1                         0           6-10 hrs 2020-11-30    6 2020-11-30  \n",
       "2                         0           6-10 hrs 2020-11-30    6 2020-11-30  \n",
       "3                         3            0-5 hrs 2020-11-30    6 2020-11-30  \n",
       "4                         4            +20 hrs 2020-11-30    6 2020-11-30  "
      ]
     },
     "execution_count": 102,
     "metadata": {},
     "output_type": "execute_result"
    }
   ],
   "source": [
    "df.head()"
   ]
  },
  {
   "cell_type": "code",
   "execution_count": 103,
   "metadata": {},
   "outputs": [
    {
     "data": {
      "text/html": [
       "<div>\n",
       "<style scoped>\n",
       "    .dataframe tbody tr th:only-of-type {\n",
       "        vertical-align: middle;\n",
       "    }\n",
       "\n",
       "    .dataframe tbody tr th {\n",
       "        vertical-align: top;\n",
       "    }\n",
       "\n",
       "    .dataframe thead th {\n",
       "        text-align: right;\n",
       "    }\n",
       "</style>\n",
       "<table border=\"1\" class=\"dataframe\">\n",
       "  <thead>\n",
       "    <tr style=\"text-align: right;\">\n",
       "      <th></th>\n",
       "      <th>Submission Date</th>\n",
       "      <th>Week</th>\n",
       "      <th>DOW</th>\n",
       "      <th>Week of</th>\n",
       "      <th>Week of 2</th>\n",
       "    </tr>\n",
       "  </thead>\n",
       "  <tbody>\n",
       "    <tr>\n",
       "      <th>0</th>\n",
       "      <td>12-06-2020</td>\n",
       "      <td>1</td>\n",
       "      <td>6</td>\n",
       "      <td>2020-11-30</td>\n",
       "      <td>2020-11-30</td>\n",
       "    </tr>\n",
       "    <tr>\n",
       "      <th>5</th>\n",
       "      <td>12-07-2020</td>\n",
       "      <td>1</td>\n",
       "      <td>0</td>\n",
       "      <td>2020-12-07</td>\n",
       "      <td>2020-11-30</td>\n",
       "    </tr>\n",
       "    <tr>\n",
       "      <th>23</th>\n",
       "      <td>12-08-2020</td>\n",
       "      <td>1</td>\n",
       "      <td>1</td>\n",
       "      <td>2020-12-07</td>\n",
       "      <td>2020-11-30</td>\n",
       "    </tr>\n",
       "    <tr>\n",
       "      <th>39</th>\n",
       "      <td>12-13-2020</td>\n",
       "      <td>2</td>\n",
       "      <td>6</td>\n",
       "      <td>2020-12-07</td>\n",
       "      <td>2020-12-07</td>\n",
       "    </tr>\n",
       "    <tr>\n",
       "      <th>47</th>\n",
       "      <td>12-14-2020</td>\n",
       "      <td>2</td>\n",
       "      <td>0</td>\n",
       "      <td>2020-12-14</td>\n",
       "      <td>2020-12-07</td>\n",
       "    </tr>\n",
       "    <tr>\n",
       "      <th>58</th>\n",
       "      <td>12-15-2020</td>\n",
       "      <td>2</td>\n",
       "      <td>1</td>\n",
       "      <td>2020-12-14</td>\n",
       "      <td>2020-12-07</td>\n",
       "    </tr>\n",
       "    <tr>\n",
       "      <th>78</th>\n",
       "      <td>11-12-2020</td>\n",
       "      <td>3</td>\n",
       "      <td>3</td>\n",
       "      <td>2020-11-09</td>\n",
       "      <td>2020-11-09</td>\n",
       "    </tr>\n",
       "    <tr>\n",
       "      <th>79</th>\n",
       "      <td>12-20-2020</td>\n",
       "      <td>3</td>\n",
       "      <td>6</td>\n",
       "      <td>2020-12-14</td>\n",
       "      <td>2020-12-14</td>\n",
       "    </tr>\n",
       "    <tr>\n",
       "      <th>85</th>\n",
       "      <td>12-21-2020</td>\n",
       "      <td>3</td>\n",
       "      <td>0</td>\n",
       "      <td>2020-12-21</td>\n",
       "      <td>2020-12-14</td>\n",
       "    </tr>\n",
       "    <tr>\n",
       "      <th>96</th>\n",
       "      <td>12-22-2020</td>\n",
       "      <td>3</td>\n",
       "      <td>1</td>\n",
       "      <td>2020-12-21</td>\n",
       "      <td>2020-12-14</td>\n",
       "    </tr>\n",
       "    <tr>\n",
       "      <th>99</th>\n",
       "      <td>12-23-2020</td>\n",
       "      <td>3</td>\n",
       "      <td>2</td>\n",
       "      <td>2020-12-21</td>\n",
       "      <td>2020-12-21</td>\n",
       "    </tr>\n",
       "    <tr>\n",
       "      <th>103</th>\n",
       "      <td>12-24-2020</td>\n",
       "      <td>3</td>\n",
       "      <td>3</td>\n",
       "      <td>2020-12-21</td>\n",
       "      <td>2020-12-21</td>\n",
       "    </tr>\n",
       "    <tr>\n",
       "      <th>106</th>\n",
       "      <td>12-26-2020</td>\n",
       "      <td>3</td>\n",
       "      <td>5</td>\n",
       "      <td>2020-12-21</td>\n",
       "      <td>2020-12-21</td>\n",
       "    </tr>\n",
       "    <tr>\n",
       "      <th>108</th>\n",
       "      <td>12-27-2020</td>\n",
       "      <td>3</td>\n",
       "      <td>6</td>\n",
       "      <td>2020-12-21</td>\n",
       "      <td>2020-12-21</td>\n",
       "    </tr>\n",
       "    <tr>\n",
       "      <th>109</th>\n",
       "      <td>12-27-2020</td>\n",
       "      <td>4</td>\n",
       "      <td>6</td>\n",
       "      <td>2020-12-21</td>\n",
       "      <td>2020-12-21</td>\n",
       "    </tr>\n",
       "    <tr>\n",
       "      <th>114</th>\n",
       "      <td>12-28-2020</td>\n",
       "      <td>4</td>\n",
       "      <td>0</td>\n",
       "      <td>2020-12-28</td>\n",
       "      <td>2020-12-21</td>\n",
       "    </tr>\n",
       "    <tr>\n",
       "      <th>129</th>\n",
       "      <td>12-29-2020</td>\n",
       "      <td>4</td>\n",
       "      <td>1</td>\n",
       "      <td>2020-12-28</td>\n",
       "      <td>2020-12-21</td>\n",
       "    </tr>\n",
       "    <tr>\n",
       "      <th>133</th>\n",
       "      <td>12-30-2020</td>\n",
       "      <td>4</td>\n",
       "      <td>2</td>\n",
       "      <td>2020-12-28</td>\n",
       "      <td>2020-12-28</td>\n",
       "    </tr>\n",
       "    <tr>\n",
       "      <th>137</th>\n",
       "      <td>12-31-2020</td>\n",
       "      <td>4</td>\n",
       "      <td>3</td>\n",
       "      <td>2020-12-28</td>\n",
       "      <td>2020-12-28</td>\n",
       "    </tr>\n",
       "    <tr>\n",
       "      <th>138</th>\n",
       "      <td>01-01-2021</td>\n",
       "      <td>4</td>\n",
       "      <td>4</td>\n",
       "      <td>2020-12-28</td>\n",
       "      <td>2020-12-28</td>\n",
       "    </tr>\n",
       "    <tr>\n",
       "      <th>139</th>\n",
       "      <td>01-03-2021</td>\n",
       "      <td>4</td>\n",
       "      <td>6</td>\n",
       "      <td>2020-12-28</td>\n",
       "      <td>2020-12-28</td>\n",
       "    </tr>\n",
       "    <tr>\n",
       "      <th>141</th>\n",
       "      <td>01-03-2021</td>\n",
       "      <td>5</td>\n",
       "      <td>6</td>\n",
       "      <td>2020-12-28</td>\n",
       "      <td>2020-12-28</td>\n",
       "    </tr>\n",
       "    <tr>\n",
       "      <th>144</th>\n",
       "      <td>01-04-2021</td>\n",
       "      <td>5</td>\n",
       "      <td>0</td>\n",
       "      <td>2021-01-04</td>\n",
       "      <td>2020-12-28</td>\n",
       "    </tr>\n",
       "    <tr>\n",
       "      <th>162</th>\n",
       "      <td>01-05-2021</td>\n",
       "      <td>5</td>\n",
       "      <td>1</td>\n",
       "      <td>2021-01-04</td>\n",
       "      <td>2020-12-28</td>\n",
       "    </tr>\n",
       "    <tr>\n",
       "      <th>179</th>\n",
       "      <td>01-06-2021</td>\n",
       "      <td>5</td>\n",
       "      <td>2</td>\n",
       "      <td>2021-01-04</td>\n",
       "      <td>2021-01-04</td>\n",
       "    </tr>\n",
       "    <tr>\n",
       "      <th>180</th>\n",
       "      <td>01-10-2021</td>\n",
       "      <td>6</td>\n",
       "      <td>6</td>\n",
       "      <td>2021-01-04</td>\n",
       "      <td>2021-01-04</td>\n",
       "    </tr>\n",
       "    <tr>\n",
       "      <th>186</th>\n",
       "      <td>01-11-2021</td>\n",
       "      <td>6</td>\n",
       "      <td>0</td>\n",
       "      <td>2021-01-11</td>\n",
       "      <td>2021-01-04</td>\n",
       "    </tr>\n",
       "    <tr>\n",
       "      <th>203</th>\n",
       "      <td>01-12-2021</td>\n",
       "      <td>6</td>\n",
       "      <td>1</td>\n",
       "      <td>2021-01-11</td>\n",
       "      <td>2021-01-04</td>\n",
       "    </tr>\n",
       "    <tr>\n",
       "      <th>218</th>\n",
       "      <td>01-17-2021</td>\n",
       "      <td>7</td>\n",
       "      <td>6</td>\n",
       "      <td>2021-01-11</td>\n",
       "      <td>2021-01-11</td>\n",
       "    </tr>\n",
       "    <tr>\n",
       "      <th>220</th>\n",
       "      <td>01-18-2021</td>\n",
       "      <td>7</td>\n",
       "      <td>0</td>\n",
       "      <td>2021-01-18</td>\n",
       "      <td>2021-01-11</td>\n",
       "    </tr>\n",
       "    <tr>\n",
       "      <th>235</th>\n",
       "      <td>01-19-2021</td>\n",
       "      <td>7</td>\n",
       "      <td>1</td>\n",
       "      <td>2021-01-18</td>\n",
       "      <td>2021-01-11</td>\n",
       "    </tr>\n",
       "    <tr>\n",
       "      <th>255</th>\n",
       "      <td>01-21-2021</td>\n",
       "      <td>7</td>\n",
       "      <td>3</td>\n",
       "      <td>2021-01-18</td>\n",
       "      <td>2021-01-18</td>\n",
       "    </tr>\n",
       "    <tr>\n",
       "      <th>256</th>\n",
       "      <td>01-24-2021</td>\n",
       "      <td>8</td>\n",
       "      <td>6</td>\n",
       "      <td>2021-01-18</td>\n",
       "      <td>2021-01-18</td>\n",
       "    </tr>\n",
       "    <tr>\n",
       "      <th>263</th>\n",
       "      <td>01-25-2021</td>\n",
       "      <td>8</td>\n",
       "      <td>0</td>\n",
       "      <td>2021-01-25</td>\n",
       "      <td>2021-01-18</td>\n",
       "    </tr>\n",
       "    <tr>\n",
       "      <th>278</th>\n",
       "      <td>01-26-2021</td>\n",
       "      <td>8</td>\n",
       "      <td>1</td>\n",
       "      <td>2021-01-25</td>\n",
       "      <td>2021-01-18</td>\n",
       "    </tr>\n",
       "    <tr>\n",
       "      <th>293</th>\n",
       "      <td>01-28-2021</td>\n",
       "      <td>8</td>\n",
       "      <td>3</td>\n",
       "      <td>2021-01-25</td>\n",
       "      <td>2021-01-25</td>\n",
       "    </tr>\n",
       "    <tr>\n",
       "      <th>295</th>\n",
       "      <td>01-31-2021</td>\n",
       "      <td>9</td>\n",
       "      <td>6</td>\n",
       "      <td>2021-01-25</td>\n",
       "      <td>2021-01-25</td>\n",
       "    </tr>\n",
       "    <tr>\n",
       "      <th>302</th>\n",
       "      <td>02-01-2021</td>\n",
       "      <td>9</td>\n",
       "      <td>0</td>\n",
       "      <td>2021-02-01</td>\n",
       "      <td>2021-01-25</td>\n",
       "    </tr>\n",
       "  </tbody>\n",
       "</table>\n",
       "</div>"
      ],
      "text/plain": [
       "    Submission Date  Week  DOW    Week of  Week of 2\n",
       "0        12-06-2020     1    6 2020-11-30 2020-11-30\n",
       "5        12-07-2020     1    0 2020-12-07 2020-11-30\n",
       "23       12-08-2020     1    1 2020-12-07 2020-11-30\n",
       "39       12-13-2020     2    6 2020-12-07 2020-12-07\n",
       "47       12-14-2020     2    0 2020-12-14 2020-12-07\n",
       "58       12-15-2020     2    1 2020-12-14 2020-12-07\n",
       "78       11-12-2020     3    3 2020-11-09 2020-11-09\n",
       "79       12-20-2020     3    6 2020-12-14 2020-12-14\n",
       "85       12-21-2020     3    0 2020-12-21 2020-12-14\n",
       "96       12-22-2020     3    1 2020-12-21 2020-12-14\n",
       "99       12-23-2020     3    2 2020-12-21 2020-12-21\n",
       "103      12-24-2020     3    3 2020-12-21 2020-12-21\n",
       "106      12-26-2020     3    5 2020-12-21 2020-12-21\n",
       "108      12-27-2020     3    6 2020-12-21 2020-12-21\n",
       "109      12-27-2020     4    6 2020-12-21 2020-12-21\n",
       "114      12-28-2020     4    0 2020-12-28 2020-12-21\n",
       "129      12-29-2020     4    1 2020-12-28 2020-12-21\n",
       "133      12-30-2020     4    2 2020-12-28 2020-12-28\n",
       "137      12-31-2020     4    3 2020-12-28 2020-12-28\n",
       "138      01-01-2021     4    4 2020-12-28 2020-12-28\n",
       "139      01-03-2021     4    6 2020-12-28 2020-12-28\n",
       "141      01-03-2021     5    6 2020-12-28 2020-12-28\n",
       "144      01-04-2021     5    0 2021-01-04 2020-12-28\n",
       "162      01-05-2021     5    1 2021-01-04 2020-12-28\n",
       "179      01-06-2021     5    2 2021-01-04 2021-01-04\n",
       "180      01-10-2021     6    6 2021-01-04 2021-01-04\n",
       "186      01-11-2021     6    0 2021-01-11 2021-01-04\n",
       "203      01-12-2021     6    1 2021-01-11 2021-01-04\n",
       "218      01-17-2021     7    6 2021-01-11 2021-01-11\n",
       "220      01-18-2021     7    0 2021-01-18 2021-01-11\n",
       "235      01-19-2021     7    1 2021-01-18 2021-01-11\n",
       "255      01-21-2021     7    3 2021-01-18 2021-01-18\n",
       "256      01-24-2021     8    6 2021-01-18 2021-01-18\n",
       "263      01-25-2021     8    0 2021-01-25 2021-01-18\n",
       "278      01-26-2021     8    1 2021-01-25 2021-01-18\n",
       "293      01-28-2021     8    3 2021-01-25 2021-01-25\n",
       "295      01-31-2021     9    6 2021-01-25 2021-01-25\n",
       "302      02-01-2021     9    0 2021-02-01 2021-01-25"
      ]
     },
     "execution_count": 103,
     "metadata": {},
     "output_type": "execute_result"
    }
   ],
   "source": [
    "df[['Submission Date', 'Week', 'DOW', 'Week of', 'Week of 2']].drop_duplicates()"
   ]
  },
  {
   "cell_type": "code",
   "execution_count": 98,
   "metadata": {
    "scrolled": true
   },
   "outputs": [
    {
     "data": {
      "text/html": [
       "<div>\n",
       "<style scoped>\n",
       "    .dataframe tbody tr th:only-of-type {\n",
       "        vertical-align: middle;\n",
       "    }\n",
       "\n",
       "    .dataframe tbody tr th {\n",
       "        vertical-align: top;\n",
       "    }\n",
       "\n",
       "    .dataframe thead th {\n",
       "        text-align: right;\n",
       "    }\n",
       "</style>\n",
       "<table border=\"1\" class=\"dataframe\">\n",
       "  <thead>\n",
       "    <tr style=\"text-align: right;\">\n",
       "      <th></th>\n",
       "      <th>Submission Date</th>\n",
       "      <th>Week</th>\n",
       "      <th>Student Name</th>\n",
       "      <th>Overall Satisfaction</th>\n",
       "      <th>Class Pace</th>\n",
       "      <th>Academic Support</th>\n",
       "      <th>Apply Learning Outside Class</th>\n",
       "      <th>Instructor Engagement</th>\n",
       "      <th>Instructor Clarity</th>\n",
       "      <th>Instructor Knowledge</th>\n",
       "      <th>Homework Feedback Rating</th>\n",
       "      <th>Outside Time Spent</th>\n",
       "      <th>Week of</th>\n",
       "      <th>DOW</th>\n",
       "      <th>Week of 2</th>\n",
       "    </tr>\n",
       "  </thead>\n",
       "  <tbody>\n",
       "    <tr>\n",
       "      <th>306</th>\n",
       "      <td>02-01-2021</td>\n",
       "      <td>9</td>\n",
       "      <td>Felix Pronove</td>\n",
       "      <td>4</td>\n",
       "      <td>4</td>\n",
       "      <td>4</td>\n",
       "      <td>4</td>\n",
       "      <td>4</td>\n",
       "      <td>4</td>\n",
       "      <td>4</td>\n",
       "      <td>0</td>\n",
       "      <td>15-20 hrs</td>\n",
       "      <td>2021-02-01</td>\n",
       "      <td>0</td>\n",
       "      <td>2021-02-01</td>\n",
       "    </tr>\n",
       "    <tr>\n",
       "      <th>307</th>\n",
       "      <td>02-01-2021</td>\n",
       "      <td>9</td>\n",
       "      <td>Ric Martinez</td>\n",
       "      <td>4</td>\n",
       "      <td>4</td>\n",
       "      <td>3</td>\n",
       "      <td>4</td>\n",
       "      <td>4</td>\n",
       "      <td>4</td>\n",
       "      <td>4</td>\n",
       "      <td>4</td>\n",
       "      <td>11-15 hrs</td>\n",
       "      <td>2021-02-01</td>\n",
       "      <td>0</td>\n",
       "      <td>2021-02-01</td>\n",
       "    </tr>\n",
       "    <tr>\n",
       "      <th>308</th>\n",
       "      <td>02-01-2021</td>\n",
       "      <td>9</td>\n",
       "      <td>Mark Blankenship</td>\n",
       "      <td>3</td>\n",
       "      <td>4</td>\n",
       "      <td>3</td>\n",
       "      <td>3</td>\n",
       "      <td>4</td>\n",
       "      <td>4</td>\n",
       "      <td>4</td>\n",
       "      <td>2</td>\n",
       "      <td>+20 hrs</td>\n",
       "      <td>2021-02-01</td>\n",
       "      <td>0</td>\n",
       "      <td>2021-02-01</td>\n",
       "    </tr>\n",
       "    <tr>\n",
       "      <th>309</th>\n",
       "      <td>02-01-2021</td>\n",
       "      <td>9</td>\n",
       "      <td>Anna Sours</td>\n",
       "      <td>3</td>\n",
       "      <td>3</td>\n",
       "      <td>4</td>\n",
       "      <td>2</td>\n",
       "      <td>3</td>\n",
       "      <td>2</td>\n",
       "      <td>3</td>\n",
       "      <td>2</td>\n",
       "      <td>15-20 hrs</td>\n",
       "      <td>2021-02-01</td>\n",
       "      <td>0</td>\n",
       "      <td>2021-02-01</td>\n",
       "    </tr>\n",
       "    <tr>\n",
       "      <th>310</th>\n",
       "      <td>02-01-2021</td>\n",
       "      <td>9</td>\n",
       "      <td>Swati Dham</td>\n",
       "      <td>4</td>\n",
       "      <td>4</td>\n",
       "      <td>5</td>\n",
       "      <td>5</td>\n",
       "      <td>4</td>\n",
       "      <td>4</td>\n",
       "      <td>5</td>\n",
       "      <td>5</td>\n",
       "      <td>11-15 hrs</td>\n",
       "      <td>2021-02-01</td>\n",
       "      <td>0</td>\n",
       "      <td>2021-02-01</td>\n",
       "    </tr>\n",
       "  </tbody>\n",
       "</table>\n",
       "</div>"
      ],
      "text/plain": [
       "    Submission Date  Week      Student Name  Overall Satisfaction  Class Pace  \\\n",
       "306      02-01-2021     9     Felix Pronove                     4           4   \n",
       "307      02-01-2021     9      Ric Martinez                     4           4   \n",
       "308      02-01-2021     9  Mark Blankenship                     3           4   \n",
       "309      02-01-2021     9        Anna Sours                     3           3   \n",
       "310      02-01-2021     9        Swati Dham                     4           4   \n",
       "\n",
       "     Academic Support  Apply Learning Outside Class  Instructor Engagement  \\\n",
       "306                 4                             4                      4   \n",
       "307                 3                             4                      4   \n",
       "308                 3                             3                      4   \n",
       "309                 4                             2                      3   \n",
       "310                 5                             5                      4   \n",
       "\n",
       "     Instructor Clarity  Instructor Knowledge  Homework Feedback Rating  \\\n",
       "306                   4                     4                         0   \n",
       "307                   4                     4                         4   \n",
       "308                   4                     4                         2   \n",
       "309                   2                     3                         2   \n",
       "310                   4                     5                         5   \n",
       "\n",
       "    Outside Time Spent    Week of  DOW  Week of 2  \n",
       "306          15-20 hrs 2021-02-01    0 2021-02-01  \n",
       "307          11-15 hrs 2021-02-01    0 2021-02-01  \n",
       "308            +20 hrs 2021-02-01    0 2021-02-01  \n",
       "309          15-20 hrs 2021-02-01    0 2021-02-01  \n",
       "310          11-15 hrs 2021-02-01    0 2021-02-01  "
      ]
     },
     "execution_count": 98,
     "metadata": {},
     "output_type": "execute_result"
    }
   ],
   "source": [
    "df.tail()"
   ]
  },
  {
   "cell_type": "code",
   "execution_count": 366,
   "metadata": {},
   "outputs": [],
   "source": [
    "stats_cols=['Overall Satisfaction', 'Class Pace', 'Academic Support',\n",
    "       'Apply Learning Outside Class', 'Instructor Engagement',\n",
    "       'Instructor Clarity', 'Instructor Knowledge',\n",
    "       'Homework Feedback Rating']#, 'Outside Time Spent']"
   ]
  },
  {
   "cell_type": "code",
   "execution_count": 87,
   "metadata": {},
   "outputs": [
    {
     "data": {
      "text/html": [
       "<div>\n",
       "<style scoped>\n",
       "    .dataframe tbody tr th:only-of-type {\n",
       "        vertical-align: middle;\n",
       "    }\n",
       "\n",
       "    .dataframe tbody tr th {\n",
       "        vertical-align: top;\n",
       "    }\n",
       "\n",
       "    .dataframe thead th {\n",
       "        text-align: right;\n",
       "    }\n",
       "</style>\n",
       "<table border=\"1\" class=\"dataframe\">\n",
       "  <thead>\n",
       "    <tr style=\"text-align: right;\">\n",
       "      <th></th>\n",
       "      <th>Overall Satisfaction</th>\n",
       "      <th>Class Pace</th>\n",
       "      <th>Academic Support</th>\n",
       "      <th>Apply Learning Outside Class</th>\n",
       "      <th>Instructor Engagement</th>\n",
       "      <th>Instructor Clarity</th>\n",
       "      <th>Instructor Knowledge</th>\n",
       "      <th>Homework Feedback Rating</th>\n",
       "    </tr>\n",
       "    <tr>\n",
       "      <th>Week</th>\n",
       "      <th></th>\n",
       "      <th></th>\n",
       "      <th></th>\n",
       "      <th></th>\n",
       "      <th></th>\n",
       "      <th></th>\n",
       "      <th></th>\n",
       "      <th></th>\n",
       "    </tr>\n",
       "  </thead>\n",
       "  <tbody>\n",
       "    <tr>\n",
       "      <th>1</th>\n",
       "      <td>4.000000</td>\n",
       "      <td>3.307692</td>\n",
       "      <td>4.179487</td>\n",
       "      <td>3.846154</td>\n",
       "      <td>4.025641</td>\n",
       "      <td>4.128205</td>\n",
       "      <td>4.384615</td>\n",
       "      <td>1.794872</td>\n",
       "    </tr>\n",
       "    <tr>\n",
       "      <th>2</th>\n",
       "      <td>3.923077</td>\n",
       "      <td>3.512821</td>\n",
       "      <td>4.128205</td>\n",
       "      <td>3.307692</td>\n",
       "      <td>4.102564</td>\n",
       "      <td>3.923077</td>\n",
       "      <td>4.435897</td>\n",
       "      <td>1.923077</td>\n",
       "    </tr>\n",
       "    <tr>\n",
       "      <th>3</th>\n",
       "      <td>3.774194</td>\n",
       "      <td>3.709677</td>\n",
       "      <td>3.903226</td>\n",
       "      <td>3.193548</td>\n",
       "      <td>3.967742</td>\n",
       "      <td>4.032258</td>\n",
       "      <td>4.419355</td>\n",
       "      <td>2.967742</td>\n",
       "    </tr>\n",
       "    <tr>\n",
       "      <th>4</th>\n",
       "      <td>4.000000</td>\n",
       "      <td>3.875000</td>\n",
       "      <td>3.937500</td>\n",
       "      <td>3.562500</td>\n",
       "      <td>4.000000</td>\n",
       "      <td>4.000000</td>\n",
       "      <td>4.312500</td>\n",
       "      <td>3.156250</td>\n",
       "    </tr>\n",
       "    <tr>\n",
       "      <th>5</th>\n",
       "      <td>3.871795</td>\n",
       "      <td>3.615385</td>\n",
       "      <td>3.666667</td>\n",
       "      <td>3.435897</td>\n",
       "      <td>3.641026</td>\n",
       "      <td>3.666667</td>\n",
       "      <td>3.923077</td>\n",
       "      <td>3.076923</td>\n",
       "    </tr>\n",
       "    <tr>\n",
       "      <th>6</th>\n",
       "      <td>4.105263</td>\n",
       "      <td>3.868421</td>\n",
       "      <td>4.078947</td>\n",
       "      <td>3.552632</td>\n",
       "      <td>4.184211</td>\n",
       "      <td>4.184211</td>\n",
       "      <td>4.473684</td>\n",
       "      <td>3.105263</td>\n",
       "    </tr>\n",
       "    <tr>\n",
       "      <th>7</th>\n",
       "      <td>4.000000</td>\n",
       "      <td>3.815789</td>\n",
       "      <td>4.210526</td>\n",
       "      <td>3.394737</td>\n",
       "      <td>4.184211</td>\n",
       "      <td>4.157895</td>\n",
       "      <td>4.394737</td>\n",
       "      <td>3.526316</td>\n",
       "    </tr>\n",
       "    <tr>\n",
       "      <th>8</th>\n",
       "      <td>3.948718</td>\n",
       "      <td>4.051282</td>\n",
       "      <td>4.076923</td>\n",
       "      <td>3.307692</td>\n",
       "      <td>4.000000</td>\n",
       "      <td>3.846154</td>\n",
       "      <td>4.410256</td>\n",
       "      <td>3.564103</td>\n",
       "    </tr>\n",
       "    <tr>\n",
       "      <th>9</th>\n",
       "      <td>3.750000</td>\n",
       "      <td>3.875000</td>\n",
       "      <td>3.875000</td>\n",
       "      <td>3.375000</td>\n",
       "      <td>4.000000</td>\n",
       "      <td>3.500000</td>\n",
       "      <td>4.250000</td>\n",
       "      <td>2.187500</td>\n",
       "    </tr>\n",
       "  </tbody>\n",
       "</table>\n",
       "</div>"
      ],
      "text/plain": [
       "      Overall Satisfaction  Class Pace  Academic Support  \\\n",
       "Week                                                       \n",
       "1                 4.000000    3.307692          4.179487   \n",
       "2                 3.923077    3.512821          4.128205   \n",
       "3                 3.774194    3.709677          3.903226   \n",
       "4                 4.000000    3.875000          3.937500   \n",
       "5                 3.871795    3.615385          3.666667   \n",
       "6                 4.105263    3.868421          4.078947   \n",
       "7                 4.000000    3.815789          4.210526   \n",
       "8                 3.948718    4.051282          4.076923   \n",
       "9                 3.750000    3.875000          3.875000   \n",
       "\n",
       "      Apply Learning Outside Class  Instructor Engagement  Instructor Clarity  \\\n",
       "Week                                                                            \n",
       "1                         3.846154               4.025641            4.128205   \n",
       "2                         3.307692               4.102564            3.923077   \n",
       "3                         3.193548               3.967742            4.032258   \n",
       "4                         3.562500               4.000000            4.000000   \n",
       "5                         3.435897               3.641026            3.666667   \n",
       "6                         3.552632               4.184211            4.184211   \n",
       "7                         3.394737               4.184211            4.157895   \n",
       "8                         3.307692               4.000000            3.846154   \n",
       "9                         3.375000               4.000000            3.500000   \n",
       "\n",
       "      Instructor Knowledge  Homework Feedback Rating  \n",
       "Week                                                  \n",
       "1                 4.384615                  1.794872  \n",
       "2                 4.435897                  1.923077  \n",
       "3                 4.419355                  2.967742  \n",
       "4                 4.312500                  3.156250  \n",
       "5                 3.923077                  3.076923  \n",
       "6                 4.473684                  3.105263  \n",
       "7                 4.394737                  3.526316  \n",
       "8                 4.410256                  3.564103  \n",
       "9                 4.250000                  2.187500  "
      ]
     },
     "execution_count": 87,
     "metadata": {},
     "output_type": "execute_result"
    }
   ],
   "source": [
    "df.groupby('Week')[stats_cols].mean()"
   ]
  },
  {
   "cell_type": "code",
   "execution_count": 104,
   "metadata": {
    "scrolled": true
   },
   "outputs": [
    {
     "data": {
      "text/plain": [
       "<matplotlib.axes._subplots.AxesSubplot at 0x7fd08edddf28>"
      ]
     },
     "execution_count": 104,
     "metadata": {},
     "output_type": "execute_result"
    },
    {
     "data": {
      "image/png": "[encoded data removed]",
      "text/plain": [
       "<Figure size 432x288 with 1 Axes>"
      ]
     },
     "metadata": {
      "needs_background": "light"
     },
     "output_type": "display_data"
    }
   ],
   "source": [
    "df[['Week', 'Overall Satisfaction']].boxplot(by='Week')"
   ]
  },
  {
   "cell_type": "code",
   "execution_count": 89,
   "metadata": {
    "scrolled": true
   },
   "outputs": [
    {
     "data": {
      "text/plain": [
       "<matplotlib.axes._subplots.AxesSubplot at 0x7fd08e0e1470>"
      ]
     },
     "execution_count": 89,
     "metadata": {},
     "output_type": "execute_result"
    },
    {
     "data": {
      "image/png": "[encoded data removed]",
      "text/plain": [
       "<Figure size 432x288 with 1 Axes>"
      ]
     },
     "metadata": {
      "needs_background": "light"
     },
     "output_type": "display_data"
    }
   ],
   "source": [
    "df[['Overall Satisfaction', 'Week']].pivot(columns='Week').plot(kind='box', rot=90, showmeans=True)"
   ]
  },
  {
   "cell_type": "code",
   "execution_count": 90,
   "metadata": {},
   "outputs": [
    {
     "data": {
      "text/html": [
       "<div>\n",
       "<style scoped>\n",
       "    .dataframe tbody tr th:only-of-type {\n",
       "        vertical-align: middle;\n",
       "    }\n",
       "\n",
       "    .dataframe tbody tr th {\n",
       "        vertical-align: top;\n",
       "    }\n",
       "\n",
       "    .dataframe thead th {\n",
       "        text-align: right;\n",
       "    }\n",
       "</style>\n",
       "<table border=\"1\" class=\"dataframe\">\n",
       "  <thead>\n",
       "    <tr style=\"text-align: right;\">\n",
       "      <th></th>\n",
       "      <th>Overall Satisfaction</th>\n",
       "    </tr>\n",
       "    <tr>\n",
       "      <th>Week</th>\n",
       "      <th></th>\n",
       "    </tr>\n",
       "  </thead>\n",
       "  <tbody>\n",
       "    <tr>\n",
       "      <th>1</th>\n",
       "      <td>4.000000</td>\n",
       "    </tr>\n",
       "    <tr>\n",
       "      <th>2</th>\n",
       "      <td>3.923077</td>\n",
       "    </tr>\n",
       "    <tr>\n",
       "      <th>3</th>\n",
       "      <td>3.774194</td>\n",
       "    </tr>\n",
       "    <tr>\n",
       "      <th>4</th>\n",
       "      <td>4.000000</td>\n",
       "    </tr>\n",
       "    <tr>\n",
       "      <th>5</th>\n",
       "      <td>3.871795</td>\n",
       "    </tr>\n",
       "    <tr>\n",
       "      <th>6</th>\n",
       "      <td>4.105263</td>\n",
       "    </tr>\n",
       "    <tr>\n",
       "      <th>7</th>\n",
       "      <td>4.000000</td>\n",
       "    </tr>\n",
       "    <tr>\n",
       "      <th>8</th>\n",
       "      <td>3.948718</td>\n",
       "    </tr>\n",
       "    <tr>\n",
       "      <th>9</th>\n",
       "      <td>3.750000</td>\n",
       "    </tr>\n",
       "  </tbody>\n",
       "</table>\n",
       "</div>"
      ],
      "text/plain": [
       "      Overall Satisfaction\n",
       "Week                      \n",
       "1                 4.000000\n",
       "2                 3.923077\n",
       "3                 3.774194\n",
       "4                 4.000000\n",
       "5                 3.871795\n",
       "6                 4.105263\n",
       "7                 4.000000\n",
       "8                 3.948718\n",
       "9                 3.750000"
      ]
     },
     "execution_count": 90,
     "metadata": {},
     "output_type": "execute_result"
    }
   ],
   "source": [
    "df[['Week', 'Overall Satisfaction']].groupby('Week').mean()"
   ]
  },
  {
   "cell_type": "code",
   "execution_count": 91,
   "metadata": {},
   "outputs": [
    {
     "data": {
      "image/png": "[encoded data removed]",
      "text/plain": [
       "<Figure size 720x360 with 9 Axes>"
      ]
     },
     "metadata": {
      "needs_background": "light"
     },
     "output_type": "display_data"
    }
   ],
   "source": [
    "ncols=3\n",
    "nrows=math.ceil(len(stats_cols)/ncols)\n",
    "fig, ax=plt.subplots(nrows, ncols, sharex=True, sharey=True, figsize=(10, 5))\n",
    "for idx, each_col in enumerate(stats_cols): \n",
    "#     print(f'ax{math.floor(idx/ncols)}{idx%ncols}')\n",
    "    df[[each_col, 'Week']].groupby('Week').mean().plot(ax=ax[math.floor(idx/ncols)][idx%ncols], legend=None)\n",
    "    ax[math.floor(idx/ncols)][idx%ncols].set_title(each_col)\n",
    "#     ax[math.floor(idx/ncols)][idx%ncols].legend(show=False)\n",
    "plt.tight_layout()"
   ]
  },
  {
   "cell_type": "markdown",
   "metadata": {},
   "source": [
    "# Title"
   ]
  },
  {
   "cell_type": "code",
   "execution_count": 302,
   "metadata": {},
   "outputs": [
    {
     "data": {
      "image/png": "[encoded data removed]",
      "text/plain": [
       "<Figure size 720x360 with 2 Axes>"
      ]
     },
     "metadata": {
      "needs_background": "light"
     },
     "output_type": "display_data"
    }
   ],
   "source": [
    "crt_sample_list=[2, \n",
    "            3, 3,  \n",
    "            4, 4, 4, 4, 4, \n",
    "            5, 5]\n",
    "tgt_sample_list=[3,   \n",
    "            4, 4, 4, 4, \n",
    "            5, 5, 5, 5, 5]\n",
    "miss_list=[2, \n",
    "          3, \n",
    "          4]\n",
    "add_list=[5, 5, 5]\n",
    "bins=range(1, 7)\n",
    "fig, ax=plt.subplots(1, 2, figsize=(10, 5))\n",
    "ax[0].hist(crt_sample_list, bins=bins, align='left', alpha=.5, color='darkblue')\n",
    "ax[0].spines['top'].set_visible(False)\n",
    "ax[0].spines['right'].set_visible(False)\n",
    "# ax[0].spines['bottom'].set_visible(False)\n",
    "ax[0].spines['left'].set_visible(False)\n",
    "ax[0].get_yaxis().set_ticks([])\n",
    "ax[0].set_title('From:     ', loc='left')\n",
    "ax[1].hist(tgt_sample_list, bins=bins, align='left', stacked=True, alpha=.5, color='darkblue')\n",
    "ax[1].hist(miss_list, bins=bins, align='left', alpha=.05, bottom=[0, 0, 1, 4, 0], color='darkblue')\n",
    "ax[1].hist(add_list, bins=bins, align='left', alpha=1, bottom=[0, 0, 0, 0, 2], color='darkblue')\n",
    "ax[1].spines['top'].set_visible(False)\n",
    "ax[1].spines['right'].set_visible(False)\n",
    "# ax[1].spines['bottom'].set_visible(False)\n",
    "ax[1].spines['left'].set_visible(False)\n",
    "ax[1].get_yaxis().set_ticks([])\n",
    "ax[1].set_title('To:     ', loc='left')\n",
    "# fig.suptitle('Improve Customer Satisfaction', size=30, verticalalignment='bottom')\n",
    "# ax[0].annotate('Improve Customer Satisfaction', (5, 3), )\n",
    "# fig.tight_layout(pad=5)\n",
    "plt.show()"
   ]
  },
  {
   "cell_type": "code",
   "execution_count": null,
   "metadata": {},
   "outputs": [],
   "source": []
  },
  {
   "cell_type": "code",
   "execution_count": 360,
   "metadata": {},
   "outputs": [
    {
     "ename": "NameError",
     "evalue": "name 'stats_cols' is not defined",
     "output_type": "error",
     "traceback": [
      "\u001b[0;31m---------------------------------------------------------------------------\u001b[0m",
      "\u001b[0;31mNameError\u001b[0m                                 Traceback (most recent call last)",
      "\u001b[0;32m<ipython-input-360-c3fac9cb115c>\u001b[0m in \u001b[0;36m<module>\u001b[0;34m\u001b[0m\n\u001b[1;32m      1\u001b[0m \u001b[0mncols\u001b[0m\u001b[0;34m=\u001b[0m\u001b[0;36m3\u001b[0m\u001b[0;34m\u001b[0m\u001b[0;34m\u001b[0m\u001b[0m\n\u001b[0;32m----> 2\u001b[0;31m \u001b[0mnrows\u001b[0m\u001b[0;34m=\u001b[0m\u001b[0mmath\u001b[0m\u001b[0;34m.\u001b[0m\u001b[0mceil\u001b[0m\u001b[0;34m(\u001b[0m\u001b[0mlen\u001b[0m\u001b[0;34m(\u001b[0m\u001b[0mstats_cols\u001b[0m\u001b[0;34m)\u001b[0m\u001b[0;34m/\u001b[0m\u001b[0mncols\u001b[0m\u001b[0;34m)\u001b[0m\u001b[0;34m\u001b[0m\u001b[0;34m\u001b[0m\u001b[0m\n\u001b[0m\u001b[1;32m      3\u001b[0m \u001b[0mbins\u001b[0m\u001b[0;34m=\u001b[0m\u001b[0mrange\u001b[0m\u001b[0;34m(\u001b[0m\u001b[0;36m6\u001b[0m\u001b[0;34m)\u001b[0m\u001b[0;34m\u001b[0m\u001b[0;34m\u001b[0m\u001b[0m\n\u001b[1;32m      4\u001b[0m \u001b[0mfig\u001b[0m\u001b[0;34m,\u001b[0m \u001b[0max\u001b[0m\u001b[0;34m=\u001b[0m\u001b[0mplt\u001b[0m\u001b[0;34m.\u001b[0m\u001b[0msubplots\u001b[0m\u001b[0;34m(\u001b[0m\u001b[0mnrows\u001b[0m\u001b[0;34m,\u001b[0m \u001b[0mncols\u001b[0m\u001b[0;34m,\u001b[0m \u001b[0msharex\u001b[0m\u001b[0;34m=\u001b[0m\u001b[0;32mTrue\u001b[0m\u001b[0;34m,\u001b[0m \u001b[0msharey\u001b[0m\u001b[0;34m=\u001b[0m\u001b[0;32mTrue\u001b[0m\u001b[0;34m,\u001b[0m \u001b[0mfigsize\u001b[0m\u001b[0;34m=\u001b[0m\u001b[0;34m(\u001b[0m\u001b[0;36m10\u001b[0m\u001b[0;34m,\u001b[0m \u001b[0;36m5\u001b[0m\u001b[0;34m)\u001b[0m\u001b[0;34m)\u001b[0m\u001b[0;34m\u001b[0m\u001b[0;34m\u001b[0m\u001b[0m\n\u001b[1;32m      5\u001b[0m \u001b[0;32mfor\u001b[0m \u001b[0midx\u001b[0m\u001b[0;34m,\u001b[0m \u001b[0meach_col\u001b[0m \u001b[0;32min\u001b[0m \u001b[0menumerate\u001b[0m\u001b[0;34m(\u001b[0m\u001b[0mstats_cols\u001b[0m\u001b[0;34m)\u001b[0m\u001b[0;34m:\u001b[0m\u001b[0;34m\u001b[0m\u001b[0;34m\u001b[0m\u001b[0m\n",
      "\u001b[0;31mNameError\u001b[0m: name 'stats_cols' is not defined"
     ]
    }
   ],
   "source": [
    "ncols=3\n",
    "nrows=math.ceil(len(stats_cols)/ncols)\n",
    "bins=range(6)\n",
    "fig, ax=plt.subplots(nrows, ncols, sharex=True, sharey=True, figsize=(10, 5))\n",
    "for idx, each_col in enumerate(stats_cols): \n",
    "#     print(f'ax{math.floor(idx/ncols)}{idx%ncols}')\n",
    "    df[each_col].plot(kind='hist', ax=ax[math.floor(idx/ncols)][idx%ncols], bins=bins, align='right')\n",
    "#     df[[each_col, 'Week']].groupby('Week').mean().plot(ax=ax[math.floor(idx/ncols)][idx%ncols], legend=None)\n",
    "    ax[math.floor(idx/ncols)][idx%ncols].set_title(each_col)\n",
    "#     ax[math.floor(idx/ncols)][idx%ncols].legend(show=False)\n",
    "\n",
    "plt.tight_layout()"
   ]
  },
  {
   "cell_type": "code",
   "execution_count": 208,
   "metadata": {},
   "outputs": [
    {
     "data": {
      "text/plain": [
       "(3, 5)"
      ]
     },
     "execution_count": 208,
     "metadata": {},
     "output_type": "execute_result"
    },
    {
     "data": {
      "image/png": "[encoded data removed]",
      "text/plain": [
       "<Figure size 432x288 with 1 Axes>"
      ]
     },
     "metadata": {
      "needs_background": "light"
     },
     "output_type": "display_data"
    }
   ],
   "source": [
    "sample_means=[]\n",
    "for i in range(100): \n",
    "    sample_means.append(df['Overall Satisfaction'].sample(5).mean())\n",
    "plt.hist(sample_means)\n",
    "plt.xlim([3, 5])"
   ]
  },
  {
   "cell_type": "code",
   "execution_count": 303,
   "metadata": {},
   "outputs": [
    {
     "data": {
      "text/plain": [
       "3.945337620578778"
      ]
     },
     "metadata": {},
     "output_type": "display_data"
    },
    {
     "data": {
      "text/plain": [
       "4.0"
      ]
     },
     "metadata": {},
     "output_type": "display_data"
    },
    {
     "data": {
      "text/plain": [
       "0    4\n",
       "dtype: int64"
      ]
     },
     "metadata": {},
     "output_type": "display_data"
    }
   ],
   "source": [
    "display(df['Overall Satisfaction'].mean())\n",
    "display(df['Overall Satisfaction'].median())\n",
    "display(df['Overall Satisfaction'].mode())"
   ]
  },
  {
   "cell_type": "code",
   "execution_count": 183,
   "metadata": {
    "scrolled": true
   },
   "outputs": [
    {
     "data": {
      "text/plain": [
       "141"
      ]
     },
     "metadata": {},
     "output_type": "display_data"
    },
    {
     "data": {
      "text/plain": [
       "311"
      ]
     },
     "metadata": {},
     "output_type": "display_data"
    },
    {
     "name": "stdout",
     "output_type": "stream",
     "text": [
      "0.26366559485530544\n",
      "0.4533762057877814\n"
     ]
    }
   ],
   "source": [
    "display(len(df[df['Overall Satisfaction']==4]))\n",
    "display(len(df))\n",
    "print(f'{82/311}')\n",
    "print(f'{141/311}')"
   ]
  },
  {
   "cell_type": "code",
   "execution_count": 304,
   "metadata": {},
   "outputs": [
    {
     "data": {
      "text/plain": [
       "3.945337620578778"
      ]
     },
     "execution_count": 304,
     "metadata": {},
     "output_type": "execute_result"
    }
   ],
   "source": [
    "df['Overall Satisfaction'].values.mean()"
   ]
  },
  {
   "cell_type": "code",
   "execution_count": 380,
   "metadata": {
    "scrolled": true
   },
   "outputs": [
    {
     "data": {
      "image/png": "[encoded data removed]",
      "text/plain": [
       "<Figure size 720x360 with 8 Axes>"
      ]
     },
     "metadata": {
      "needs_background": "light"
     },
     "output_type": "display_data"
    }
   ],
   "source": [
    "bins=list(range(1, 6))\n",
    "bins_loc=[bin+0.5 for bin in bins]\n",
    "# df['Overall Satisfaction'].hist(bins=bins, figsize=(3.5, 8))\n",
    "# plt.vlines([df['Overall Satisfaction'].values.mean()+.5, np.median(df['Overall Satisfaction'].values)+.5], 0, 200, colors=['orange', 'blue'])\n",
    "# plt.xticks(bins_loc, bins)\n",
    "# plt.annotate(f'Mean: {round(df[\"Overall Satisfaction\"].values.mean(), 2)}', (1.5, 175), color='orange', size=15)\n",
    "# plt.annotate(f'Median: {round(np.median(df[\"Overall Satisfaction\"].values), 2)}', (1.5, 160), color='blue', size=15)\n",
    "# # plt.annotate(f'Mode: {np.round(sts.mode(df[\"Overall Satisfaction\"].values)[-1], 2)}', (1.5, 175), size=15)\n",
    "# plt.title(f'Overall Satisfaction\\nSTD: {round(np.std(df[\"Overall Satisfaction\"].values), 2)}')\n",
    "# plt.grid(None)\n",
    "# plt.xlabel('Rating')\n",
    "# plt.ylabel('Frequency')\n",
    "# plt.show()\n",
    "short_cols=[stat for stat in stats_cols if stat != 'Overall Satisfaction']\n",
    "ncols=4\n",
    "nrows=math.ceil(len(short_cols)/ncols)\n",
    "bins=list(range(1, 7))\n",
    "fig, ax=plt.subplots(nrows, ncols, sharex=True, sharey=True, figsize=(10, 5))\n",
    "for idx, each_col in enumerate(stats_cols): \n",
    "    df[each_col].plot(kind='hist', ax=ax[math.floor(idx/ncols)][idx%ncols], bins=bins)\n",
    "    ax[math.floor(idx/ncols)][idx%ncols].vlines([df[each_col].values.mean()+.5, np.median(df[each_col].values)+.5], 0, 200, colors=['orange', 'blue'])\n",
    "    ax[math.floor(idx/ncols)][idx%ncols].set_title(f'{each_col}\\nSTD: {round(np.std(df[each_col].values), 1)}')\n",
    "    ax[math.floor(idx/ncols)][idx%ncols].set_xticklabels(bins)\n",
    "    ax[math.floor(idx/ncols)][idx%ncols].set_xticks(bins_loc)\n",
    "\n",
    "ax[0][0].annotate(f'Mean: {round(df[\"Overall Satisfaction\"].values.mean(), 2)}', (1.5, 195), color='orange', size=10)\n",
    "ax[0][0].annotate(f'Median: {round(np.median(df[\"Overall Satisfaction\"].values), 2)}', (1.5, 175), color='blue', size=10)\n",
    "\n",
    "plt.tight_layout()"
   ]
  },
  {
   "cell_type": "code",
   "execution_count": 168,
   "metadata": {},
   "outputs": [
    {
     "data": {
      "text/plain": [
       "Overall Satisfaction            4.0\n",
       "Class Pace                      4.0\n",
       "Academic Support                4.0\n",
       "Apply Learning Outside Class    3.0\n",
       "Instructor Engagement           4.0\n",
       "Instructor Clarity              4.0\n",
       "Instructor Knowledge            5.0\n",
       "Homework Feedback Rating        3.0\n",
       "dtype: float64"
      ]
     },
     "execution_count": 168,
     "metadata": {},
     "output_type": "execute_result"
    }
   ],
   "source": [
    "df[stats_cols].median()"
   ]
  },
  {
   "cell_type": "code",
   "execution_count": 169,
   "metadata": {},
   "outputs": [
    {
     "data": {
      "text/plain": [
       "Overall Satisfaction            3.945338\n",
       "Class Pace                      3.723473\n",
       "Academic Support                4.019293\n",
       "Apply Learning Outside Class    3.450161\n",
       "Instructor Engagement           4.012862\n",
       "Instructor Clarity              3.964630\n",
       "Instructor Knowledge            4.337621\n",
       "Homework Feedback Rating        2.842444\n",
       "dtype: float64"
      ]
     },
     "execution_count": 169,
     "metadata": {},
     "output_type": "execute_result"
    }
   ],
   "source": [
    "df[stats_cols].mean()"
   ]
  },
  {
   "cell_type": "code",
   "execution_count": 130,
   "metadata": {
    "scrolled": false
   },
   "outputs": [
    {
     "data": {
      "text/html": [
       "<div>\n",
       "<style scoped>\n",
       "    .dataframe tbody tr th:only-of-type {\n",
       "        vertical-align: middle;\n",
       "    }\n",
       "\n",
       "    .dataframe tbody tr th {\n",
       "        vertical-align: top;\n",
       "    }\n",
       "\n",
       "    .dataframe thead th {\n",
       "        text-align: right;\n",
       "    }\n",
       "</style>\n",
       "<table border=\"1\" class=\"dataframe\">\n",
       "  <thead>\n",
       "    <tr style=\"text-align: right;\">\n",
       "      <th></th>\n",
       "      <th>Overall Satisfaction</th>\n",
       "      <th>Class Pace</th>\n",
       "      <th>Academic Support</th>\n",
       "      <th>Apply Learning Outside Class</th>\n",
       "      <th>Instructor Engagement</th>\n",
       "      <th>Instructor Clarity</th>\n",
       "      <th>Instructor Knowledge</th>\n",
       "      <th>Homework Feedback Rating</th>\n",
       "    </tr>\n",
       "  </thead>\n",
       "  <tbody>\n",
       "    <tr>\n",
       "      <th>0</th>\n",
       "      <td>4</td>\n",
       "      <td>4</td>\n",
       "      <td>4</td>\n",
       "      <td>3</td>\n",
       "      <td>4</td>\n",
       "      <td>4</td>\n",
       "      <td>5</td>\n",
       "      <td>5</td>\n",
       "    </tr>\n",
       "  </tbody>\n",
       "</table>\n",
       "</div>"
      ],
      "text/plain": [
       "   Overall Satisfaction  Class Pace  Academic Support  \\\n",
       "0                     4           4                 4   \n",
       "\n",
       "   Apply Learning Outside Class  Instructor Engagement  Instructor Clarity  \\\n",
       "0                             3                      4                   4   \n",
       "\n",
       "   Instructor Knowledge  Homework Feedback Rating  \n",
       "0                     5                         5  "
      ]
     },
     "execution_count": 130,
     "metadata": {},
     "output_type": "execute_result"
    }
   ],
   "source": [
    "df[stats_cols].mode()"
   ]
  },
  {
   "cell_type": "code",
   "execution_count": 139,
   "metadata": {},
   "outputs": [
    {
     "data": {
      "text/plain": [
       "4    141\n",
       "5     82\n",
       "3     79\n",
       "2      7\n",
       "1      2\n",
       "Name: Overall Satisfaction, dtype: int64"
      ]
     },
     "execution_count": 139,
     "metadata": {},
     "output_type": "execute_result"
    }
   ],
   "source": [
    "df['Overall Satisfaction'].value_counts()"
   ]
  },
  {
   "cell_type": "code",
   "execution_count": null,
   "metadata": {},
   "outputs": [],
   "source": []
  }
 ],
 "metadata": {
  "kernelspec": {
   "display_name": "Python 3",
   "language": "python",
   "name": "python3"
  },
  "language_info": {
   "codemirror_mode": {
    "name": "ipython",
    "version": 3
   },
   "file_extension": ".py",
   "mimetype": "text/x-python",
   "name": "python",
   "nbconvert_exporter": "python",
   "pygments_lexer": "ipython3",
   "version": "3.7.1"
  }
 },
 "nbformat": 4,
 "nbformat_minor": 2
}
