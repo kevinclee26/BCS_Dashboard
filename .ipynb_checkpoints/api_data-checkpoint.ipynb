{
 "cells": [
  {
   "cell_type": "code",
   "execution_count": 183,
   "metadata": {},
   "outputs": [],
   "source": [
    "import requests\n",
    "import config\n",
    "import json\n",
    "from pprint import pprint\n",
    "import matplotlib.pyplot as plt\n",
    "import pandas as pd"
   ]
  },
  {
   "cell_type": "code",
   "execution_count": 184,
   "metadata": {},
   "outputs": [],
   "source": [
    "base_url='https://www.bootcampspot.com/api/instructor/v1'\n",
    "login={\"email\": config.email,\n",
    "       \"password\": config.password}"
   ]
  },
  {
   "cell_type": "markdown",
   "metadata": {},
   "source": [
    "### login"
   ]
  },
  {
   "cell_type": "code",
   "execution_count": 235,
   "metadata": {
    "scrolled": true
   },
   "outputs": [],
   "source": [
    "response=requests.post(base_url+'/login', json=login)\n",
    "response_json=response.json()\n",
    "auth_token=response_json['authenticationInfo']['authToken']"
   ]
  },
  {
   "cell_type": "markdown",
   "metadata": {},
   "source": [
    "### me"
   ]
  },
  {
   "cell_type": "code",
   "execution_count": 237,
   "metadata": {},
   "outputs": [
    {
     "name": "stdout",
     "output_type": "stream",
     "text": [
      "Available Courses: \n"
     ]
    }
   ],
   "source": [
    "headers={'Content-Type': 'application/json', 'authToken': auth_token}\n",
    "response=requests.get(base_url+'/me', headers=headers)\n",
    "response_json=response.json()\n",
    "# display(pprint(response_json))\n",
    "courses=response_json['Enrollments']\n",
    "print('Available Courses: ')\n",
    "# for each_course in courses: \n",
    "#     print(each_course['course']['name'])"
   ]
  },
  {
   "cell_type": "code",
   "execution_count": 222,
   "metadata": {},
   "outputs": [],
   "source": [
    "def get_enrollmentId_courseId(course):\n",
    "    for each_course in courses: \n",
    "        if each_course['course']['name']==course: \n",
    "            return (each_course['id'], each_course['courseId'])\n",
    "    return (None, None)\n",
    "enrollmentId, courseId=get_enrollmentId_courseId('DU-DEN-DATA-PT-12-2020-U-C-TTH')\n",
    "# enrollmentId, courseId=get_enrollmentId_courseId('DU-DEN-DATA-PT-08-2020-U-C-MW')"
   ]
  },
  {
   "cell_type": "markdown",
   "metadata": {},
   "source": [
    "### grades"
   ]
  },
  {
   "cell_type": "code",
   "execution_count": 236,
   "metadata": {
    "scrolled": true
   },
   "outputs": [],
   "source": [
    "headers={'Content-Type': 'application/json', 'authToken': auth_token}\n",
    "payload={'courseId': courseId}\n",
    "response=requests.post(base_url+'/grades', headers=headers, json=payload)\n",
    "response_json=response.json()\n",
    "grades_df=pd.DataFrame(response_json)"
   ]
  },
  {
   "cell_type": "markdown",
   "metadata": {},
   "source": [
    "### assignments"
   ]
  },
  {
   "cell_type": "code",
   "execution_count": 224,
   "metadata": {},
   "outputs": [
    {
     "data": {
      "text/html": [
       "<div>\n",
       "<style scoped>\n",
       "    .dataframe tbody tr th:only-of-type {\n",
       "        vertical-align: middle;\n",
       "    }\n",
       "\n",
       "    .dataframe tbody tr th {\n",
       "        vertical-align: top;\n",
       "    }\n",
       "\n",
       "    .dataframe thead th {\n",
       "        text-align: right;\n",
       "    }\n",
       "</style>\n",
       "<table border=\"1\" class=\"dataframe\">\n",
       "  <thead>\n",
       "    <tr style=\"text-align: right;\">\n",
       "      <th></th>\n",
       "      <th>id</th>\n",
       "      <th>courseId</th>\n",
       "      <th>contextId</th>\n",
       "      <th>assignmentDate</th>\n",
       "      <th>dueDate</th>\n",
       "      <th>bufferDays</th>\n",
       "      <th>effectiveDueDate</th>\n",
       "      <th>title</th>\n",
       "      <th>required</th>\n",
       "      <th>requiredForGraduation</th>\n",
       "      <th>assignmentHeader</th>\n",
       "      <th>assignmentContent</th>\n",
       "      <th>assignmentHours</th>\n",
       "      <th>context</th>\n",
       "      <th>year</th>\n",
       "      <th>month</th>\n",
       "      <th>category</th>\n",
       "    </tr>\n",
       "  </thead>\n",
       "  <tbody>\n",
       "    <tr>\n",
       "      <th>0</th>\n",
       "      <td>89721</td>\n",
       "      <td>2930</td>\n",
       "      <td>1</td>\n",
       "      <td>2020-12-01T07:00:00Z</td>\n",
       "      <td>2020-12-13T06:59:59Z</td>\n",
       "      <td>0</td>\n",
       "      <td>2020-12-13T06:59:59Z</td>\n",
       "      <td>1. Excel Homework</td>\n",
       "      <td>True</td>\n",
       "      <td>False</td>\n",
       "      <td>{'id': 89585, 'assignmentId': 89721, 'header':...</td>\n",
       "      <td>None</td>\n",
       "      <td>None</td>\n",
       "      <td>{'id': 1, 'contextCode': 'academic', 'name': '...</td>\n",
       "      <td>0</td>\n",
       "      <td>0</td>\n",
       "      <td>{'code': 'academic', 'name': 'Academic'}</td>\n",
       "    </tr>\n",
       "    <tr>\n",
       "      <th>1</th>\n",
       "      <td>89713</td>\n",
       "      <td>2930</td>\n",
       "      <td>1</td>\n",
       "      <td>2020-12-08T07:00:00Z</td>\n",
       "      <td>2020-12-20T06:59:59Z</td>\n",
       "      <td>0</td>\n",
       "      <td>2020-12-20T06:59:59Z</td>\n",
       "      <td>2. Visual Basic Homework</td>\n",
       "      <td>True</td>\n",
       "      <td>False</td>\n",
       "      <td>{'id': 89577, 'assignmentId': 89713, 'header':...</td>\n",
       "      <td>None</td>\n",
       "      <td>None</td>\n",
       "      <td>{'id': 1, 'contextCode': 'academic', 'name': '...</td>\n",
       "      <td>0</td>\n",
       "      <td>0</td>\n",
       "      <td>{'code': 'academic', 'name': 'Academic'}</td>\n",
       "    </tr>\n",
       "    <tr>\n",
       "      <th>2</th>\n",
       "      <td>89708</td>\n",
       "      <td>2930</td>\n",
       "      <td>1</td>\n",
       "      <td>2020-12-15T07:00:00Z</td>\n",
       "      <td>2021-01-08T06:59:59Z</td>\n",
       "      <td>2</td>\n",
       "      <td>2021-01-10T06:59:59Z</td>\n",
       "      <td>3. Python Homework</td>\n",
       "      <td>True</td>\n",
       "      <td>False</td>\n",
       "      <td>{'id': 89572, 'assignmentId': 89708, 'header':...</td>\n",
       "      <td>None</td>\n",
       "      <td>None</td>\n",
       "      <td>{'id': 1, 'contextCode': 'academic', 'name': '...</td>\n",
       "      <td>0</td>\n",
       "      <td>0</td>\n",
       "      <td>{'code': 'academic', 'name': 'Academic'}</td>\n",
       "    </tr>\n",
       "    <tr>\n",
       "      <th>3</th>\n",
       "      <td>89706</td>\n",
       "      <td>2930</td>\n",
       "      <td>1</td>\n",
       "      <td>2021-01-05T07:00:00Z</td>\n",
       "      <td>2021-01-17T06:59:59Z</td>\n",
       "      <td>0</td>\n",
       "      <td>2021-01-17T06:59:59Z</td>\n",
       "      <td>4. Pandas Homework</td>\n",
       "      <td>True</td>\n",
       "      <td>False</td>\n",
       "      <td>{'id': 89570, 'assignmentId': 89706, 'header':...</td>\n",
       "      <td>None</td>\n",
       "      <td>None</td>\n",
       "      <td>{'id': 1, 'contextCode': 'academic', 'name': '...</td>\n",
       "      <td>0</td>\n",
       "      <td>0</td>\n",
       "      <td>{'code': 'academic', 'name': 'Academic'}</td>\n",
       "    </tr>\n",
       "    <tr>\n",
       "      <th>4</th>\n",
       "      <td>89726</td>\n",
       "      <td>2930</td>\n",
       "      <td>1</td>\n",
       "      <td>2021-01-12T07:00:00Z</td>\n",
       "      <td>2021-01-24T06:59:59Z</td>\n",
       "      <td>0</td>\n",
       "      <td>2021-01-24T06:59:59Z</td>\n",
       "      <td>5. Matplotlib Homework</td>\n",
       "      <td>True</td>\n",
       "      <td>False</td>\n",
       "      <td>{'id': 89590, 'assignmentId': 89726, 'header':...</td>\n",
       "      <td>None</td>\n",
       "      <td>None</td>\n",
       "      <td>{'id': 1, 'contextCode': 'academic', 'name': '...</td>\n",
       "      <td>0</td>\n",
       "      <td>0</td>\n",
       "      <td>{'code': 'academic', 'name': 'Academic'}</td>\n",
       "    </tr>\n",
       "  </tbody>\n",
       "</table>\n",
       "</div>"
      ],
      "text/plain": [
       "      id  courseId  contextId        assignmentDate               dueDate  \\\n",
       "0  89721      2930          1  2020-12-01T07:00:00Z  2020-12-13T06:59:59Z   \n",
       "1  89713      2930          1  2020-12-08T07:00:00Z  2020-12-20T06:59:59Z   \n",
       "2  89708      2930          1  2020-12-15T07:00:00Z  2021-01-08T06:59:59Z   \n",
       "3  89706      2930          1  2021-01-05T07:00:00Z  2021-01-17T06:59:59Z   \n",
       "4  89726      2930          1  2021-01-12T07:00:00Z  2021-01-24T06:59:59Z   \n",
       "\n",
       "   bufferDays      effectiveDueDate                     title  required  \\\n",
       "0           0  2020-12-13T06:59:59Z         1. Excel Homework      True   \n",
       "1           0  2020-12-20T06:59:59Z  2. Visual Basic Homework      True   \n",
       "2           2  2021-01-10T06:59:59Z        3. Python Homework      True   \n",
       "3           0  2021-01-17T06:59:59Z        4. Pandas Homework      True   \n",
       "4           0  2021-01-24T06:59:59Z    5. Matplotlib Homework      True   \n",
       "\n",
       "   requiredForGraduation                                   assignmentHeader  \\\n",
       "0                  False  {'id': 89585, 'assignmentId': 89721, 'header':...   \n",
       "1                  False  {'id': 89577, 'assignmentId': 89713, 'header':...   \n",
       "2                  False  {'id': 89572, 'assignmentId': 89708, 'header':...   \n",
       "3                  False  {'id': 89570, 'assignmentId': 89706, 'header':...   \n",
       "4                  False  {'id': 89590, 'assignmentId': 89726, 'header':...   \n",
       "\n",
       "  assignmentContent assignmentHours  \\\n",
       "0              None            None   \n",
       "1              None            None   \n",
       "2              None            None   \n",
       "3              None            None   \n",
       "4              None            None   \n",
       "\n",
       "                                             context  year  month  \\\n",
       "0  {'id': 1, 'contextCode': 'academic', 'name': '...     0      0   \n",
       "1  {'id': 1, 'contextCode': 'academic', 'name': '...     0      0   \n",
       "2  {'id': 1, 'contextCode': 'academic', 'name': '...     0      0   \n",
       "3  {'id': 1, 'contextCode': 'academic', 'name': '...     0      0   \n",
       "4  {'id': 1, 'contextCode': 'academic', 'name': '...     0      0   \n",
       "\n",
       "                                   category  \n",
       "0  {'code': 'academic', 'name': 'Academic'}  \n",
       "1  {'code': 'academic', 'name': 'Academic'}  \n",
       "2  {'code': 'academic', 'name': 'Academic'}  \n",
       "3  {'code': 'academic', 'name': 'Academic'}  \n",
       "4  {'code': 'academic', 'name': 'Academic'}  "
      ]
     },
     "execution_count": 224,
     "metadata": {},
     "output_type": "execute_result"
    }
   ],
   "source": [
    "headers={'Content-Type': 'application/json', 'authToken': auth_token}\n",
    "payload={'enrollmentId': enrollmentId}\n",
    "response=requests.post(base_url+'/assignments', headers=headers, json=payload)\n",
    "response_json=response.json()\n",
    "current_week_assignments=response_json['currentWeekAssignments']\n",
    "calendar_assignments=response_json['calendarAssignments']\n",
    "required_assignments=[each_assignment for each_assignment in calendar_assignments if each_assignment['required']==True]\n",
    "required_assignments_df=pd.DataFrame(required_assignments)\n",
    "required_assignments_df.head()"
   ]
  },
  {
   "cell_type": "markdown",
   "metadata": {},
   "source": [
    "### assignment_details"
   ]
  },
  {
   "cell_type": "code",
   "execution_count": 205,
   "metadata": {},
   "outputs": [
    {
     "data": {
      "text/plain": [
       "89721"
      ]
     },
     "execution_count": 205,
     "metadata": {},
     "output_type": "execute_result"
    }
   ],
   "source": [
    "assignmentId=int(required_assignments_df['id'][0])\n",
    "assignmentId"
   ]
  },
  {
   "cell_type": "code",
   "execution_count": 240,
   "metadata": {},
   "outputs": [
    {
     "name": "stdout",
     "output_type": "stream",
     "text": [
      "89721\n",
      "89713\n",
      "89708\n",
      "89706\n",
      "89726\n",
      "89723\n",
      "89720\n",
      "89717\n",
      "89718\n",
      "89715\n",
      "89705\n",
      "89707\n",
      "89725\n",
      "89722\n",
      "89719\n",
      "89716\n",
      "89714\n",
      "89712\n",
      "89709\n"
     ]
    }
   ],
   "source": [
    "headers={'Content-Type': 'application/json', 'authToken': auth_token}\n",
    "data=[]\n",
    "\n",
    "for idx, each_assignment in required_assignments_df['id'].iteritems(): \n",
    "    print(each_assignment)\n",
    "    payload={'assignmentId': int(each_assignment)}\n",
    "    response=requests.post(base_url+'/assignmentDetail', headers=headers, json=payload)\n",
    "\n",
    "    response_json=response.json()\n",
    "    assignment=response_json['assignment']\n",
    "    students=response_json['students']\n",
    "    \n",
    "    for each_student in students: \n",
    "        assignment_dict={}\n",
    "        good_record=False\n",
    "        try: \n",
    "            assignment_dict['assignment_due_date']=assignment['dueDate']\n",
    "            assignment_dict['assignment_header']=assignment['assignmentHeader']['header']\n",
    "            assignment_dict['student']=each_student['student']['firstName']+' '+each_student['student']['lastName']\n",
    "            assignment_dict['submission_date']=each_student['submission']['date']\n",
    "            assignment_dict['grade']=each_student['grade']['grade']\n",
    "            assignment_dict['grade_date']=each_student['grade']['date']\n",
    "            good_record=True\n",
    "        except: \n",
    "            pass\n",
    "#             print(f\"No submission for {each_student['student']['firstName']} for {assignment['assignmentHeader']['header']}\")\n",
    "        if good_record: \n",
    "                  data.append(assignment_dict)\n",
    "\n",
    "assignment_detail_df=pd.DataFrame(data)\n",
    "# assignment_detail_df.head()"
   ]
  },
  {
   "cell_type": "code",
   "execution_count": 241,
   "metadata": {},
   "outputs": [
    {
     "data": {
      "text/html": [
       "<div>\n",
       "<style scoped>\n",
       "    .dataframe tbody tr th:only-of-type {\n",
       "        vertical-align: middle;\n",
       "    }\n",
       "\n",
       "    .dataframe tbody tr th {\n",
       "        vertical-align: top;\n",
       "    }\n",
       "\n",
       "    .dataframe thead th {\n",
       "        text-align: right;\n",
       "    }\n",
       "</style>\n",
       "<table border=\"1\" class=\"dataframe\">\n",
       "  <thead>\n",
       "    <tr style=\"text-align: right;\">\n",
       "      <th></th>\n",
       "      <th>Count</th>\n",
       "    </tr>\n",
       "    <tr>\n",
       "      <th>assignment_header</th>\n",
       "      <th></th>\n",
       "    </tr>\n",
       "  </thead>\n",
       "  <tbody>\n",
       "    <tr>\n",
       "      <th>1. Excel Homework</th>\n",
       "      <td>40</td>\n",
       "    </tr>\n",
       "    <tr>\n",
       "      <th>10. SQLAlchemy Homework</th>\n",
       "      <td>34</td>\n",
       "    </tr>\n",
       "    <tr>\n",
       "      <th>11. HTML and CSS Homework</th>\n",
       "      <td>29</td>\n",
       "    </tr>\n",
       "    <tr>\n",
       "      <th>12. Web Scraping and Mongo Homework</th>\n",
       "      <td>16</td>\n",
       "    </tr>\n",
       "    <tr>\n",
       "      <th>2. Visual Basic Homework</th>\n",
       "      <td>37</td>\n",
       "    </tr>\n",
       "    <tr>\n",
       "      <th>3. Python Homework</th>\n",
       "      <td>38</td>\n",
       "    </tr>\n",
       "    <tr>\n",
       "      <th>4. Pandas Homework</th>\n",
       "      <td>37</td>\n",
       "    </tr>\n",
       "    <tr>\n",
       "      <th>5. Matplotlib Homework</th>\n",
       "      <td>36</td>\n",
       "    </tr>\n",
       "    <tr>\n",
       "      <th>6. Python APIs Homework</th>\n",
       "      <td>32</td>\n",
       "    </tr>\n",
       "    <tr>\n",
       "      <th>9. SQL Homework</th>\n",
       "      <td>35</td>\n",
       "    </tr>\n",
       "    <tr>\n",
       "      <th>Project 1</th>\n",
       "      <td>37</td>\n",
       "    </tr>\n",
       "  </tbody>\n",
       "</table>\n",
       "</div>"
      ],
      "text/plain": [
       "                                     Count\n",
       "assignment_header                         \n",
       "1. Excel Homework                       40\n",
       "10. SQLAlchemy Homework                 34\n",
       "11. HTML and CSS Homework               29\n",
       "12. Web Scraping and Mongo Homework     16\n",
       "2. Visual Basic Homework                37\n",
       "3. Python Homework                      38\n",
       "4. Pandas Homework                      37\n",
       "5. Matplotlib Homework                  36\n",
       "6. Python APIs Homework                 32\n",
       "9. SQL Homework                         35\n",
       "Project 1                               37"
      ]
     },
     "execution_count": 241,
     "metadata": {},
     "output_type": "execute_result"
    }
   ],
   "source": [
    "pd.DataFrame(assignment_detail_df.groupby('assignment_header').size(), columns=['Count'])"
   ]
  },
  {
   "cell_type": "code",
   "execution_count": 242,
   "metadata": {},
   "outputs": [],
   "source": [
    "# assignment_detail_df[assignment_detail_df['assignment_header']=='11. HTML and CSS Homework']['student']"
   ]
  },
  {
   "cell_type": "code",
   "execution_count": 243,
   "metadata": {
    "scrolled": true
   },
   "outputs": [],
   "source": [
    "# pd.DataFrame(assignment_detail_df.groupby('student').size(), columns=['Count']).sort_values(by='Count')"
   ]
  },
  {
   "cell_type": "code",
   "execution_count": 229,
   "metadata": {},
   "outputs": [],
   "source": [
    "# assignment_detail_df['grade_date']=pd.to_datetime(assignment_detail_df['grade_date'])"
   ]
  },
  {
   "cell_type": "code",
   "execution_count": 230,
   "metadata": {},
   "outputs": [
    {
     "data": {
      "text/html": [
       "<div>\n",
       "<style scoped>\n",
       "    .dataframe tbody tr th:only-of-type {\n",
       "        vertical-align: middle;\n",
       "    }\n",
       "\n",
       "    .dataframe tbody tr th {\n",
       "        vertical-align: top;\n",
       "    }\n",
       "\n",
       "    .dataframe thead th {\n",
       "        text-align: right;\n",
       "    }\n",
       "</style>\n",
       "<table border=\"1\" class=\"dataframe\">\n",
       "  <thead>\n",
       "    <tr style=\"text-align: right;\">\n",
       "      <th></th>\n",
       "      <th>assignment_due_date</th>\n",
       "      <th>assignment_header</th>\n",
       "      <th>student</th>\n",
       "      <th>submission_date</th>\n",
       "      <th>grade</th>\n",
       "      <th>grade_date</th>\n",
       "    </tr>\n",
       "  </thead>\n",
       "  <tbody>\n",
       "    <tr>\n",
       "      <th>0</th>\n",
       "      <td>2020-12-13T06:59:59Z</td>\n",
       "      <td>1. Excel Homework</td>\n",
       "      <td>Aishwarya rao Ala</td>\n",
       "      <td>2020-12-12T02:34:37.782926Z</td>\n",
       "      <td>A</td>\n",
       "      <td>2020-12-16 04:27:37.475480+00:00</td>\n",
       "    </tr>\n",
       "    <tr>\n",
       "      <th>1</th>\n",
       "      <td>2020-12-13T06:59:59Z</td>\n",
       "      <td>1. Excel Homework</td>\n",
       "      <td>Alyson Amtman</td>\n",
       "      <td>2020-12-08T00:23:40.614206Z</td>\n",
       "      <td>A</td>\n",
       "      <td>2020-12-16 03:27:38.872976+00:00</td>\n",
       "    </tr>\n",
       "    <tr>\n",
       "      <th>2</th>\n",
       "      <td>2020-12-13T06:59:59Z</td>\n",
       "      <td>1. Excel Homework</td>\n",
       "      <td>Andre Shearer</td>\n",
       "      <td>2020-12-12T01:26:27.883387Z</td>\n",
       "      <td>A+</td>\n",
       "      <td>2020-12-16 04:27:47.810325+00:00</td>\n",
       "    </tr>\n",
       "    <tr>\n",
       "      <th>3</th>\n",
       "      <td>2020-12-13T06:59:59Z</td>\n",
       "      <td>1. Excel Homework</td>\n",
       "      <td>Anna Kantor</td>\n",
       "      <td>2020-12-12T04:44:15.970044Z</td>\n",
       "      <td>A+</td>\n",
       "      <td>2020-12-16 17:28:01.193589+00:00</td>\n",
       "    </tr>\n",
       "    <tr>\n",
       "      <th>4</th>\n",
       "      <td>2020-12-13T06:59:59Z</td>\n",
       "      <td>1. Excel Homework</td>\n",
       "      <td>Anna Sours</td>\n",
       "      <td>2020-12-11T23:08:36.207606Z</td>\n",
       "      <td>A</td>\n",
       "      <td>2020-12-16 02:28:17.102561+00:00</td>\n",
       "    </tr>\n",
       "    <tr>\n",
       "      <th>...</th>\n",
       "      <td>...</td>\n",
       "      <td>...</td>\n",
       "      <td>...</td>\n",
       "      <td>...</td>\n",
       "      <td>...</td>\n",
       "      <td>...</td>\n",
       "    </tr>\n",
       "    <tr>\n",
       "      <th>350</th>\n",
       "      <td>2021-03-07T06:59:59Z</td>\n",
       "      <td>11. HTML and CSS Homework</td>\n",
       "      <td>Swati Dham</td>\n",
       "      <td>2021-03-07T06:46:16.009791Z</td>\n",
       "      <td>A+</td>\n",
       "      <td>2021-03-09 16:08:22.408729+00:00</td>\n",
       "    </tr>\n",
       "    <tr>\n",
       "      <th>351</th>\n",
       "      <td>2021-03-07T06:59:59Z</td>\n",
       "      <td>11. HTML and CSS Homework</td>\n",
       "      <td>TJ Ossola</td>\n",
       "      <td>2021-03-06T20:10:43.342816Z</td>\n",
       "      <td>A+</td>\n",
       "      <td>2021-03-09 18:08:11.025031+00:00</td>\n",
       "    </tr>\n",
       "    <tr>\n",
       "      <th>352</th>\n",
       "      <td>2021-03-07T06:59:59Z</td>\n",
       "      <td>11. HTML and CSS Homework</td>\n",
       "      <td>Tricia Harris</td>\n",
       "      <td>2021-03-06T04:26:53.704045Z</td>\n",
       "      <td>A</td>\n",
       "      <td>2021-03-09 22:09:13.243059+00:00</td>\n",
       "    </tr>\n",
       "    <tr>\n",
       "      <th>353</th>\n",
       "      <td>2021-03-07T06:59:59Z</td>\n",
       "      <td>11. HTML and CSS Homework</td>\n",
       "      <td>Verity Fiadonu</td>\n",
       "      <td>2021-03-06T22:16:30.322704Z</td>\n",
       "      <td>A+</td>\n",
       "      <td>2021-03-10 00:08:18.007096+00:00</td>\n",
       "    </tr>\n",
       "    <tr>\n",
       "      <th>354</th>\n",
       "      <td>2021-03-07T06:59:59Z</td>\n",
       "      <td>11. HTML and CSS Homework</td>\n",
       "      <td>William Riebel</td>\n",
       "      <td>2021-03-15T03:53:01.413482Z</td>\n",
       "      <td>A-</td>\n",
       "      <td>2021-03-17 12:12:08.876111+00:00</td>\n",
       "    </tr>\n",
       "  </tbody>\n",
       "</table>\n",
       "<p>355 rows × 6 columns</p>\n",
       "</div>"
      ],
      "text/plain": [
       "      assignment_due_date          assignment_header            student  \\\n",
       "0    2020-12-13T06:59:59Z          1. Excel Homework  Aishwarya rao Ala   \n",
       "1    2020-12-13T06:59:59Z          1. Excel Homework      Alyson Amtman   \n",
       "2    2020-12-13T06:59:59Z          1. Excel Homework      Andre Shearer   \n",
       "3    2020-12-13T06:59:59Z          1. Excel Homework        Anna Kantor   \n",
       "4    2020-12-13T06:59:59Z          1. Excel Homework         Anna Sours   \n",
       "..                    ...                        ...                ...   \n",
       "350  2021-03-07T06:59:59Z  11. HTML and CSS Homework         Swati Dham   \n",
       "351  2021-03-07T06:59:59Z  11. HTML and CSS Homework          TJ Ossola   \n",
       "352  2021-03-07T06:59:59Z  11. HTML and CSS Homework      Tricia Harris   \n",
       "353  2021-03-07T06:59:59Z  11. HTML and CSS Homework     Verity Fiadonu   \n",
       "354  2021-03-07T06:59:59Z  11. HTML and CSS Homework     William Riebel   \n",
       "\n",
       "                 submission_date grade                       grade_date  \n",
       "0    2020-12-12T02:34:37.782926Z     A 2020-12-16 04:27:37.475480+00:00  \n",
       "1    2020-12-08T00:23:40.614206Z     A 2020-12-16 03:27:38.872976+00:00  \n",
       "2    2020-12-12T01:26:27.883387Z    A+ 2020-12-16 04:27:47.810325+00:00  \n",
       "3    2020-12-12T04:44:15.970044Z    A+ 2020-12-16 17:28:01.193589+00:00  \n",
       "4    2020-12-11T23:08:36.207606Z     A 2020-12-16 02:28:17.102561+00:00  \n",
       "..                           ...   ...                              ...  \n",
       "350  2021-03-07T06:46:16.009791Z    A+ 2021-03-09 16:08:22.408729+00:00  \n",
       "351  2021-03-06T20:10:43.342816Z    A+ 2021-03-09 18:08:11.025031+00:00  \n",
       "352  2021-03-06T04:26:53.704045Z     A 2021-03-09 22:09:13.243059+00:00  \n",
       "353  2021-03-06T22:16:30.322704Z    A+ 2021-03-10 00:08:18.007096+00:00  \n",
       "354  2021-03-15T03:53:01.413482Z    A- 2021-03-17 12:12:08.876111+00:00  \n",
       "\n",
       "[355 rows x 6 columns]"
      ]
     },
     "execution_count": 230,
     "metadata": {},
     "output_type": "execute_result"
    }
   ],
   "source": [
    "# assignment_detail_df"
   ]
  },
  {
   "cell_type": "code",
   "execution_count": 231,
   "metadata": {
    "scrolled": true
   },
   "outputs": [
    {
     "data": {
      "text/plain": [
       "A+            176\n",
       "A             115\n",
       "A-             21\n",
       "B+             17\n",
       "B              10\n",
       "I               4\n",
       "C+              3\n",
       "Incomplete      2\n",
       "C               2\n",
       "B-              2\n",
       "D               1\n",
       "F               1\n",
       "D-              1\n",
       "Name: grade, dtype: int64"
      ]
     },
     "execution_count": 231,
     "metadata": {},
     "output_type": "execute_result"
    }
   ],
   "source": [
    "assignment_detail_df['grade'].value_counts()"
   ]
  },
  {
   "cell_type": "code",
   "execution_count": 232,
   "metadata": {
    "scrolled": true
   },
   "outputs": [
    {
     "data": {
      "text/plain": [
       "A+            175\n",
       "A             117\n",
       "A-             21\n",
       "B+             17\n",
       "B              10\n",
       "I               4\n",
       "C+              3\n",
       "C               2\n",
       "Incomplete      2\n",
       "B-              2\n",
       "D               1\n",
       "F               1\n",
       "D-              1\n",
       "Name: grade, dtype: int64"
      ]
     },
     "execution_count": 232,
     "metadata": {},
     "output_type": "execute_result"
    }
   ],
   "source": [
    "df['grade'].value_counts()"
   ]
  }
 ],
 "metadata": {
  "kernelspec": {
   "display_name": "Python 3",
   "language": "python",
   "name": "python3"
  },
  "language_info": {
   "codemirror_mode": {
    "name": "ipython",
    "version": 3
   },
   "file_extension": ".py",
   "mimetype": "text/x-python",
   "name": "python",
   "nbconvert_exporter": "python",
   "pygments_lexer": "ipython3",
   "version": "3.7.1"
  }
 },
 "nbformat": 4,
 "nbformat_minor": 2
}
