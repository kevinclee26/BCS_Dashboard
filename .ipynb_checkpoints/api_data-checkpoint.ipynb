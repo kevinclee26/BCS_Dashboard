{
 "cells": [
  {
   "cell_type": "code",
   "execution_count": 29,
   "metadata": {},
   "outputs": [],
   "source": [
    "import requests\n",
    "import config\n",
    "import json\n",
    "from pprint import pprint\n",
    "import matplotlib.pyplot as plt\n",
    "import pandas as pd"
   ]
  },
  {
   "cell_type": "code",
   "execution_count": 30,
   "metadata": {},
   "outputs": [],
   "source": [
    "base_url='https://www.bootcampspot.com/api/instructor/v1'\n",
    "login={\"email\": config.email,\n",
    "       \"password\": config.password}"
   ]
  },
  {
   "cell_type": "markdown",
   "metadata": {},
   "source": [
    "### login"
   ]
  },
  {
   "cell_type": "code",
   "execution_count": 31,
   "metadata": {
    "scrolled": true
   },
   "outputs": [],
   "source": [
    "response=requests.post(base_url+'/login', json=login)\n",
    "response_json=response.json()\n",
    "auth_token=response_json['authenticationInfo']['authToken']"
   ]
  },
  {
   "cell_type": "markdown",
   "metadata": {},
   "source": [
    "### me"
   ]
  },
  {
   "cell_type": "code",
   "execution_count": 32,
   "metadata": {},
   "outputs": [],
   "source": [
    "headers={'Content-Type': 'application/json', 'authToken': auth_token}\n",
    "response=requests.get(base_url+'/me', headers=headers)\n",
    "response_json=response.json()\n",
    "# display(pprint(response_json))\n",
    "courses=response_json['Enrollments']\n",
    "# print('Available Courses: ')\n",
    "# for each_course in courses: \n",
    "#     print(each_course['course']['name'])"
   ]
  },
  {
   "cell_type": "code",
   "execution_count": 33,
   "metadata": {},
   "outputs": [],
   "source": [
    "def get_enrollmentId_courseId(course):\n",
    "    for each_course in courses: \n",
    "        if each_course['course']['name']==course: \n",
    "            return (each_course['id'], each_course['courseId'])\n",
    "    return (None, None)\n",
    "enrollmentId, courseId=get_enrollmentId_courseId('DU-DEN-DATA-PT-12-2020-U-C-TTH')\n",
    "# enrollmentId, courseId=get_enrollmentId_courseId('DU-DEN-DATA-PT-08-2020-U-C-MW')"
   ]
  },
  {
   "cell_type": "markdown",
   "metadata": {},
   "source": [
    "### grades"
   ]
  },
  {
   "cell_type": "code",
   "execution_count": 34,
   "metadata": {
    "scrolled": true
   },
   "outputs": [],
   "source": [
    "headers={'Content-Type': 'application/json', 'authToken': auth_token}\n",
    "payload={'courseId': courseId}\n",
    "response=requests.post(base_url+'/grades', headers=headers, json=payload)\n",
    "response_json=response.json()\n",
    "grades_df=pd.DataFrame(response_json)"
   ]
  },
  {
   "cell_type": "markdown",
   "metadata": {},
   "source": [
    "### assignments"
   ]
  },
  {
   "cell_type": "code",
   "execution_count": 35,
   "metadata": {},
   "outputs": [],
   "source": [
    "headers={'Content-Type': 'application/json', 'authToken': auth_token}\n",
    "payload={'enrollmentId': enrollmentId}\n",
    "response=requests.post(base_url+'/assignments', headers=headers, json=payload)\n",
    "response_json=response.json()\n",
    "current_week_assignments=response_json['currentWeekAssignments']\n",
    "calendar_assignments=response_json['calendarAssignments']\n",
    "required_assignments=[each_assignment for each_assignment in calendar_assignments if each_assignment['required']==True]\n",
    "required_assignments_df=pd.DataFrame(required_assignments)\n",
    "# required_assignments_df.head()"
   ]
  },
  {
   "cell_type": "markdown",
   "metadata": {},
   "source": [
    "### assignment_details"
   ]
  },
  {
   "cell_type": "code",
   "execution_count": 36,
   "metadata": {},
   "outputs": [],
   "source": [
    "# assignmentId=int(required_assignments_df['id'][0])\n",
    "# assignmentId"
   ]
  },
  {
   "cell_type": "code",
   "execution_count": 37,
   "metadata": {},
   "outputs": [],
   "source": [
    "headers={'Content-Type': 'application/json', 'authToken': auth_token}\n",
    "data=[]\n",
    "\n",
    "for idx, each_assignment in required_assignments_df['id'].iteritems(): \n",
    "#     print(each_assignment)\n",
    "    payload={'assignmentId': int(each_assignment)}\n",
    "    response=requests.post(base_url+'/assignmentDetail', headers=headers, json=payload)\n",
    "\n",
    "    response_json=response.json()\n",
    "    assignment=response_json['assignment']\n",
    "    students=response_json['students']\n",
    "    \n",
    "    for each_student in students: \n",
    "        assignment_dict={}\n",
    "        good_record=False\n",
    "        try: \n",
    "            assignment_dict['assignment_due_date']=assignment['dueDate']\n",
    "            assignment_dict['assignment_header']=assignment['assignmentHeader']['header']\n",
    "            assignment_dict['assignment_number']=assignment['assignmentHeader']['header'].split('.')[0]\n",
    "            assignment_dict['student']=each_student['student']['firstName']+' '+each_student['student']['lastName']\n",
    "            assignment_dict['submission_date']=each_student['submission']['date']\n",
    "            assignment_dict['grade']=each_student['grade']['grade']\n",
    "            assignment_dict['grade_date']=each_student['grade']['date']\n",
    "            good_record=True\n",
    "        except: \n",
    "            pass\n",
    "#             print(f\"No submission for {each_student['student']['firstName']} for {assignment['assignmentHeader']['header']}\")\n",
    "        if good_record: \n",
    "                  data.append(assignment_dict)\n",
    "\n",
    "assignment_detail_df=pd.DataFrame(data)\n",
    "# assignment_detail_df.head()"
   ]
  },
  {
   "cell_type": "code",
   "execution_count": 70,
   "metadata": {},
   "outputs": [
    {
     "data": {
      "text/plain": [
       "<matplotlib.legend.Legend at 0x7ffe8e36ada0>"
      ]
     },
     "execution_count": 70,
     "metadata": {},
     "output_type": "execute_result"
    },
    {
     "data": {
      "image/png": "[encoded data removed]",
      "text/plain": [
       "<Figure size 648x216 with 1 Axes>"
      ]
     },
     "metadata": {
      "needs_background": "light"
     },
     "output_type": "display_data"
    }
   ],
   "source": [
    "assignment_detail_df=assignment_detail_df.loc[assignment_detail_df['assignment_number'].str.isnumeric()]\n",
    "assignment_grades=assignment_detail_df.pivot_table(index='assignment_header', columns='grade', aggfunc='size')\n",
    "assignment_grades.sort_index(key=lambda x: x.str.split('.').str[0].astype(int)).plot(kind='bar', stacked=True, legend=None, figsize=(9, 3))\n",
    "plt.legend(loc='center left', bbox_to_anchor=(1.0, 0.5))"
   ]
  },
  {
   "cell_type": "code",
   "execution_count": 14,
   "metadata": {},
   "outputs": [],
   "source": [
    "# assignment_detail_df[assignment_detail_df['assignment_header']=='11. HTML and CSS Homework']['student']"
   ]
  },
  {
   "cell_type": "code",
   "execution_count": 15,
   "metadata": {
    "scrolled": true
   },
   "outputs": [],
   "source": [
    "# pd.DataFrame(assignment_detail_df.groupby('student').size(), columns=['Count']).sort_values(by='Count')"
   ]
  },
  {
   "cell_type": "code",
   "execution_count": 16,
   "metadata": {},
   "outputs": [],
   "source": [
    "# assignment_detail_df['grade_date']=pd.to_datetime(assignment_detail_df['grade_date'])"
   ]
  },
  {
   "cell_type": "code",
   "execution_count": 17,
   "metadata": {},
   "outputs": [],
   "source": [
    "# assignment_detail_df"
   ]
  },
  {
   "cell_type": "code",
   "execution_count": 18,
   "metadata": {
    "scrolled": true
   },
   "outputs": [
    {
     "data": {
      "text/plain": [
       "A+            217\n",
       "A             175\n",
       "A-             29\n",
       "B+             22\n",
       "B              13\n",
       "C               5\n",
       "I               4\n",
       "B-              4\n",
       "C+              3\n",
       "Incomplete      3\n",
       "C-              1\n",
       "D               1\n",
       "F               1\n",
       "D-              1\n",
       "Name: grade, dtype: int64"
      ]
     },
     "execution_count": 18,
     "metadata": {},
     "output_type": "execute_result"
    }
   ],
   "source": [
    "assignment_detail_df['grade'].value_counts()"
   ]
  },
  {
   "cell_type": "code",
   "execution_count": 20,
   "metadata": {
    "scrolled": true
   },
   "outputs": [],
   "source": [
    "# df['grade'].value_counts()"
   ]
  },
  {
   "cell_type": "code",
   "execution_count": null,
   "metadata": {},
   "outputs": [],
   "source": []
  }
 ],
 "metadata": {
  "kernelspec": {
   "display_name": "Python 3",
   "language": "python",
   "name": "python3"
  },
  "language_info": {
   "codemirror_mode": {
    "name": "ipython",
    "version": 3
   },
   "file_extension": ".py",
   "mimetype": "text/x-python",
   "name": "python",
   "nbconvert_exporter": "python",
   "pygments_lexer": "ipython3",
   "version": "3.7.1"
  }
 },
 "nbformat": 4,
 "nbformat_minor": 2
}
